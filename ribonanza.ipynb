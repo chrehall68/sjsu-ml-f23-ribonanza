{
 "cells": [
  {
   "cell_type": "markdown",
   "source": [],
   "metadata": {
    "collapsed": false
   },
   "id": "ed8a81dd6608fcf2"
  },
  {
   "cell_type": "markdown",
   "source": [
    "# ML@SJSU Ribonanza Project\n",
    "### Active Members / Roles\n",
    "Haydon Behl / Project Lead\n",
    "Neal Chandra\n",
    "Eliot Hall\n",
    "<div style=\"text-align: right\">If your name isn't here| yet, add it to the Project Members google sheet (or speak to me abt it)  -Haydon&nbsp;&nbsp;&nbsp;</div>"
   ],
   "metadata": {
    "collapsed": false
   },
   "id": "658eee87e2f641d0"
  },
  {
   "cell_type": "markdown",
   "source": [
    "## Todo list\n",
    "- [x] Finish baseline model\n",
    "- [ ] Convert data preprocess pipeline\n",
    "| Current data format: 000100010001...[1 rows, 1644 columns, batchsize 32]\n",
    "| New data format: 0001,0001,0001...[4 rows, 411 columns, batchsize 32]\n",
    "| Assigned Members: Neal, Haydon\n",
    "- [ ] Create 2-label Classification model (Reactive / Non-Reactive)\n",
    "- [ ] Produce a submission with current model (and design a better way to process test_sequences.csv)\n",
    "| Assigned Members: Haydon\n"
   ],
   "metadata": {
    "collapsed": false
   },
   "id": "e0703a07b1bddafd"
  },
  {
   "cell_type": "markdown",
   "source": [
    "### Getting Started Instructions\n",
    "1. Create a new project with your IDE (recommended: pycharm)\n",
    "2. Keep this .ipynb notebook in the root directory of your project.\n",
    "3. Download all files from the Kaggle page.\n",
    "4. Extract to ./input (notebook should be able to reach './input/train_data.csv')\n",
    "5. Using a conda venv (recommended) install the required modules below. "
   ],
   "metadata": {
    "collapsed": false
   },
   "id": "a3c568dbf9b263e5"
  },
  {
   "cell_type": "markdown",
   "source": [
    "### Modules"
   ],
   "metadata": {
    "collapsed": false
   },
   "id": "12705f1265be8a48"
  },
  {
   "cell_type": "code",
   "execution_count": 1,
   "id": "744f5b758414313b",
   "metadata": {
    "pycharm": {
     "name": "#%%\n"
    },
    "ExecuteTime": {
     "end_time": "2023-10-03T19:09:38.288011500Z",
     "start_time": "2023-10-03T19:09:33.958420400Z"
    }
   },
   "outputs": [],
   "source": [
    "import os\n",
    "import time\n",
    "import warnings\n",
    "\n",
    "import tensorflow as tf\n",
    "import tensorflow_probability as tfp\n",
    "import numpy as np\n",
    "import pandas as pd\n",
    "#import prince # multiple correspondence analysis\n",
    "#import altair as alt # data transformer, pre-evaluates data\n",
    "#from sklearn.tree import DecisionTreeRegressor\n",
    "#from sklearn.ensemble import RandomForestRegressor\n",
    "#from xgboost import XGBRegressor\n",
    "from sklearn.model_selection import train_test_split\n",
    "from sklearn.metrics import mean_absolute_error\n",
    "import seaborn as sns\n",
    "#import matplotlib.pyplot as plt # data visuals with matplotlib my beloved"
   ]
  },
  {
   "cell_type": "markdown",
   "source": [
    "### Load Data / Inspect\n",
    "Note: Only run if you don't already have preprocessed data local on your machine (ex. train_2A3_1000.bin)"
   ],
   "metadata": {
    "collapsed": false
   },
   "id": "39d6e3980282d287"
  },
  {
   "cell_type": "code",
   "execution_count": 3,
   "outputs": [],
   "source": [
    "# Load data\n",
    "data = pd.read_csv('./input/train_data.csv')\n",
    "train_data, test_data = train_test_split(data)\n",
    "train_2A3_MaP, train_DMS_MaP, test_2A3_MaP, test_DMS_MaP = 0, 0, 0, 0\n",
    "for i, g in test_data.groupby('experiment_type'):\n",
    "    globals()['test_' + str(i)] = g\n",
    "for i, g in train_data.groupby('experiment_type'):\n",
    "    globals()['train_' + str(i)] = g"
   ],
   "metadata": {
    "collapsed": false,
    "ExecuteTime": {
     "end_time": "2023-10-03T15:59:01.086521Z",
     "start_time": "2023-10-03T15:55:06.693992900Z"
    }
   },
   "id": "9aa06e4b797913da"
  },
  {
   "cell_type": "code",
   "execution_count": 2,
   "outputs": [
    {
     "ename": "NameError",
     "evalue": "name 'test_2A3_MaP' is not defined",
     "output_type": "error",
     "traceback": [
      "\u001B[1;31m---------------------------------------------------------------------------\u001B[0m",
      "\u001B[1;31mNameError\u001B[0m                                 Traceback (most recent call last)",
      "Cell \u001B[1;32mIn[2], line 4\u001B[0m\n\u001B[0;32m      2\u001B[0m reactivities_2A3 \u001B[38;5;241m=\u001B[39m []\n\u001B[0;32m      3\u001B[0m reactivities_DMS \u001B[38;5;241m=\u001B[39m []\n\u001B[1;32m----> 4\u001B[0m \u001B[38;5;28;01mfor\u001B[39;00m index, row \u001B[38;5;129;01min\u001B[39;00m \u001B[43mtest_2A3_MaP\u001B[49m\u001B[38;5;241m.\u001B[39miterrows():\n\u001B[0;32m      5\u001B[0m     seq \u001B[38;5;241m=\u001B[39m row[\u001B[38;5;124m'\u001B[39m\u001B[38;5;124msequence\u001B[39m\u001B[38;5;124m'\u001B[39m]\n\u001B[0;32m      6\u001B[0m     \u001B[38;5;28;01mfor\u001B[39;00m i \u001B[38;5;129;01min\u001B[39;00m \u001B[38;5;28mrange\u001B[39m(\u001B[38;5;28mlen\u001B[39m(seq)):\n",
      "\u001B[1;31mNameError\u001B[0m: name 'test_2A3_MaP' is not defined"
     ]
    }
   ],
   "source": [
    "# View Distribution of Reactivities\n",
    "reactivities_2A3 = []\n",
    "reactivities_DMS = []\n",
    "for index, row in test_2A3_MaP.iterrows():\n",
    "    seq = row['sequence']\n",
    "    for i in range(len(seq)):\n",
    "        if i<9:\n",
    "            r = row['reactivity_000'+str(i+1)]\n",
    "        elif i<99:\n",
    "            r = row['reactivity_00'+str(i+1)]\n",
    "        else:\n",
    "            r = row['reactivity_0'+str(i+1)]\n",
    "        if not np.isnan(r):\n",
    "            reactivities_2A3.append(r)\n",
    "for index, row in test_DMS_MaP.iterrows():\n",
    "    seq = row['sequence']\n",
    "    for i in range(len(seq)):\n",
    "        if i<9:\n",
    "            r = row['reactivity_000'+str(i+1)]\n",
    "        elif i<99:\n",
    "            r = row['reactivity_00'+str(i+1)]\n",
    "        else:\n",
    "            r = row['reactivity_0'+str(i+1)]\n",
    "        if not np.isnan(r):\n",
    "            reactivities_DMS.append(r)\n",
    "reactivities_2A3 = np.array(reactivities_2A3)\n",
    "reactivities_DMS = np.array(reactivities_DMS)"
   ],
   "metadata": {
    "collapsed": false,
    "ExecuteTime": {
     "end_time": "2023-10-03T19:09:39.657019700Z",
     "start_time": "2023-10-03T19:09:38.291034500Z"
    }
   },
   "id": "16fed4c575ca3892"
  },
  {
   "cell_type": "code",
   "execution_count": null,
   "outputs": [],
   "source": [
    "reactivities_DMS = [r for r in reactivities_DMS if 5 > r > -3]\n",
    "reactivities_2A3 = [r for r in reactivities_2A3 if 5 > r > -3]"
   ],
   "metadata": {
    "collapsed": false,
    "is_executing": true
   },
   "id": "ed6c276c9b6672a0"
  },
  {
   "cell_type": "code",
   "execution_count": null,
   "outputs": [],
   "source": [
    "g_density = sns.displot(data=reactivities_DMS[:500], kde=True, color='RED', bins=50)"
   ],
   "metadata": {
    "collapsed": false,
    "is_executing": true
   },
   "id": "6f333582dadaf918"
  },
  {
   "cell_type": "markdown",
   "source": [
    "# Analysis of tests/sample submission\n",
    "test_set = pd.read_csv('./input/test_sequences.csv')\n",
    "samplesub = pd.read_csv('./input/sample_submission.csv')\n",
    "for col in test_set:\n",
    "    print(col, end=\" \")\n",
    "print(\"\\n\")\n",
    "for col in samplesub:\n",
    "    print(col, end=\" \")"
   ],
   "metadata": {
    "collapsed": false
   },
   "id": "17aef2cba94ada18"
  },
  {
   "cell_type": "markdown",
   "source": [
    "### Preprocessing Functions\n",
    "Takes the input data and preprocesses into usable binary data format"
   ],
   "metadata": {
    "collapsed": false
   },
   "id": "275ba80f562bc358"
  },
  {
   "cell_type": "code",
   "execution_count": null,
   "id": "9a581f1e432f3bed",
   "metadata": {
    "pycharm": {
     "name": "#%%\n"
    },
    "ExecuteTime": {
     "start_time": "2023-10-03T19:09:39.648878Z"
    }
   },
   "outputs": [],
   "source": [
    "#todo; Convert data preprocess pipeline\n",
    "base_dict = {   'A': \"1,0,0,0,\",\n",
    "                'C': \"0,1,0,0,\",\n",
    "                'G': \"0,0,1,0,\",\n",
    "                'U': \"0,0,0,1,\"}\n",
    "\n",
    "# progression based csv preprocessing (defunct; csv files are too chonky)\n",
    "def preprocess_csv(df, csv, limit=100):\n",
    "    start = 0\n",
    "    line = \"\"\n",
    "    features = []\n",
    "    for n in range(-205,206):\n",
    "        if n < 0:\n",
    "            sign = 'n'\n",
    "        else:\n",
    "            sign = ''\n",
    "        end = sign + str(abs(n))\n",
    "        f = ['b_A_' + end, 'b_C_' + end, 'b_G_' + end, 'b_U_' + end]\n",
    "        for i in f:\n",
    "            features.append(i)\n",
    "            line += i + \",\"\n",
    "    line += 'reactivities'\n",
    "    sub_file = open(csv, \"w\")\n",
    "    sub_file.write(line)\n",
    "    sub_file.close()\n",
    "\n",
    "    b_id=-1\n",
    "    for index, row in df.iterrows():\n",
    "        start+=1\n",
    "        seq = row['sequence']\n",
    "        sub_file = open(csv, \"a\")\n",
    "        for i in range(len(seq)):\n",
    "            b_id+=1\n",
    "            if i<9:\n",
    "                r = row['reactivity_000'+str(i+1)]\n",
    "            elif i<99:\n",
    "                r = row['reactivity_00'+str(i+1)]\n",
    "            else:\n",
    "                r = row['reactivity_0'+str(i+1)]\n",
    "            if not np.isnan(r):\n",
    "                line = \"\\n\"\n",
    "                for n in range(-205,206):\n",
    "                    if 0 <= (n + i) < len(seq):\n",
    "                        line+= base_dict[seq[i+n]]\n",
    "                    else:\n",
    "                        line+= \"0,0,0,0,\"\n",
    "                if r >= 0:\n",
    "                    line+= str(r)\n",
    "                else:\n",
    "                    line+= '0'\n",
    "                sub_file.write(line)\n",
    "        sub_file.close()\n",
    "        if start >= limit:\n",
    "            break\n",
    "\n",
    "features = []\n",
    "for n in range(-205,206):\n",
    "    if n < 0:\n",
    "        sign = 'n'\n",
    "    else:\n",
    "        sign = ''\n",
    "    end = sign + str(abs(n))\n",
    "    f = ['b_A_' + end, 'b_C_' + end, 'b_G_' + end, 'b_U_' + end]\n",
    "    for i in f:\n",
    "        features.append(i)\n",
    "\n",
    "print(len(features))"
   ]
  },
  {
   "cell_type": "code",
   "execution_count": 3,
   "id": "63dbd27b7dcab204",
   "metadata": {
    "ExecuteTime": {
     "end_time": "2023-10-03T19:09:42.508739700Z",
     "start_time": "2023-10-03T19:09:42.481901500Z"
    }
   },
   "outputs": [
    {
     "name": "stdout",
     "output_type": "stream",
     "text": [
      "1644\n"
     ]
    }
   ],
   "source": [
    "base_dict = {   'A': \"1000\",\n",
    "                'C': \"0100\",\n",
    "                'G': \"0010\",\n",
    "                'U': \"0001\"}\n",
    "\n",
    "# binary preprocessing (active)\n",
    "def preprocess_bin(df, bin, limit=100):\n",
    "    # limit for insanity\n",
    "    start = 0\n",
    "    b_id=-1\n",
    "    for index, row in df.iterrows():\n",
    "        start+=1\n",
    "        seq = row['sequence']\n",
    "        sub_file = open(bin, \"a\")\n",
    "        for i in range(len(seq)):\n",
    "            b_id+=1\n",
    "            if i<9:\n",
    "                r = row['reactivity_000'+str(i+1)]\n",
    "            elif i<99:\n",
    "                r = row['reactivity_00'+str(i+1)]\n",
    "            else:\n",
    "                r = row['reactivity_0'+str(i+1)]\n",
    "            if not np.isnan(r):\n",
    "                line = \"\\n\"\n",
    "                for n in range(-205,206):\n",
    "                    if 0 <= (n + i) < len(seq):\n",
    "                        line+= base_dict[seq[i+n]]\n",
    "                    else:\n",
    "                        line+= \"0000\"\n",
    "                if r > 0:\n",
    "                    line+= \",\"+str(r)\n",
    "                else:\n",
    "                    line+= ',0'\n",
    "                sub_file.write(line)\n",
    "        sub_file.close()\n",
    "        if start >= limit:\n",
    "            break\n",
    "\n",
    "features = []\n",
    "for n in range(-205,206):\n",
    "    if n < 0:\n",
    "        sign = 'n'\n",
    "    else:\n",
    "        sign = ''\n",
    "    end = sign + str(abs(n))\n",
    "    f = ['b_A_' + end, 'b_C_' + end, 'b_G_' + end, 'b_U_' + end]\n",
    "    for i in f:\n",
    "        features.append(i)\n",
    "\n",
    "print(len(features))"
   ]
  },
  {
   "cell_type": "code",
   "execution_count": 4,
   "id": "0014b1c5",
   "metadata": {
    "ExecuteTime": {
     "end_time": "2023-10-03T19:09:44.039565500Z",
     "start_time": "2023-10-03T19:09:44.010090800Z"
    }
   },
   "outputs": [],
   "source": [
    "# mass preprocess csv\n",
    "for samples in [100, 1000]:      #Note: csv is a terrible file format. Currently only in use for test splits.\n",
    "    preprocess_csv(train_2A3_MaP, './train_2A3_'+str(samples)+'.csv', limit=samples)\n",
    "    preprocess_csv(test_2A3_MaP, './test_2A3_'+str(samples)+'.csv', limit=samples)\n",
    "    preprocess_csv(train_DMS_MaP, './train_DMS_'+str(samples)+'.csv', limit=samples)\n",
    "    preprocess_csv(test_DMS_MaP, './test_DMS_'+str(samples)+'.csv', limit=samples)"
   ]
  },
  {
   "cell_type": "code",
   "execution_count": 5,
   "id": "d77f10f3bdfc0133",
   "metadata": {
    "ExecuteTime": {
     "end_time": "2023-10-03T19:09:44.322256900Z",
     "start_time": "2023-10-03T19:09:44.305839100Z"
    }
   },
   "outputs": [],
   "source": [
    "# mass preprocess bin\n",
    "for samples in [100, 1000]:   #Note: mass preprocess only needs to be run once; preprocessed data is stored in root directory.\n",
    "    preprocess_bin(train_2A3_MaP, './train_2A3_'+str(samples)+'.bin', limit=samples)\n",
    "    preprocess_bin(test_2A3_MaP, './test_2A3_'+str(samples)+'.bin', limit=samples)\n",
    "    preprocess_bin(train_DMS_MaP, './train_DMS_'+str(samples)+'.bin', limit=samples)\n",
    "    preprocess_bin(test_DMS_MaP, './test_DMS_'+str(samples)+'.bin', limit=samples)"
   ]
  },
  {
   "cell_type": "markdown",
   "source": [
    "### Model Preparation\n",
    "Self-explanatory functions. Only thing to note is that we're using a dataset generator for model training, as loading all the data at once will crash. "
   ],
   "metadata": {
    "collapsed": false
   },
   "id": "7db3e37a94c23395"
  },
  {
   "cell_type": "code",
   "execution_count": 14,
   "id": "4398528238a3fece",
   "metadata": {
    "ExecuteTime": {
     "end_time": "2023-10-03T19:12:01.100351600Z",
     "start_time": "2023-10-03T19:12:01.073871200Z"
    }
   },
   "outputs": [],
   "source": [
    "fp_train_2A3 = './train_2A3_1000.bin'       # determines which files are used for training/testing\n",
    "fp_test_2A3 = './test_2A3_100.csv'              # 1000 seqs seem to be enough for good training (3000 makes a small difference)\n",
    "fp_train_DMS = './train_DMS_1000.bin'           # 100 for testing\n",
    "fp_test_DMS = './test_DMS_100.csv'"
   ]
  },
  {
   "cell_type": "code",
   "execution_count": 70,
   "id": "93d0436890341643",
   "metadata": {
    "pycharm": {
     "name": "#%%\n"
    },
    "ExecuteTime": {
     "end_time": "2023-10-03T19:27:58.250830900Z",
     "start_time": "2023-10-03T19:27:58.215375200Z"
    }
   },
   "outputs": [
    {
     "name": "stdout",
     "output_type": "stream",
     "text": [
      "['b_A_n205', 'b_C_n205', 'b_G_n205', 'b_U_n205', 'b_A_n204', 'b_C_n204', 'b_G_n204', 'b_U_n204', 'b_A_n203', 'b_C_n203', 'b_G_n203', 'b_U_n203', 'b_A_n202', 'b_C_n202', 'b_G_n202', 'b_U_n202', 'b_A_n201', 'b_C_n201', 'b_G_n201', 'b_U_n201', 'b_A_n200', 'b_C_n200', 'b_G_n200', 'b_U_n200', 'b_A_n199', 'b_C_n199', 'b_G_n199', 'b_U_n199', 'b_A_n198', 'b_C_n198', 'b_G_n198', 'b_U_n198', 'b_A_n197', 'b_C_n197', 'b_G_n197', 'b_U_n197', 'b_A_n196', 'b_C_n196', 'b_G_n196', 'b_U_n196', 'b_A_n195', 'b_C_n195', 'b_G_n195', 'b_U_n195', 'b_A_n194', 'b_C_n194', 'b_G_n194', 'b_U_n194', 'b_A_n193', 'b_C_n193', 'b_G_n193', 'b_U_n193', 'b_A_n192', 'b_C_n192', 'b_G_n192', 'b_U_n192', 'b_A_n191', 'b_C_n191', 'b_G_n191', 'b_U_n191', 'b_A_n190', 'b_C_n190', 'b_G_n190', 'b_U_n190', 'b_A_n189', 'b_C_n189', 'b_G_n189', 'b_U_n189', 'b_A_n188', 'b_C_n188', 'b_G_n188', 'b_U_n188', 'b_A_n187', 'b_C_n187', 'b_G_n187', 'b_U_n187', 'b_A_n186', 'b_C_n186', 'b_G_n186', 'b_U_n186', 'b_A_n185', 'b_C_n185', 'b_G_n185', 'b_U_n185', 'b_A_n184', 'b_C_n184', 'b_G_n184', 'b_U_n184', 'b_A_n183', 'b_C_n183', 'b_G_n183', 'b_U_n183', 'b_A_n182', 'b_C_n182', 'b_G_n182', 'b_U_n182', 'b_A_n181', 'b_C_n181', 'b_G_n181', 'b_U_n181', 'b_A_n180', 'b_C_n180', 'b_G_n180', 'b_U_n180', 'b_A_n179', 'b_C_n179', 'b_G_n179', 'b_U_n179', 'b_A_n178', 'b_C_n178', 'b_G_n178', 'b_U_n178', 'b_A_n177', 'b_C_n177', 'b_G_n177', 'b_U_n177', 'b_A_n176', 'b_C_n176', 'b_G_n176', 'b_U_n176', 'b_A_n175', 'b_C_n175', 'b_G_n175', 'b_U_n175', 'b_A_n174', 'b_C_n174', 'b_G_n174', 'b_U_n174', 'b_A_n173', 'b_C_n173', 'b_G_n173', 'b_U_n173', 'b_A_n172', 'b_C_n172', 'b_G_n172', 'b_U_n172', 'b_A_n171', 'b_C_n171', 'b_G_n171', 'b_U_n171', 'b_A_n170', 'b_C_n170', 'b_G_n170', 'b_U_n170', 'b_A_n169', 'b_C_n169', 'b_G_n169', 'b_U_n169', 'b_A_n168', 'b_C_n168', 'b_G_n168', 'b_U_n168', 'b_A_n167', 'b_C_n167', 'b_G_n167', 'b_U_n167', 'b_A_n166', 'b_C_n166', 'b_G_n166', 'b_U_n166', 'b_A_n165', 'b_C_n165', 'b_G_n165', 'b_U_n165', 'b_A_n164', 'b_C_n164', 'b_G_n164', 'b_U_n164', 'b_A_n163', 'b_C_n163', 'b_G_n163', 'b_U_n163', 'b_A_n162', 'b_C_n162', 'b_G_n162', 'b_U_n162', 'b_A_n161', 'b_C_n161', 'b_G_n161', 'b_U_n161', 'b_A_n160', 'b_C_n160', 'b_G_n160', 'b_U_n160', 'b_A_n159', 'b_C_n159', 'b_G_n159', 'b_U_n159', 'b_A_n158', 'b_C_n158', 'b_G_n158', 'b_U_n158', 'b_A_n157', 'b_C_n157', 'b_G_n157', 'b_U_n157', 'b_A_n156', 'b_C_n156', 'b_G_n156', 'b_U_n156', 'b_A_n155', 'b_C_n155', 'b_G_n155', 'b_U_n155', 'b_A_n154', 'b_C_n154', 'b_G_n154', 'b_U_n154', 'b_A_n153', 'b_C_n153', 'b_G_n153', 'b_U_n153', 'b_A_n152', 'b_C_n152', 'b_G_n152', 'b_U_n152', 'b_A_n151', 'b_C_n151', 'b_G_n151', 'b_U_n151', 'b_A_n150', 'b_C_n150', 'b_G_n150', 'b_U_n150', 'b_A_n149', 'b_C_n149', 'b_G_n149', 'b_U_n149', 'b_A_n148', 'b_C_n148', 'b_G_n148', 'b_U_n148', 'b_A_n147', 'b_C_n147', 'b_G_n147', 'b_U_n147', 'b_A_n146', 'b_C_n146', 'b_G_n146', 'b_U_n146', 'b_A_n145', 'b_C_n145', 'b_G_n145', 'b_U_n145', 'b_A_n144', 'b_C_n144', 'b_G_n144', 'b_U_n144', 'b_A_n143', 'b_C_n143', 'b_G_n143', 'b_U_n143', 'b_A_n142', 'b_C_n142', 'b_G_n142', 'b_U_n142', 'b_A_n141', 'b_C_n141', 'b_G_n141', 'b_U_n141', 'b_A_n140', 'b_C_n140', 'b_G_n140', 'b_U_n140', 'b_A_n139', 'b_C_n139', 'b_G_n139', 'b_U_n139', 'b_A_n138', 'b_C_n138', 'b_G_n138', 'b_U_n138', 'b_A_n137', 'b_C_n137', 'b_G_n137', 'b_U_n137', 'b_A_n136', 'b_C_n136', 'b_G_n136', 'b_U_n136', 'b_A_n135', 'b_C_n135', 'b_G_n135', 'b_U_n135', 'b_A_n134', 'b_C_n134', 'b_G_n134', 'b_U_n134', 'b_A_n133', 'b_C_n133', 'b_G_n133', 'b_U_n133', 'b_A_n132', 'b_C_n132', 'b_G_n132', 'b_U_n132', 'b_A_n131', 'b_C_n131', 'b_G_n131', 'b_U_n131', 'b_A_n130', 'b_C_n130', 'b_G_n130', 'b_U_n130', 'b_A_n129', 'b_C_n129', 'b_G_n129', 'b_U_n129', 'b_A_n128', 'b_C_n128', 'b_G_n128', 'b_U_n128', 'b_A_n127', 'b_C_n127', 'b_G_n127', 'b_U_n127', 'b_A_n126', 'b_C_n126', 'b_G_n126', 'b_U_n126', 'b_A_n125', 'b_C_n125', 'b_G_n125', 'b_U_n125', 'b_A_n124', 'b_C_n124', 'b_G_n124', 'b_U_n124', 'b_A_n123', 'b_C_n123', 'b_G_n123', 'b_U_n123', 'b_A_n122', 'b_C_n122', 'b_G_n122', 'b_U_n122', 'b_A_n121', 'b_C_n121', 'b_G_n121', 'b_U_n121', 'b_A_n120', 'b_C_n120', 'b_G_n120', 'b_U_n120', 'b_A_n119', 'b_C_n119', 'b_G_n119', 'b_U_n119', 'b_A_n118', 'b_C_n118', 'b_G_n118', 'b_U_n118', 'b_A_n117', 'b_C_n117', 'b_G_n117', 'b_U_n117', 'b_A_n116', 'b_C_n116', 'b_G_n116', 'b_U_n116', 'b_A_n115', 'b_C_n115', 'b_G_n115', 'b_U_n115', 'b_A_n114', 'b_C_n114', 'b_G_n114', 'b_U_n114', 'b_A_n113', 'b_C_n113', 'b_G_n113', 'b_U_n113', 'b_A_n112', 'b_C_n112', 'b_G_n112', 'b_U_n112', 'b_A_n111', 'b_C_n111', 'b_G_n111', 'b_U_n111', 'b_A_n110', 'b_C_n110', 'b_G_n110', 'b_U_n110', 'b_A_n109', 'b_C_n109', 'b_G_n109', 'b_U_n109', 'b_A_n108', 'b_C_n108', 'b_G_n108', 'b_U_n108', 'b_A_n107', 'b_C_n107', 'b_G_n107', 'b_U_n107', 'b_A_n106', 'b_C_n106', 'b_G_n106', 'b_U_n106', 'b_A_n105', 'b_C_n105', 'b_G_n105', 'b_U_n105', 'b_A_n104', 'b_C_n104', 'b_G_n104', 'b_U_n104', 'b_A_n103', 'b_C_n103', 'b_G_n103', 'b_U_n103', 'b_A_n102', 'b_C_n102', 'b_G_n102', 'b_U_n102', 'b_A_n101', 'b_C_n101', 'b_G_n101', 'b_U_n101', 'b_A_n100', 'b_C_n100', 'b_G_n100', 'b_U_n100', 'b_A_n99', 'b_C_n99', 'b_G_n99', 'b_U_n99', 'b_A_n98', 'b_C_n98', 'b_G_n98', 'b_U_n98', 'b_A_n97', 'b_C_n97', 'b_G_n97', 'b_U_n97', 'b_A_n96', 'b_C_n96', 'b_G_n96', 'b_U_n96', 'b_A_n95', 'b_C_n95', 'b_G_n95', 'b_U_n95', 'b_A_n94', 'b_C_n94', 'b_G_n94', 'b_U_n94', 'b_A_n93', 'b_C_n93', 'b_G_n93', 'b_U_n93', 'b_A_n92', 'b_C_n92', 'b_G_n92', 'b_U_n92', 'b_A_n91', 'b_C_n91', 'b_G_n91', 'b_U_n91', 'b_A_n90', 'b_C_n90', 'b_G_n90', 'b_U_n90', 'b_A_n89', 'b_C_n89', 'b_G_n89', 'b_U_n89', 'b_A_n88', 'b_C_n88', 'b_G_n88', 'b_U_n88', 'b_A_n87', 'b_C_n87', 'b_G_n87', 'b_U_n87', 'b_A_n86', 'b_C_n86', 'b_G_n86', 'b_U_n86', 'b_A_n85', 'b_C_n85', 'b_G_n85', 'b_U_n85', 'b_A_n84', 'b_C_n84', 'b_G_n84', 'b_U_n84', 'b_A_n83', 'b_C_n83', 'b_G_n83', 'b_U_n83', 'b_A_n82', 'b_C_n82', 'b_G_n82', 'b_U_n82', 'b_A_n81', 'b_C_n81', 'b_G_n81', 'b_U_n81', 'b_A_n80', 'b_C_n80', 'b_G_n80', 'b_U_n80', 'b_A_n79', 'b_C_n79', 'b_G_n79', 'b_U_n79', 'b_A_n78', 'b_C_n78', 'b_G_n78', 'b_U_n78', 'b_A_n77', 'b_C_n77', 'b_G_n77', 'b_U_n77', 'b_A_n76', 'b_C_n76', 'b_G_n76', 'b_U_n76', 'b_A_n75', 'b_C_n75', 'b_G_n75', 'b_U_n75', 'b_A_n74', 'b_C_n74', 'b_G_n74', 'b_U_n74', 'b_A_n73', 'b_C_n73', 'b_G_n73', 'b_U_n73', 'b_A_n72', 'b_C_n72', 'b_G_n72', 'b_U_n72', 'b_A_n71', 'b_C_n71', 'b_G_n71', 'b_U_n71', 'b_A_n70', 'b_C_n70', 'b_G_n70', 'b_U_n70', 'b_A_n69', 'b_C_n69', 'b_G_n69', 'b_U_n69', 'b_A_n68', 'b_C_n68', 'b_G_n68', 'b_U_n68', 'b_A_n67', 'b_C_n67', 'b_G_n67', 'b_U_n67', 'b_A_n66', 'b_C_n66', 'b_G_n66', 'b_U_n66', 'b_A_n65', 'b_C_n65', 'b_G_n65', 'b_U_n65', 'b_A_n64', 'b_C_n64', 'b_G_n64', 'b_U_n64', 'b_A_n63', 'b_C_n63', 'b_G_n63', 'b_U_n63', 'b_A_n62', 'b_C_n62', 'b_G_n62', 'b_U_n62', 'b_A_n61', 'b_C_n61', 'b_G_n61', 'b_U_n61', 'b_A_n60', 'b_C_n60', 'b_G_n60', 'b_U_n60', 'b_A_n59', 'b_C_n59', 'b_G_n59', 'b_U_n59', 'b_A_n58', 'b_C_n58', 'b_G_n58', 'b_U_n58', 'b_A_n57', 'b_C_n57', 'b_G_n57', 'b_U_n57', 'b_A_n56', 'b_C_n56', 'b_G_n56', 'b_U_n56', 'b_A_n55', 'b_C_n55', 'b_G_n55', 'b_U_n55', 'b_A_n54', 'b_C_n54', 'b_G_n54', 'b_U_n54', 'b_A_n53', 'b_C_n53', 'b_G_n53', 'b_U_n53', 'b_A_n52', 'b_C_n52', 'b_G_n52', 'b_U_n52', 'b_A_n51', 'b_C_n51', 'b_G_n51', 'b_U_n51', 'b_A_n50', 'b_C_n50', 'b_G_n50', 'b_U_n50', 'b_A_n49', 'b_C_n49', 'b_G_n49', 'b_U_n49', 'b_A_n48', 'b_C_n48', 'b_G_n48', 'b_U_n48', 'b_A_n47', 'b_C_n47', 'b_G_n47', 'b_U_n47', 'b_A_n46', 'b_C_n46', 'b_G_n46', 'b_U_n46', 'b_A_n45', 'b_C_n45', 'b_G_n45', 'b_U_n45', 'b_A_n44', 'b_C_n44', 'b_G_n44', 'b_U_n44', 'b_A_n43', 'b_C_n43', 'b_G_n43', 'b_U_n43', 'b_A_n42', 'b_C_n42', 'b_G_n42', 'b_U_n42', 'b_A_n41', 'b_C_n41', 'b_G_n41', 'b_U_n41', 'b_A_n40', 'b_C_n40', 'b_G_n40', 'b_U_n40', 'b_A_n39', 'b_C_n39', 'b_G_n39', 'b_U_n39', 'b_A_n38', 'b_C_n38', 'b_G_n38', 'b_U_n38', 'b_A_n37', 'b_C_n37', 'b_G_n37', 'b_U_n37', 'b_A_n36', 'b_C_n36', 'b_G_n36', 'b_U_n36', 'b_A_n35', 'b_C_n35', 'b_G_n35', 'b_U_n35', 'b_A_n34', 'b_C_n34', 'b_G_n34', 'b_U_n34', 'b_A_n33', 'b_C_n33', 'b_G_n33', 'b_U_n33', 'b_A_n32', 'b_C_n32', 'b_G_n32', 'b_U_n32', 'b_A_n31', 'b_C_n31', 'b_G_n31', 'b_U_n31', 'b_A_n30', 'b_C_n30', 'b_G_n30', 'b_U_n30', 'b_A_n29', 'b_C_n29', 'b_G_n29', 'b_U_n29', 'b_A_n28', 'b_C_n28', 'b_G_n28', 'b_U_n28', 'b_A_n27', 'b_C_n27', 'b_G_n27', 'b_U_n27', 'b_A_n26', 'b_C_n26', 'b_G_n26', 'b_U_n26', 'b_A_n25', 'b_C_n25', 'b_G_n25', 'b_U_n25', 'b_A_n24', 'b_C_n24', 'b_G_n24', 'b_U_n24', 'b_A_n23', 'b_C_n23', 'b_G_n23', 'b_U_n23', 'b_A_n22', 'b_C_n22', 'b_G_n22', 'b_U_n22', 'b_A_n21', 'b_C_n21', 'b_G_n21', 'b_U_n21', 'b_A_n20', 'b_C_n20', 'b_G_n20', 'b_U_n20', 'b_A_n19', 'b_C_n19', 'b_G_n19', 'b_U_n19', 'b_A_n18', 'b_C_n18', 'b_G_n18', 'b_U_n18', 'b_A_n17', 'b_C_n17', 'b_G_n17', 'b_U_n17', 'b_A_n16', 'b_C_n16', 'b_G_n16', 'b_U_n16', 'b_A_n15', 'b_C_n15', 'b_G_n15', 'b_U_n15', 'b_A_n14', 'b_C_n14', 'b_G_n14', 'b_U_n14', 'b_A_n13', 'b_C_n13', 'b_G_n13', 'b_U_n13', 'b_A_n12', 'b_C_n12', 'b_G_n12', 'b_U_n12', 'b_A_n11', 'b_C_n11', 'b_G_n11', 'b_U_n11', 'b_A_n10', 'b_C_n10', 'b_G_n10', 'b_U_n10', 'b_A_n9', 'b_C_n9', 'b_G_n9', 'b_U_n9', 'b_A_n8', 'b_C_n8', 'b_G_n8', 'b_U_n8', 'b_A_n7', 'b_C_n7', 'b_G_n7', 'b_U_n7', 'b_A_n6', 'b_C_n6', 'b_G_n6', 'b_U_n6', 'b_A_n5', 'b_C_n5', 'b_G_n5', 'b_U_n5', 'b_A_n4', 'b_C_n4', 'b_G_n4', 'b_U_n4', 'b_A_n3', 'b_C_n3', 'b_G_n3', 'b_U_n3', 'b_A_n2', 'b_C_n2', 'b_G_n2', 'b_U_n2', 'b_A_n1', 'b_C_n1', 'b_G_n1', 'b_U_n1', 'b_A_0', 'b_C_0', 'b_G_0', 'b_U_0', 'b_A_1', 'b_C_1', 'b_G_1', 'b_U_1', 'b_A_2', 'b_C_2', 'b_G_2', 'b_U_2', 'b_A_3', 'b_C_3', 'b_G_3', 'b_U_3', 'b_A_4', 'b_C_4', 'b_G_4', 'b_U_4', 'b_A_5', 'b_C_5', 'b_G_5', 'b_U_5', 'b_A_6', 'b_C_6', 'b_G_6', 'b_U_6', 'b_A_7', 'b_C_7', 'b_G_7', 'b_U_7', 'b_A_8', 'b_C_8', 'b_G_8', 'b_U_8', 'b_A_9', 'b_C_9', 'b_G_9', 'b_U_9', 'b_A_10', 'b_C_10', 'b_G_10', 'b_U_10', 'b_A_11', 'b_C_11', 'b_G_11', 'b_U_11', 'b_A_12', 'b_C_12', 'b_G_12', 'b_U_12', 'b_A_13', 'b_C_13', 'b_G_13', 'b_U_13', 'b_A_14', 'b_C_14', 'b_G_14', 'b_U_14', 'b_A_15', 'b_C_15', 'b_G_15', 'b_U_15', 'b_A_16', 'b_C_16', 'b_G_16', 'b_U_16', 'b_A_17', 'b_C_17', 'b_G_17', 'b_U_17', 'b_A_18', 'b_C_18', 'b_G_18', 'b_U_18', 'b_A_19', 'b_C_19', 'b_G_19', 'b_U_19', 'b_A_20', 'b_C_20', 'b_G_20', 'b_U_20', 'b_A_21', 'b_C_21', 'b_G_21', 'b_U_21', 'b_A_22', 'b_C_22', 'b_G_22', 'b_U_22', 'b_A_23', 'b_C_23', 'b_G_23', 'b_U_23', 'b_A_24', 'b_C_24', 'b_G_24', 'b_U_24', 'b_A_25', 'b_C_25', 'b_G_25', 'b_U_25', 'b_A_26', 'b_C_26', 'b_G_26', 'b_U_26', 'b_A_27', 'b_C_27', 'b_G_27', 'b_U_27', 'b_A_28', 'b_C_28', 'b_G_28', 'b_U_28', 'b_A_29', 'b_C_29', 'b_G_29', 'b_U_29', 'b_A_30', 'b_C_30', 'b_G_30', 'b_U_30', 'b_A_31', 'b_C_31', 'b_G_31', 'b_U_31', 'b_A_32', 'b_C_32', 'b_G_32', 'b_U_32', 'b_A_33', 'b_C_33', 'b_G_33', 'b_U_33', 'b_A_34', 'b_C_34', 'b_G_34', 'b_U_34', 'b_A_35', 'b_C_35', 'b_G_35', 'b_U_35', 'b_A_36', 'b_C_36', 'b_G_36', 'b_U_36', 'b_A_37', 'b_C_37', 'b_G_37', 'b_U_37', 'b_A_38', 'b_C_38', 'b_G_38', 'b_U_38', 'b_A_39', 'b_C_39', 'b_G_39', 'b_U_39', 'b_A_40', 'b_C_40', 'b_G_40', 'b_U_40', 'b_A_41', 'b_C_41', 'b_G_41', 'b_U_41', 'b_A_42', 'b_C_42', 'b_G_42', 'b_U_42', 'b_A_43', 'b_C_43', 'b_G_43', 'b_U_43', 'b_A_44', 'b_C_44', 'b_G_44', 'b_U_44', 'b_A_45', 'b_C_45', 'b_G_45', 'b_U_45', 'b_A_46', 'b_C_46', 'b_G_46', 'b_U_46', 'b_A_47', 'b_C_47', 'b_G_47', 'b_U_47', 'b_A_48', 'b_C_48', 'b_G_48', 'b_U_48', 'b_A_49', 'b_C_49', 'b_G_49', 'b_U_49', 'b_A_50', 'b_C_50', 'b_G_50', 'b_U_50', 'b_A_51', 'b_C_51', 'b_G_51', 'b_U_51', 'b_A_52', 'b_C_52', 'b_G_52', 'b_U_52', 'b_A_53', 'b_C_53', 'b_G_53', 'b_U_53', 'b_A_54', 'b_C_54', 'b_G_54', 'b_U_54', 'b_A_55', 'b_C_55', 'b_G_55', 'b_U_55', 'b_A_56', 'b_C_56', 'b_G_56', 'b_U_56', 'b_A_57', 'b_C_57', 'b_G_57', 'b_U_57', 'b_A_58', 'b_C_58', 'b_G_58', 'b_U_58', 'b_A_59', 'b_C_59', 'b_G_59', 'b_U_59', 'b_A_60', 'b_C_60', 'b_G_60', 'b_U_60', 'b_A_61', 'b_C_61', 'b_G_61', 'b_U_61', 'b_A_62', 'b_C_62', 'b_G_62', 'b_U_62', 'b_A_63', 'b_C_63', 'b_G_63', 'b_U_63', 'b_A_64', 'b_C_64', 'b_G_64', 'b_U_64', 'b_A_65', 'b_C_65', 'b_G_65', 'b_U_65', 'b_A_66', 'b_C_66', 'b_G_66', 'b_U_66', 'b_A_67', 'b_C_67', 'b_G_67', 'b_U_67', 'b_A_68', 'b_C_68', 'b_G_68', 'b_U_68', 'b_A_69', 'b_C_69', 'b_G_69', 'b_U_69', 'b_A_70', 'b_C_70', 'b_G_70', 'b_U_70', 'b_A_71', 'b_C_71', 'b_G_71', 'b_U_71', 'b_A_72', 'b_C_72', 'b_G_72', 'b_U_72', 'b_A_73', 'b_C_73', 'b_G_73', 'b_U_73', 'b_A_74', 'b_C_74', 'b_G_74', 'b_U_74', 'b_A_75', 'b_C_75', 'b_G_75', 'b_U_75', 'b_A_76', 'b_C_76', 'b_G_76', 'b_U_76', 'b_A_77', 'b_C_77', 'b_G_77', 'b_U_77', 'b_A_78', 'b_C_78', 'b_G_78', 'b_U_78', 'b_A_79', 'b_C_79', 'b_G_79', 'b_U_79', 'b_A_80', 'b_C_80', 'b_G_80', 'b_U_80', 'b_A_81', 'b_C_81', 'b_G_81', 'b_U_81', 'b_A_82', 'b_C_82', 'b_G_82', 'b_U_82', 'b_A_83', 'b_C_83', 'b_G_83', 'b_U_83', 'b_A_84', 'b_C_84', 'b_G_84', 'b_U_84', 'b_A_85', 'b_C_85', 'b_G_85', 'b_U_85', 'b_A_86', 'b_C_86', 'b_G_86', 'b_U_86', 'b_A_87', 'b_C_87', 'b_G_87', 'b_U_87', 'b_A_88', 'b_C_88', 'b_G_88', 'b_U_88', 'b_A_89', 'b_C_89', 'b_G_89', 'b_U_89', 'b_A_90', 'b_C_90', 'b_G_90', 'b_U_90', 'b_A_91', 'b_C_91', 'b_G_91', 'b_U_91', 'b_A_92', 'b_C_92', 'b_G_92', 'b_U_92', 'b_A_93', 'b_C_93', 'b_G_93', 'b_U_93', 'b_A_94', 'b_C_94', 'b_G_94', 'b_U_94', 'b_A_95', 'b_C_95', 'b_G_95', 'b_U_95', 'b_A_96', 'b_C_96', 'b_G_96', 'b_U_96', 'b_A_97', 'b_C_97', 'b_G_97', 'b_U_97', 'b_A_98', 'b_C_98', 'b_G_98', 'b_U_98', 'b_A_99', 'b_C_99', 'b_G_99', 'b_U_99', 'b_A_100', 'b_C_100', 'b_G_100', 'b_U_100', 'b_A_101', 'b_C_101', 'b_G_101', 'b_U_101', 'b_A_102', 'b_C_102', 'b_G_102', 'b_U_102', 'b_A_103', 'b_C_103', 'b_G_103', 'b_U_103', 'b_A_104', 'b_C_104', 'b_G_104', 'b_U_104', 'b_A_105', 'b_C_105', 'b_G_105', 'b_U_105', 'b_A_106', 'b_C_106', 'b_G_106', 'b_U_106', 'b_A_107', 'b_C_107', 'b_G_107', 'b_U_107', 'b_A_108', 'b_C_108', 'b_G_108', 'b_U_108', 'b_A_109', 'b_C_109', 'b_G_109', 'b_U_109', 'b_A_110', 'b_C_110', 'b_G_110', 'b_U_110', 'b_A_111', 'b_C_111', 'b_G_111', 'b_U_111', 'b_A_112', 'b_C_112', 'b_G_112', 'b_U_112', 'b_A_113', 'b_C_113', 'b_G_113', 'b_U_113', 'b_A_114', 'b_C_114', 'b_G_114', 'b_U_114', 'b_A_115', 'b_C_115', 'b_G_115', 'b_U_115', 'b_A_116', 'b_C_116', 'b_G_116', 'b_U_116', 'b_A_117', 'b_C_117', 'b_G_117', 'b_U_117', 'b_A_118', 'b_C_118', 'b_G_118', 'b_U_118', 'b_A_119', 'b_C_119', 'b_G_119', 'b_U_119', 'b_A_120', 'b_C_120', 'b_G_120', 'b_U_120', 'b_A_121', 'b_C_121', 'b_G_121', 'b_U_121', 'b_A_122', 'b_C_122', 'b_G_122', 'b_U_122', 'b_A_123', 'b_C_123', 'b_G_123', 'b_U_123', 'b_A_124', 'b_C_124', 'b_G_124', 'b_U_124', 'b_A_125', 'b_C_125', 'b_G_125', 'b_U_125', 'b_A_126', 'b_C_126', 'b_G_126', 'b_U_126', 'b_A_127', 'b_C_127', 'b_G_127', 'b_U_127', 'b_A_128', 'b_C_128', 'b_G_128', 'b_U_128', 'b_A_129', 'b_C_129', 'b_G_129', 'b_U_129', 'b_A_130', 'b_C_130', 'b_G_130', 'b_U_130', 'b_A_131', 'b_C_131', 'b_G_131', 'b_U_131', 'b_A_132', 'b_C_132', 'b_G_132', 'b_U_132', 'b_A_133', 'b_C_133', 'b_G_133', 'b_U_133', 'b_A_134', 'b_C_134', 'b_G_134', 'b_U_134', 'b_A_135', 'b_C_135', 'b_G_135', 'b_U_135', 'b_A_136', 'b_C_136', 'b_G_136', 'b_U_136', 'b_A_137', 'b_C_137', 'b_G_137', 'b_U_137', 'b_A_138', 'b_C_138', 'b_G_138', 'b_U_138', 'b_A_139', 'b_C_139', 'b_G_139', 'b_U_139', 'b_A_140', 'b_C_140', 'b_G_140', 'b_U_140', 'b_A_141', 'b_C_141', 'b_G_141', 'b_U_141', 'b_A_142', 'b_C_142', 'b_G_142', 'b_U_142', 'b_A_143', 'b_C_143', 'b_G_143', 'b_U_143', 'b_A_144', 'b_C_144', 'b_G_144', 'b_U_144', 'b_A_145', 'b_C_145', 'b_G_145', 'b_U_145', 'b_A_146', 'b_C_146', 'b_G_146', 'b_U_146', 'b_A_147', 'b_C_147', 'b_G_147', 'b_U_147', 'b_A_148', 'b_C_148', 'b_G_148', 'b_U_148', 'b_A_149', 'b_C_149', 'b_G_149', 'b_U_149', 'b_A_150', 'b_C_150', 'b_G_150', 'b_U_150', 'b_A_151', 'b_C_151', 'b_G_151', 'b_U_151', 'b_A_152', 'b_C_152', 'b_G_152', 'b_U_152', 'b_A_153', 'b_C_153', 'b_G_153', 'b_U_153', 'b_A_154', 'b_C_154', 'b_G_154', 'b_U_154', 'b_A_155', 'b_C_155', 'b_G_155', 'b_U_155', 'b_A_156', 'b_C_156', 'b_G_156', 'b_U_156', 'b_A_157', 'b_C_157', 'b_G_157', 'b_U_157', 'b_A_158', 'b_C_158', 'b_G_158', 'b_U_158', 'b_A_159', 'b_C_159', 'b_G_159', 'b_U_159', 'b_A_160', 'b_C_160', 'b_G_160', 'b_U_160', 'b_A_161', 'b_C_161', 'b_G_161', 'b_U_161', 'b_A_162', 'b_C_162', 'b_G_162', 'b_U_162', 'b_A_163', 'b_C_163', 'b_G_163', 'b_U_163', 'b_A_164', 'b_C_164', 'b_G_164', 'b_U_164', 'b_A_165', 'b_C_165', 'b_G_165', 'b_U_165', 'b_A_166', 'b_C_166', 'b_G_166', 'b_U_166', 'b_A_167', 'b_C_167', 'b_G_167', 'b_U_167', 'b_A_168', 'b_C_168', 'b_G_168', 'b_U_168', 'b_A_169', 'b_C_169', 'b_G_169', 'b_U_169', 'b_A_170', 'b_C_170', 'b_G_170', 'b_U_170', 'b_A_171', 'b_C_171', 'b_G_171', 'b_U_171', 'b_A_172', 'b_C_172', 'b_G_172', 'b_U_172', 'b_A_173', 'b_C_173', 'b_G_173', 'b_U_173', 'b_A_174', 'b_C_174', 'b_G_174', 'b_U_174', 'b_A_175', 'b_C_175', 'b_G_175', 'b_U_175', 'b_A_176', 'b_C_176', 'b_G_176', 'b_U_176', 'b_A_177', 'b_C_177', 'b_G_177', 'b_U_177', 'b_A_178', 'b_C_178', 'b_G_178', 'b_U_178', 'b_A_179', 'b_C_179', 'b_G_179', 'b_U_179', 'b_A_180', 'b_C_180', 'b_G_180', 'b_U_180', 'b_A_181', 'b_C_181', 'b_G_181', 'b_U_181', 'b_A_182', 'b_C_182', 'b_G_182', 'b_U_182', 'b_A_183', 'b_C_183', 'b_G_183', 'b_U_183', 'b_A_184', 'b_C_184', 'b_G_184', 'b_U_184', 'b_A_185', 'b_C_185', 'b_G_185', 'b_U_185', 'b_A_186', 'b_C_186', 'b_G_186', 'b_U_186', 'b_A_187', 'b_C_187', 'b_G_187', 'b_U_187', 'b_A_188', 'b_C_188', 'b_G_188', 'b_U_188', 'b_A_189', 'b_C_189', 'b_G_189', 'b_U_189', 'b_A_190', 'b_C_190', 'b_G_190', 'b_U_190', 'b_A_191', 'b_C_191', 'b_G_191', 'b_U_191', 'b_A_192', 'b_C_192', 'b_G_192', 'b_U_192', 'b_A_193', 'b_C_193', 'b_G_193', 'b_U_193', 'b_A_194', 'b_C_194', 'b_G_194', 'b_U_194', 'b_A_195', 'b_C_195', 'b_G_195', 'b_U_195', 'b_A_196', 'b_C_196', 'b_G_196', 'b_U_196', 'b_A_197', 'b_C_197', 'b_G_197', 'b_U_197', 'b_A_198', 'b_C_198', 'b_G_198', 'b_U_198', 'b_A_199', 'b_C_199', 'b_G_199', 'b_U_199', 'b_A_200', 'b_C_200', 'b_G_200', 'b_U_200', 'b_A_201', 'b_C_201', 'b_G_201', 'b_U_201', 'b_A_202', 'b_C_202', 'b_G_202', 'b_U_202', 'b_A_203', 'b_C_203', 'b_G_203', 'b_U_203', 'b_A_204', 'b_C_204', 'b_G_204', 'b_U_204', 'b_A_205', 'b_C_205', 'b_G_205', 'b_U_205']\n"
     ]
    }
   ],
   "source": [
    "# loading the CSV will break everything, so a generator function must be used in its place\n",
    "input_shape = (1644, 1)\n",
    "# generator function for csv\n",
    "def read_csv(filename):\n",
    "    first_line = True\n",
    "    with open(filename, 'r') as f:\n",
    "        for line in f.readlines():\n",
    "            if first_line:\n",
    "                first_line = False\n",
    "            else:\n",
    "                record = line.rstrip().split(',')\n",
    "                feature = [int(n) for n in record[:-1]]\n",
    "                label = float(record[-1])\n",
    "                print(feature)\n",
    "                print(len(feature))\n",
    "                yield feature, [label]\n",
    "                \n",
    "# generator function for bin\n",
    "def read_bin(filename):\n",
    "    first_line = True\n",
    "    with open(filename, 'r') as f:\n",
    "        for line in f.readlines():\n",
    "            if first_line:\n",
    "                first_line = False\n",
    "            else:\n",
    "                record = line.rstrip().split(',')\n",
    "                label = float(record[1])\n",
    "                record = record[0]\n",
    "                base_matrix = []\n",
    "                for n_base in range(411):\n",
    "                    base_column = np.array([int(record[n_base*4]),int(record[n_base*4+1]),\n",
    "                                            int(record[n_base*4+2]),int(record[n_base*4+3])])\n",
    "                    base_matrix += [base_column]\n",
    "                base_tensor = tf.convert_to_tensor(base_matrix) \n",
    "                yield base_tensor, [label]\n",
    "\n",
    "# dynamic dataset generator (works for .csv and for .bin)\n",
    "def get_dataset(filename):\n",
    "    if filename[-1] == \"v\":\n",
    "        generator = lambda: read_csv(filename)\n",
    "    elif filename[-1] == \"n\":\n",
    "        generator = lambda: read_bin(filename)\n",
    "    return tf.data.Dataset.from_generator(\n",
    "        generator, \n",
    "        output_signature=(\n",
    "        tf.TensorSpec(shape=(411,4), dtype=tf.int32),\n",
    "        tf.TensorSpec(shape=1, dtype=tf.float32,)\n",
    "        )\n",
    "    )\n",
    "# define features ! will not be necessary after proprocess pipeline conversion\n",
    "feat_dict = dict()\n",
    "features = []\n",
    "for n in range(-205,206):\n",
    "    if n < 0:\n",
    "        sign = 'n'\n",
    "    else:\n",
    "        sign = ''\n",
    "    end = sign + str(abs(n))\n",
    "    f = ['b_A_' + end, 'b_C_' + end, 'b_G_' + end, 'b_U_' + end]\n",
    "    for i in f:\n",
    "        features.append(i)\n",
    "for i in features:\n",
    "    feat_dict[i] = []\n",
    "print(features)"
   ]
  },
  {
   "cell_type": "code",
   "execution_count": 71,
   "id": "422c06d2ebe71aeb",
   "metadata": {
    "pycharm": {
     "name": "#%%\n"
    },
    "ExecuteTime": {
     "end_time": "2023-10-03T19:27:58.491239400Z",
     "start_time": "2023-10-03T19:27:58.411393500Z"
    }
   },
   "outputs": [],
   "source": [
    "batch_size = 32\n",
    "# Prepare training set\n",
    "train_dataset_2A3 = get_dataset(fp_train_2A3)\n",
    "train_dataset_2A3 = train_dataset_2A3.batch(batch_size)\n",
    "# Prepare the validation set\n",
    "test_dataset_2A3 = get_dataset(fp_test_2A3)\n",
    "test_dataset_2A3 = train_dataset_2A3.batch(batch_size)"
   ]
  },
  {
   "cell_type": "code",
   "execution_count": 72,
   "id": "e5689ba24bde044e",
   "metadata": {
    "ExecuteTime": {
     "end_time": "2023-10-03T19:27:58.955571Z",
     "start_time": "2023-10-03T19:27:58.889243Z"
    }
   },
   "outputs": [],
   "source": [
    "batch_size = 32\n",
    "# Prepare training set\n",
    "train_dataset_DMS = get_dataset(fp_train_DMS)\n",
    "train_dataset_DMS = train_dataset_DMS.batch(batch_size)\n",
    "# Prepare the validation set\n",
    "test_dataset_DMS = get_dataset(fp_test_DMS)\n",
    "test_dataset_DMS = train_dataset_DMS.batch(batch_size)"
   ]
  },
  {
   "cell_type": "code",
   "execution_count": 73,
   "id": "8946308feb179998",
   "metadata": {
    "pycharm": {
     "name": "#%%\n"
    },
    "ExecuteTime": {
     "end_time": "2023-10-03T19:27:59.380055800Z",
     "start_time": "2023-10-03T19:27:59.334791600Z"
    }
   },
   "outputs": [],
   "source": [
    "# Defining loss function\n",
    "loss_object = tf.keras.losses.SparseCategoricalCrossentropy(from_logits=False)\n",
    "accuracy_metric = tf.keras.metrics.Accuracy()\n",
    "\n",
    "# Calculate loss\n",
    "def loss_fn(y_true, y_pred):\n",
    "    mae = tf.keras.losses.MeanAbsoluteError()\n",
    "    #print (mae(y_true, y_pred))\n",
    "    return mae(y_true, y_pred)   # Kaggle submission will be graded on MAE\n",
    "\n",
    "#def accuracy_fn(gt_label, output):\n",
    "    #todo; make accuracy function to assess model training"
   ]
  },
  {
   "cell_type": "markdown",
   "source": [
    "### Model Training\n",
    "Right now we only have 2 regression models (one for DMS and one for 2A3)\n",
    "They're both pretty good in terms of the competition's loss function MAE...\n",
    "but they cant seem to tell the difference between a reactive base and a non-reactive base (which, is the whole point of the project...)\n",
    "The next step on the ML side of things is to develop a classification model for Reactive and Non-Reactive.\n",
    "Both labels (R & NR) will train on their own regression model, and for both probes DMS and 2A3.\n",
    "This means we're looking at about 5 models total in our ML pipeline. (as of 9/29/23)"
   ],
   "metadata": {
    "collapsed": false
   },
   "id": "f55a8b4d3c5deb7b"
  },
  {
   "cell_type": "code",
   "execution_count": 76,
   "id": "ade4bf5b18c18510",
   "metadata": {
    "ExecuteTime": {
     "end_time": "2023-10-03T19:28:17.249579500Z",
     "start_time": "2023-10-03T19:28:17.183744700Z"
    }
   },
   "outputs": [],
   "source": [
    "# Model building\n",
    "model_2A3 = tf.keras.Sequential([\n",
    "    tf.keras.layers.Conv1D(8, 1, activation='linear', batch_input_shape = (32, 411, 4),padding='same'),\n",
    "    tf.keras.layers.Conv1D(16, 1, activation='linear', padding='same'),\n",
    "    tf.keras.layers.MaxPooling1D(padding='same'),\n",
    "    #tf.keras.layers.Conv1D(32, 1, activation='linear',padding='same'),\n",
    "    #tf.keras.layers.Conv1D(64, 1, activation='linear',padding='same'),\n",
    "    #tf.keras.layers.MaxPooling1D(padding='same'),\n",
    "    tf.keras.layers.Flatten(),\n",
    "    #tf.keras.layers.Dense(512),\n",
    "    tf.keras.layers.Dense(128),\n",
    "    tf.keras.layers.Dense(32),\n",
    "    tf.keras.layers.Dense(1)]\n",
    ")\n",
    "# Define the optimizer\n",
    "optimizer_2A3 = tf.keras.optimizers.Adam(learning_rate=0.01)"
   ]
  },
  {
   "cell_type": "code",
   "execution_count": 77,
   "id": "aabb9ab30836322e",
   "metadata": {
    "pycharm": {
     "name": "#%%\n"
    },
    "ExecuteTime": {
     "end_time": "2023-10-03T19:32:43.550014100Z",
     "start_time": "2023-10-03T19:28:17.550941800Z"
    }
   },
   "outputs": [
    {
     "ename": "KeyboardInterrupt",
     "evalue": "",
     "output_type": "error",
     "traceback": [
      "\u001B[1;31m---------------------------------------------------------------------------\u001B[0m",
      "\u001B[1;31mKeyboardInterrupt\u001B[0m                         Traceback (most recent call last)",
      "\u001B[1;32m~\\AppData\\Local\\Temp\\ipykernel_11780\\360279688.py\u001B[0m in \u001B[0;36m?\u001B[1;34m()\u001B[0m\n\u001B[0;32m     11\u001B[0m             \u001B[1;31m#accuracy_ = accuracy_fn(target, output)\u001B[0m\u001B[1;33m\u001B[0m\u001B[1;33m\u001B[0m\u001B[0m\n\u001B[0;32m     12\u001B[0m             \u001B[1;31m#print(accuracy_)\u001B[0m\u001B[1;33m\u001B[0m\u001B[1;33m\u001B[0m\u001B[0m\n\u001B[0;32m     13\u001B[0m \u001B[1;33m\u001B[0m\u001B[0m\n\u001B[0;32m     14\u001B[0m             \u001B[1;31m# Tape gradients\u001B[0m\u001B[1;33m\u001B[0m\u001B[1;33m\u001B[0m\u001B[0m\n\u001B[1;32m---> 15\u001B[1;33m             \u001B[0mgrads\u001B[0m \u001B[1;33m=\u001B[0m \u001B[0mtape\u001B[0m\u001B[1;33m.\u001B[0m\u001B[0mgradient\u001B[0m\u001B[1;33m(\u001B[0m\u001B[0mloss_\u001B[0m\u001B[1;33m,\u001B[0m \u001B[0mmodel_2A3\u001B[0m\u001B[1;33m.\u001B[0m\u001B[0mtrainable_variables\u001B[0m\u001B[1;33m)\u001B[0m\u001B[1;33m\u001B[0m\u001B[1;33m\u001B[0m\u001B[0m\n\u001B[0m\u001B[0;32m     16\u001B[0m \u001B[1;33m\u001B[0m\u001B[0m\n\u001B[0;32m     17\u001B[0m         \u001B[1;31m# Track batch loss and accuracy\u001B[0m\u001B[1;33m\u001B[0m\u001B[1;33m\u001B[0m\u001B[0m\n\u001B[0;32m     18\u001B[0m         \u001B[0mrunning_loss\u001B[0m\u001B[1;33m.\u001B[0m\u001B[0mappend\u001B[0m\u001B[1;33m(\u001B[0m\u001B[0mloss_\u001B[0m\u001B[1;33m)\u001B[0m\u001B[1;33m\u001B[0m\u001B[1;33m\u001B[0m\u001B[0m\n",
      "\u001B[1;32m~\\PycharmProjects\\ribonanza\\venv\\lib\\site-packages\\tensorflow\\python\\eager\\backprop.py\u001B[0m in \u001B[0;36m?\u001B[1;34m(self, target, sources, output_gradients, unconnected_gradients)\u001B[0m\n\u001B[0;32m   1061\u001B[0m               output_gradients))\n\u001B[0;32m   1062\u001B[0m       output_gradients = [None if x is None else ops.convert_to_tensor(x)\n\u001B[0;32m   1063\u001B[0m                           for x in output_gradients]\n\u001B[0;32m   1064\u001B[0m \u001B[1;33m\u001B[0m\u001B[0m\n\u001B[1;32m-> 1065\u001B[1;33m     flat_grad = imperative_grad.imperative_grad(\n\u001B[0m\u001B[0;32m   1066\u001B[0m         \u001B[0mself\u001B[0m\u001B[1;33m.\u001B[0m\u001B[0m_tape\u001B[0m\u001B[1;33m,\u001B[0m\u001B[1;33m\u001B[0m\u001B[1;33m\u001B[0m\u001B[0m\n\u001B[0;32m   1067\u001B[0m         \u001B[0mflat_targets\u001B[0m\u001B[1;33m,\u001B[0m\u001B[1;33m\u001B[0m\u001B[1;33m\u001B[0m\u001B[0m\n\u001B[0;32m   1068\u001B[0m         \u001B[0mflat_sources\u001B[0m\u001B[1;33m,\u001B[0m\u001B[1;33m\u001B[0m\u001B[1;33m\u001B[0m\u001B[0m\n",
      "\u001B[1;32m~\\PycharmProjects\\ribonanza\\venv\\lib\\site-packages\\tensorflow\\python\\eager\\imperative_grad.py\u001B[0m in \u001B[0;36m?\u001B[1;34m(tape, target, sources, output_gradients, sources_raw, unconnected_gradients)\u001B[0m\n\u001B[0;32m     63\u001B[0m   \u001B[1;32mexcept\u001B[0m \u001B[0mValueError\u001B[0m\u001B[1;33m:\u001B[0m\u001B[1;33m\u001B[0m\u001B[1;33m\u001B[0m\u001B[0m\n\u001B[0;32m     64\u001B[0m     raise ValueError(\n\u001B[0;32m     65\u001B[0m         \"Unknown value for unconnected_gradients: %r\" % unconnected_gradients)\n\u001B[0;32m     66\u001B[0m \u001B[1;33m\u001B[0m\u001B[0m\n\u001B[1;32m---> 67\u001B[1;33m   return pywrap_tfe.TFE_Py_TapeGradient(\n\u001B[0m\u001B[0;32m     68\u001B[0m       \u001B[0mtape\u001B[0m\u001B[1;33m.\u001B[0m\u001B[0m_tape\u001B[0m\u001B[1;33m,\u001B[0m  \u001B[1;31m# pylint: disable=protected-access\u001B[0m\u001B[1;33m\u001B[0m\u001B[1;33m\u001B[0m\u001B[0m\n\u001B[0;32m     69\u001B[0m       \u001B[0mtarget\u001B[0m\u001B[1;33m,\u001B[0m\u001B[1;33m\u001B[0m\u001B[1;33m\u001B[0m\u001B[0m\n\u001B[0;32m     70\u001B[0m       \u001B[0msources\u001B[0m\u001B[1;33m,\u001B[0m\u001B[1;33m\u001B[0m\u001B[1;33m\u001B[0m\u001B[0m\n",
      "\u001B[1;32m~\\PycharmProjects\\ribonanza\\venv\\lib\\site-packages\\tensorflow\\python\\eager\\backprop.py\u001B[0m in \u001B[0;36m?\u001B[1;34m(op_name, attr_tuple, num_inputs, inputs, outputs, out_grads, skip_input_indices, forward_pass_name_scope)\u001B[0m\n\u001B[0;32m    143\u001B[0m     \u001B[0mgradient_name_scope\u001B[0m \u001B[1;33m=\u001B[0m \u001B[1;34m\"gradient_tape/\"\u001B[0m\u001B[1;33m\u001B[0m\u001B[1;33m\u001B[0m\u001B[0m\n\u001B[0;32m    144\u001B[0m     \u001B[1;32mif\u001B[0m \u001B[0mforward_pass_name_scope\u001B[0m\u001B[1;33m:\u001B[0m\u001B[1;33m\u001B[0m\u001B[1;33m\u001B[0m\u001B[0m\n\u001B[0;32m    145\u001B[0m       \u001B[0mgradient_name_scope\u001B[0m \u001B[1;33m+=\u001B[0m \u001B[0mforward_pass_name_scope\u001B[0m \u001B[1;33m+\u001B[0m \u001B[1;34m\"/\"\u001B[0m\u001B[1;33m\u001B[0m\u001B[1;33m\u001B[0m\u001B[0m\n\u001B[0;32m    146\u001B[0m     \u001B[1;32mwith\u001B[0m \u001B[0mops\u001B[0m\u001B[1;33m.\u001B[0m\u001B[0mname_scope\u001B[0m\u001B[1;33m(\u001B[0m\u001B[0mgradient_name_scope\u001B[0m\u001B[1;33m)\u001B[0m\u001B[1;33m:\u001B[0m\u001B[1;33m\u001B[0m\u001B[1;33m\u001B[0m\u001B[0m\n\u001B[1;32m--> 147\u001B[1;33m       \u001B[1;32mreturn\u001B[0m \u001B[0mgrad_fn\u001B[0m\u001B[1;33m(\u001B[0m\u001B[0mmock_op\u001B[0m\u001B[1;33m,\u001B[0m \u001B[1;33m*\u001B[0m\u001B[0mout_grads\u001B[0m\u001B[1;33m)\u001B[0m\u001B[1;33m\u001B[0m\u001B[1;33m\u001B[0m\u001B[0m\n\u001B[0m\u001B[0;32m    148\u001B[0m   \u001B[1;32melse\u001B[0m\u001B[1;33m:\u001B[0m\u001B[1;33m\u001B[0m\u001B[1;33m\u001B[0m\u001B[0m\n\u001B[0;32m    149\u001B[0m     \u001B[1;32mreturn\u001B[0m \u001B[0mgrad_fn\u001B[0m\u001B[1;33m(\u001B[0m\u001B[0mmock_op\u001B[0m\u001B[1;33m,\u001B[0m \u001B[1;33m*\u001B[0m\u001B[0mout_grads\u001B[0m\u001B[1;33m)\u001B[0m\u001B[1;33m\u001B[0m\u001B[1;33m\u001B[0m\u001B[0m\n",
      "\u001B[1;32m~\\PycharmProjects\\ribonanza\\venv\\lib\\site-packages\\tensorflow\\python\\ops\\math_grad.py\u001B[0m in \u001B[0;36m?\u001B[1;34m(op, grad)\u001B[0m\n\u001B[0;32m   1484\u001B[0m   \u001B[1;34m\"\"\"DivNoNan op gradient.\"\"\"\u001B[0m\u001B[1;33m\u001B[0m\u001B[1;33m\u001B[0m\u001B[0m\n\u001B[0;32m   1485\u001B[0m   \u001B[0mx\u001B[0m \u001B[1;33m=\u001B[0m \u001B[0mop\u001B[0m\u001B[1;33m.\u001B[0m\u001B[0minputs\u001B[0m\u001B[1;33m[\u001B[0m\u001B[1;36m0\u001B[0m\u001B[1;33m]\u001B[0m\u001B[1;33m\u001B[0m\u001B[1;33m\u001B[0m\u001B[0m\n\u001B[0;32m   1486\u001B[0m   \u001B[0my\u001B[0m \u001B[1;33m=\u001B[0m \u001B[0mop\u001B[0m\u001B[1;33m.\u001B[0m\u001B[0minputs\u001B[0m\u001B[1;33m[\u001B[0m\u001B[1;36m1\u001B[0m\u001B[1;33m]\u001B[0m\u001B[1;33m\u001B[0m\u001B[1;33m\u001B[0m\u001B[0m\n\u001B[0;32m   1487\u001B[0m   \u001B[0msx\u001B[0m \u001B[1;33m=\u001B[0m \u001B[0marray_ops\u001B[0m\u001B[1;33m.\u001B[0m\u001B[0mshape\u001B[0m\u001B[1;33m(\u001B[0m\u001B[0mx\u001B[0m\u001B[1;33m)\u001B[0m\u001B[1;33m\u001B[0m\u001B[1;33m\u001B[0m\u001B[0m\n\u001B[1;32m-> 1488\u001B[1;33m   \u001B[0msy\u001B[0m \u001B[1;33m=\u001B[0m \u001B[0marray_ops\u001B[0m\u001B[1;33m.\u001B[0m\u001B[0mshape\u001B[0m\u001B[1;33m(\u001B[0m\u001B[0my\u001B[0m\u001B[1;33m)\u001B[0m\u001B[1;33m\u001B[0m\u001B[1;33m\u001B[0m\u001B[0m\n\u001B[0m\u001B[0;32m   1489\u001B[0m   \u001B[0mrx\u001B[0m\u001B[1;33m,\u001B[0m \u001B[0mry\u001B[0m \u001B[1;33m=\u001B[0m \u001B[0mgen_array_ops\u001B[0m\u001B[1;33m.\u001B[0m\u001B[0mbroadcast_gradient_args\u001B[0m\u001B[1;33m(\u001B[0m\u001B[0msx\u001B[0m\u001B[1;33m,\u001B[0m \u001B[0msy\u001B[0m\u001B[1;33m)\u001B[0m\u001B[1;33m\u001B[0m\u001B[1;33m\u001B[0m\u001B[0m\n\u001B[0;32m   1490\u001B[0m   \u001B[0mx\u001B[0m \u001B[1;33m=\u001B[0m \u001B[0mmath_ops\u001B[0m\u001B[1;33m.\u001B[0m\u001B[0mconj\u001B[0m\u001B[1;33m(\u001B[0m\u001B[0mx\u001B[0m\u001B[1;33m)\u001B[0m\u001B[1;33m\u001B[0m\u001B[1;33m\u001B[0m\u001B[0m\n\u001B[0;32m   1491\u001B[0m   \u001B[0my\u001B[0m \u001B[1;33m=\u001B[0m \u001B[0mmath_ops\u001B[0m\u001B[1;33m.\u001B[0m\u001B[0mconj\u001B[0m\u001B[1;33m(\u001B[0m\u001B[0my\u001B[0m\u001B[1;33m)\u001B[0m\u001B[1;33m\u001B[0m\u001B[1;33m\u001B[0m\u001B[0m\n",
      "\u001B[1;32m~\\PycharmProjects\\ribonanza\\venv\\lib\\site-packages\\tensorflow\\python\\util\\traceback_utils.py\u001B[0m in \u001B[0;36m?\u001B[1;34m(*args, **kwargs)\u001B[0m\n\u001B[0;32m    151\u001B[0m     \u001B[1;32mexcept\u001B[0m \u001B[0mException\u001B[0m \u001B[1;32mas\u001B[0m \u001B[0me\u001B[0m\u001B[1;33m:\u001B[0m\u001B[1;33m\u001B[0m\u001B[1;33m\u001B[0m\u001B[0m\n\u001B[0;32m    152\u001B[0m       \u001B[0mfiltered_tb\u001B[0m \u001B[1;33m=\u001B[0m \u001B[0m_process_traceback_frames\u001B[0m\u001B[1;33m(\u001B[0m\u001B[0me\u001B[0m\u001B[1;33m.\u001B[0m\u001B[0m__traceback__\u001B[0m\u001B[1;33m)\u001B[0m\u001B[1;33m\u001B[0m\u001B[1;33m\u001B[0m\u001B[0m\n\u001B[0;32m    153\u001B[0m       \u001B[1;32mraise\u001B[0m \u001B[0me\u001B[0m\u001B[1;33m.\u001B[0m\u001B[0mwith_traceback\u001B[0m\u001B[1;33m(\u001B[0m\u001B[0mfiltered_tb\u001B[0m\u001B[1;33m)\u001B[0m \u001B[1;32mfrom\u001B[0m \u001B[1;32mNone\u001B[0m\u001B[1;33m\u001B[0m\u001B[1;33m\u001B[0m\u001B[0m\n\u001B[0;32m    154\u001B[0m     \u001B[1;32mfinally\u001B[0m\u001B[1;33m:\u001B[0m\u001B[1;33m\u001B[0m\u001B[1;33m\u001B[0m\u001B[0m\n\u001B[1;32m--> 155\u001B[1;33m       \u001B[1;32mdel\u001B[0m \u001B[0mfiltered_tb\u001B[0m\u001B[1;33m\u001B[0m\u001B[1;33m\u001B[0m\u001B[0m\n\u001B[0m",
      "\u001B[1;32m~\\PycharmProjects\\ribonanza\\venv\\lib\\site-packages\\tensorflow\\python\\util\\dispatch.py\u001B[0m in \u001B[0;36m?\u001B[1;34m(*args, **kwargs)\u001B[0m\n\u001B[0;32m   1257\u001B[0m \u001B[1;33m\u001B[0m\u001B[0m\n\u001B[0;32m   1258\u001B[0m       \u001B[1;31m# Fallback dispatch system (dispatch v1):\u001B[0m\u001B[1;33m\u001B[0m\u001B[1;33m\u001B[0m\u001B[0m\n\u001B[0;32m   1259\u001B[0m       \u001B[1;32mtry\u001B[0m\u001B[1;33m:\u001B[0m\u001B[1;33m\u001B[0m\u001B[1;33m\u001B[0m\u001B[0m\n\u001B[0;32m   1260\u001B[0m         \u001B[1;32mreturn\u001B[0m \u001B[0mdispatch_target\u001B[0m\u001B[1;33m(\u001B[0m\u001B[1;33m*\u001B[0m\u001B[0margs\u001B[0m\u001B[1;33m,\u001B[0m \u001B[1;33m**\u001B[0m\u001B[0mkwargs\u001B[0m\u001B[1;33m)\u001B[0m\u001B[1;33m\u001B[0m\u001B[1;33m\u001B[0m\u001B[0m\n\u001B[1;32m-> 1261\u001B[1;33m       \u001B[1;32mexcept\u001B[0m \u001B[1;33m(\u001B[0m\u001B[0mTypeError\u001B[0m\u001B[1;33m,\u001B[0m \u001B[0mValueError\u001B[0m\u001B[1;33m)\u001B[0m\u001B[1;33m:\u001B[0m\u001B[1;33m\u001B[0m\u001B[1;33m\u001B[0m\u001B[0m\n\u001B[0m\u001B[0;32m   1262\u001B[0m         \u001B[1;31m# Note: convert_to_eager_tensor currently raises a ValueError, not a\u001B[0m\u001B[1;33m\u001B[0m\u001B[1;33m\u001B[0m\u001B[0m\n\u001B[0;32m   1263\u001B[0m         \u001B[1;31m# TypeError, when given unexpected types.  So we need to catch both.\u001B[0m\u001B[1;33m\u001B[0m\u001B[1;33m\u001B[0m\u001B[0m\n\u001B[0;32m   1264\u001B[0m         \u001B[0mresult\u001B[0m \u001B[1;33m=\u001B[0m \u001B[0mdispatch\u001B[0m\u001B[1;33m(\u001B[0m\u001B[0mop_dispatch_handler\u001B[0m\u001B[1;33m,\u001B[0m \u001B[0margs\u001B[0m\u001B[1;33m,\u001B[0m \u001B[0mkwargs\u001B[0m\u001B[1;33m)\u001B[0m\u001B[1;33m\u001B[0m\u001B[1;33m\u001B[0m\u001B[0m\n",
      "\u001B[1;32m~\\PycharmProjects\\ribonanza\\venv\\lib\\site-packages\\tensorflow\\python\\ops\\array_ops.py\u001B[0m in \u001B[0;36m?\u001B[1;34m(input, name, out_type)\u001B[0m\n\u001B[0;32m    693\u001B[0m     \u001B[1;32mif\u001B[0m \u001B[0mflags\u001B[0m\u001B[1;33m.\u001B[0m\u001B[0mconfig\u001B[0m\u001B[1;33m(\u001B[0m\u001B[1;33m)\u001B[0m\u001B[1;33m.\u001B[0m\u001B[0mtf_shape_default_int64\u001B[0m\u001B[1;33m.\u001B[0m\u001B[0mvalue\u001B[0m\u001B[1;33m(\u001B[0m\u001B[1;33m)\u001B[0m\u001B[1;33m:\u001B[0m\u001B[1;33m\u001B[0m\u001B[1;33m\u001B[0m\u001B[0m\n\u001B[0;32m    694\u001B[0m       \u001B[0mout_type\u001B[0m \u001B[1;33m=\u001B[0m \u001B[0mdtypes\u001B[0m\u001B[1;33m.\u001B[0m\u001B[0mint64\u001B[0m\u001B[1;33m\u001B[0m\u001B[1;33m\u001B[0m\u001B[0m\n\u001B[0;32m    695\u001B[0m     \u001B[1;32melse\u001B[0m\u001B[1;33m:\u001B[0m\u001B[1;33m\u001B[0m\u001B[1;33m\u001B[0m\u001B[0m\n\u001B[0;32m    696\u001B[0m       \u001B[0mout_type\u001B[0m \u001B[1;33m=\u001B[0m \u001B[0mdtypes\u001B[0m\u001B[1;33m.\u001B[0m\u001B[0mint32\u001B[0m\u001B[1;33m\u001B[0m\u001B[1;33m\u001B[0m\u001B[0m\n\u001B[1;32m--> 697\u001B[1;33m   \u001B[1;32mreturn\u001B[0m \u001B[0mshape_internal\u001B[0m\u001B[1;33m(\u001B[0m\u001B[0minput\u001B[0m\u001B[1;33m,\u001B[0m \u001B[0mname\u001B[0m\u001B[1;33m,\u001B[0m \u001B[0moptimize\u001B[0m\u001B[1;33m=\u001B[0m\u001B[1;32mTrue\u001B[0m\u001B[1;33m,\u001B[0m \u001B[0mout_type\u001B[0m\u001B[1;33m=\u001B[0m\u001B[0mout_type\u001B[0m\u001B[1;33m)\u001B[0m\u001B[1;33m\u001B[0m\u001B[1;33m\u001B[0m\u001B[0m\n\u001B[0m",
      "\u001B[1;32m~\\PycharmProjects\\ribonanza\\venv\\lib\\site-packages\\tensorflow\\python\\ops\\array_ops.py\u001B[0m in \u001B[0;36m?\u001B[1;34m(input, name, optimize, out_type)\u001B[0m\n\u001B[0;32m    734\u001B[0m                 input_shape)\n\u001B[0;32m    735\u001B[0m           \u001B[1;32mreturn\u001B[0m \u001B[0mconstant\u001B[0m\u001B[1;33m(\u001B[0m\u001B[0minput_shape\u001B[0m\u001B[1;33m.\u001B[0m\u001B[0mas_list\u001B[0m\u001B[1;33m(\u001B[0m\u001B[1;33m)\u001B[0m\u001B[1;33m,\u001B[0m \u001B[0mout_type\u001B[0m\u001B[1;33m,\u001B[0m \u001B[0mname\u001B[0m\u001B[1;33m=\u001B[0m\u001B[0mname\u001B[0m\u001B[1;33m)\u001B[0m\u001B[1;33m\u001B[0m\u001B[1;33m\u001B[0m\u001B[0m\n\u001B[0;32m    736\u001B[0m       \u001B[1;32mif\u001B[0m \u001B[1;32mnot\u001B[0m \u001B[0mout_type\u001B[0m\u001B[1;33m:\u001B[0m\u001B[1;33m\u001B[0m\u001B[1;33m\u001B[0m\u001B[0m\n\u001B[0;32m    737\u001B[0m         \u001B[0mout_type\u001B[0m \u001B[1;33m=\u001B[0m \u001B[0mdtypes\u001B[0m\u001B[1;33m.\u001B[0m\u001B[0mint32\u001B[0m\u001B[1;33m\u001B[0m\u001B[1;33m\u001B[0m\u001B[0m\n\u001B[1;32m--> 738\u001B[1;33m       \u001B[1;32mreturn\u001B[0m \u001B[0mgen_array_ops\u001B[0m\u001B[1;33m.\u001B[0m\u001B[0mshape\u001B[0m\u001B[1;33m(\u001B[0m\u001B[0minput\u001B[0m\u001B[1;33m,\u001B[0m \u001B[0mname\u001B[0m\u001B[1;33m=\u001B[0m\u001B[0mname\u001B[0m\u001B[1;33m,\u001B[0m \u001B[0mout_type\u001B[0m\u001B[1;33m=\u001B[0m\u001B[0mout_type\u001B[0m\u001B[1;33m)\u001B[0m\u001B[1;33m\u001B[0m\u001B[1;33m\u001B[0m\u001B[0m\n\u001B[0m",
      "\u001B[1;32m~\\PycharmProjects\\ribonanza\\venv\\lib\\site-packages\\tensorflow\\python\\ops\\gen_array_ops.py\u001B[0m in \u001B[0;36m?\u001B[1;34m(input, out_type, name)\u001B[0m\n\u001B[0;32m  11918\u001B[0m         _ctx, \"Shape\", name, input, \"out_type\", out_type)\n\u001B[0;32m  11919\u001B[0m       \u001B[1;32mreturn\u001B[0m \u001B[0m_result\u001B[0m\u001B[1;33m\u001B[0m\u001B[1;33m\u001B[0m\u001B[0m\n\u001B[0;32m  11920\u001B[0m     \u001B[1;32mexcept\u001B[0m \u001B[0m_core\u001B[0m\u001B[1;33m.\u001B[0m\u001B[0m_NotOkStatusException\u001B[0m \u001B[1;32mas\u001B[0m \u001B[0me\u001B[0m\u001B[1;33m:\u001B[0m\u001B[1;33m\u001B[0m\u001B[1;33m\u001B[0m\u001B[0m\n\u001B[0;32m  11921\u001B[0m       \u001B[0m_ops\u001B[0m\u001B[1;33m.\u001B[0m\u001B[0mraise_from_not_ok_status\u001B[0m\u001B[1;33m(\u001B[0m\u001B[0me\u001B[0m\u001B[1;33m,\u001B[0m \u001B[0mname\u001B[0m\u001B[1;33m)\u001B[0m\u001B[1;33m\u001B[0m\u001B[1;33m\u001B[0m\u001B[0m\n\u001B[1;32m> 11922\u001B[1;33m     \u001B[1;32mexcept\u001B[0m \u001B[0m_core\u001B[0m\u001B[1;33m.\u001B[0m\u001B[0m_FallbackException\u001B[0m\u001B[1;33m:\u001B[0m\u001B[1;33m\u001B[0m\u001B[1;33m\u001B[0m\u001B[0m\n\u001B[0m\u001B[0;32m  11923\u001B[0m       \u001B[1;32mpass\u001B[0m\u001B[1;33m\u001B[0m\u001B[1;33m\u001B[0m\u001B[0m\n\u001B[0;32m  11924\u001B[0m     \u001B[1;32mtry\u001B[0m\u001B[1;33m:\u001B[0m\u001B[1;33m\u001B[0m\u001B[1;33m\u001B[0m\u001B[0m\n\u001B[0;32m  11925\u001B[0m       return shape_eager_fallback(\n",
      "\u001B[1;31mKeyboardInterrupt\u001B[0m: "
     ]
    }
   ],
   "source": [
    "NUM_EPOCHS = 2\n",
    "EPOCH_PER_DISPLAY = 1\n",
    "#running_accuracy = []\n",
    "running_loss = []\n",
    "for epoch in range(NUM_EPOCHS):\n",
    "    for feat, target in train_dataset_2A3:\n",
    "        with tf.GradientTape() as tape:\n",
    "            # Calculate model output and loss\n",
    "            output = model_2A3(feat, training=True)\n",
    "            loss_ = loss_fn(target, output)\n",
    "            #accuracy_ = accuracy_fn(target, output)\n",
    "            #print(accuracy_)\n",
    "        \n",
    "            # Tape gradients\n",
    "            grads = tape.gradient(loss_, model_2A3.trainable_variables)\n",
    "\n",
    "        # Track batch loss and accuracy\n",
    "        running_loss.append(loss_)\n",
    "        #running_accuracy.append(accuracy_)\n",
    "\n",
    "        # Optimize model based on the gradients\n",
    "        optimizer_2A3.apply_gradients(zip(grads, model_2A3.trainable_variables))\n",
    "    # Epoch calculations\n",
    "    epoch_loss = np.mean(running_loss)\n",
    "    #epoch_accuracy = np.mean(running_accuracy)\n",
    "    if (epoch + 1) % EPOCH_PER_DISPLAY == 0:\n",
    "        print(\"Epoch {}: Loss: {:.4f}\".format(epoch+1, epoch_loss))"
   ]
  },
  {
   "cell_type": "code",
   "execution_count": null,
   "id": "30262cdba9eb11ab",
   "metadata": {
    "pycharm": {
     "name": "#%%\n"
    },
    "ExecuteTime": {
     "start_time": "2023-10-03T19:32:43.552014700Z"
    }
   },
   "outputs": [],
   "source": [
    "test_2A3 = pd.read_csv(fp_test_2A3)\n",
    "X_test = test_2A3[features]\n",
    "y_test = test_2A3['reactivities']"
   ]
  },
  {
   "cell_type": "code",
   "execution_count": null,
   "id": "72b1b80a65f5066b",
   "metadata": {
    "pycharm": {
     "name": "#%%\n"
    },
    "ExecuteTime": {
     "start_time": "2023-10-03T19:32:43.555015400Z"
    }
   },
   "outputs": [],
   "source": [
    "predictions = model_2A3.predict(X_test)\n",
    "mean_absolute_error(predictions, y_test)\n",
    "# 69 Sample Best : 0.4064400595049948 3 epochs\n",
    "# 100 Sample Best : 0.40317076430271853  3 epochs\n",
    "# 1000 Sample Best : 0.4044880844526148  2 epochs\n",
    "# 3000 Sample Best : 0.3622463577769028\n",
    "# 10000 Sample Best : 0.41434083974280383 3 epochs"
   ]
  },
  {
   "cell_type": "code",
   "execution_count": null,
   "id": "e3f2c2730c798b97",
   "metadata": {
    "ExecuteTime": {
     "start_time": "2023-10-03T19:32:43.556015500Z"
    }
   },
   "outputs": [],
   "source": [
    "# Model building\n",
    "model_DMS = tf.keras.Sequential([\n",
    "    tf.keras.layers.Conv1D(8, 1, activation='linear', batch_input_shape = (32, 411, 4),padding='same'),\n",
    "    tf.keras.layers.Conv1D(16, 1, activation='linear',padding='same'),\n",
    "    tf.keras.layers.Conv1D(32, 1, activation='linear',padding='same'),\n",
    "    tf.keras.layers.MaxPooling1D(padding='same'),\n",
    "    tf.keras.layers.Flatten(),\n",
    "    tf.keras.layers.Dense(96),\n",
    "    tf.keras.layers.Dense(32),\n",
    "    tf.keras.layers.Dense(8),\n",
    "    tf.keras.layers.Dense(1)]\n",
    ")\n",
    "# Define the optimizer\n",
    "optimizer_DMS = tf.keras.optimizers.Adam(learning_rate=0.01)"
   ]
  },
  {
   "cell_type": "code",
   "execution_count": 16,
   "id": "9cc4a8af8c434e23",
   "metadata": {
    "ExecuteTime": {
     "end_time": "2023-10-02T16:35:34.301974100Z",
     "start_time": "2023-10-02T16:28:03.397740500Z"
    }
   },
   "outputs": [],
   "source": [
    "running_accuracy_DMS = []\n",
    "running_loss_DMS = []\n",
    "for feat, target in train_dataset_DMS:\n",
    "    with tf.GradientTape() as tape:\n",
    "        # Calculate model output and loss\n",
    "        output = model_DMS(feat, training=True)\n",
    "        loss_ = loss_fn(target, output)\n",
    "        #accuracy_ = accuracy_fn(target, output)\n",
    "        #print(accuracy_)\n",
    "        \n",
    "        # Tape gradients\n",
    "        grads = tape.gradient(loss_, model_DMS.trainable_variables)\n",
    "\n",
    "    # Track batch loss and accuracy\n",
    "    running_loss_DMS.append(loss_)\n",
    "    #running_accuracy_DMS.append(accuracy_)\n",
    "\n",
    "    # Optimize model based on the gradients\n",
    "    optimizer_DMS.apply_gradients(zip(grads, model_DMS.trainable_variables))"
   ]
  },
  {
   "cell_type": "code",
   "execution_count": 17,
   "id": "9ffebb416b0f47c7",
   "metadata": {
    "ExecuteTime": {
     "end_time": "2023-10-02T16:35:36.215959500Z",
     "start_time": "2023-10-02T16:35:34.303975500Z"
    }
   },
   "outputs": [],
   "source": [
    "test_DMS = pd.read_csv(fp_test_DMS)\n",
    "X_test = test_DMS[features]\n",
    "y_test = test_DMS['reactivities']"
   ]
  },
  {
   "cell_type": "code",
   "execution_count": 18,
   "id": "1b90a7ee94b70d14",
   "metadata": {
    "ExecuteTime": {
     "end_time": "2023-10-02T16:35:40.809163500Z",
     "start_time": "2023-10-02T16:35:36.219605900Z"
    }
   },
   "outputs": [
    {
     "name": "stdout",
     "output_type": "stream",
     "text": [
      "295/295 [==============================] - 4s 12ms/step\n"
     ]
    },
    {
     "data": {
      "text/plain": "0.3549686816356289"
     },
     "execution_count": 18,
     "metadata": {},
     "output_type": "execute_result"
    }
   ],
   "source": [
    "predictions = model_DMS.predict(X_test)\n",
    "mean_absolute_error(predictions, y_test)\n",
    "# 100 Sample Best : 0.3598897815134145\n",
    "# 1000 Sample Best : 0.5850446463735238\n",
    "# 3000 Sample Best : 0.3551389458161534"
   ]
  },
  {
   "cell_type": "code",
   "execution_count": 30,
   "outputs": [
    {
     "name": "stderr",
     "output_type": "stream",
     "text": [
      "C:\\Users\\exide\\PycharmProjects\\ribonanza\\venv\\lib\\site-packages\\seaborn\\_oldcore.py:1498: FutureWarning: is_categorical_dtype is deprecated and will be removed in a future version. Use isinstance(dtype, CategoricalDtype) instead\n",
      "  if pd.api.types.is_categorical_dtype(vector):\n",
      "C:\\Users\\exide\\PycharmProjects\\ribonanza\\venv\\lib\\site-packages\\seaborn\\_oldcore.py:1119: FutureWarning: use_inf_as_na option is deprecated and will be removed in a future version. Convert inf values to NaN before operating instead.\n",
      "  with pd.option_context('mode.use_inf_as_na', True):\n",
      "C:\\Users\\exide\\PycharmProjects\\ribonanza\\venv\\lib\\site-packages\\seaborn\\_oldcore.py:1498: FutureWarning: is_categorical_dtype is deprecated and will be removed in a future version. Use isinstance(dtype, CategoricalDtype) instead\n",
      "  if pd.api.types.is_categorical_dtype(vector):\n",
      "C:\\Users\\exide\\PycharmProjects\\ribonanza\\venv\\lib\\site-packages\\seaborn\\_oldcore.py:1498: FutureWarning: is_categorical_dtype is deprecated and will be removed in a future version. Use isinstance(dtype, CategoricalDtype) instead\n",
      "  if pd.api.types.is_categorical_dtype(vector):\n",
      "C:\\Users\\exide\\PycharmProjects\\ribonanza\\venv\\lib\\site-packages\\seaborn\\_oldcore.py:1498: FutureWarning: is_categorical_dtype is deprecated and will be removed in a future version. Use isinstance(dtype, CategoricalDtype) instead\n",
      "  if pd.api.types.is_categorical_dtype(vector):\n",
      "C:\\Users\\exide\\PycharmProjects\\ribonanza\\venv\\lib\\site-packages\\seaborn\\_oldcore.py:1498: FutureWarning: is_categorical_dtype is deprecated and will be removed in a future version. Use isinstance(dtype, CategoricalDtype) instead\n",
      "  if pd.api.types.is_categorical_dtype(vector):\n",
      "C:\\Users\\exide\\PycharmProjects\\ribonanza\\venv\\lib\\site-packages\\seaborn\\_oldcore.py:1498: FutureWarning: is_categorical_dtype is deprecated and will be removed in a future version. Use isinstance(dtype, CategoricalDtype) instead\n",
      "  if pd.api.types.is_categorical_dtype(vector):\n",
      "C:\\Users\\exide\\PycharmProjects\\ribonanza\\venv\\lib\\site-packages\\seaborn\\_oldcore.py:1119: FutureWarning: use_inf_as_na option is deprecated and will be removed in a future version. Convert inf values to NaN before operating instead.\n",
      "  with pd.option_context('mode.use_inf_as_na', True):\n"
     ]
    },
    {
     "data": {
      "text/plain": "<Figure size 500x500 with 1 Axes>",
      "image/png": "[encoded data removed]"
     },
     "metadata": {},
     "output_type": "display_data"
    },
    {
     "data": {
      "text/plain": "<Figure size 557.75x500 with 1 Axes>",
      "image/png": "[encoded data removed]"
     },
     "metadata": {},
     "output_type": "display_data"
    }
   ],
   "source": [
    "g_density = sns.displot(data=y_test[:500], kde=True, color='RED', bins=50)\n",
    "g_prediction_density = sns.displot(data=predictions[:500], kde=True, color='RED', bins=50)"
   ],
   "metadata": {
    "collapsed": false,
    "ExecuteTime": {
     "end_time": "2023-10-02T16:51:06.917503600Z",
     "start_time": "2023-10-02T16:51:05.748115100Z"
    }
   },
   "id": "bf198f950a1062d4"
  },
  {
   "cell_type": "code",
   "execution_count": null,
   "id": "49b94a92",
   "metadata": {},
   "outputs": [],
   "source": [
    "'''# Model building                                         Current best solo regression model for DMS\n",
    "model_2A3 = tf.keras.Sequential([  \n",
    "    tf.keras.layers.Conv1D(8, 1, activation='linear', batch_input_shape = (32, 1644, 1),padding='same'),\n",
    "    tf.keras.layers.Conv1D(16, 1, activation='linear',padding='same'),\n",
    "    tf.keras.layers.Conv1D(32, 1, activation='linear',padding='same'),\n",
    "    tf.keras.layers.MaxPooling1D(padding='same'),\n",
    "    tf.keras.layers.Flatten(),\n",
    "    tf.keras.layers.Dense(96),\n",
    "    tf.keras.layers.Dense(32),\n",
    "    tf.keras.layers.Dense(8),\n",
    "    tf.keras.layers.Dense(1)]\n",
    ")'''"
   ]
  },
  {
   "cell_type": "code",
   "execution_count": null,
   "id": "d46cd94914a81107",
   "metadata": {},
   "outputs": [],
   "source": [
    "'''# Model building                                    Current best solo regression model for 2A3\n",
    "model_2A3 = tf.keras.Sequential([\n",
    "    tf.keras.layers.Conv1D(8, 1, activation='linear', batch_input_shape = (32, 1644, 1),padding='same'),\n",
    "    tf.keras.layers.Conv1D(16, 1, activation='linear',padding='same'),\n",
    "    tf.keras.layers.MaxPooling1D(padding='same'),\n",
    "    #tf.keras.layers.Conv1D(32, 1, activation='linear',padding='same'),\n",
    "    #tf.keras.layers.Conv1D(64, 1, activation='linear',padding='same'),\n",
    "    #tf.keras.layers.MaxPooling1D(padding='same'),\n",
    "    tf.keras.layers.Flatten(),\n",
    "    #tf.keras.layers.Dense(512),\n",
    "    tf.keras.layers.Dense(128),\n",
    "    tf.keras.layers.Dense(32),\n",
    "    tf.keras.layers.Dense(1)]\n",
    ")'''"
   ]
  },
  {
   "cell_type": "markdown",
   "id": "9df15d373974c38c",
   "metadata": {
    "pycharm": {
     "name": "#%% md\n"
    }
   },
   "source": []
  },
  {
   "cell_type": "markdown",
   "source": [
    "### Building a Submission\n",
    "This part should have been easy, but the 'small sample' of sequences we need to test in './test_sequences.csv' is huge.\n",
    "This entire process needs to be optimized. (and major code clean up on my behalf)"
   ],
   "metadata": {
    "collapsed": false
   },
   "id": "2e8db9046b3532a5"
  },
  {
   "cell_type": "code",
   "execution_count": null,
   "id": "d82ce11408c9d993",
   "metadata": {
    "pycharm": {
     "name": "#%%\n"
    }
   },
   "outputs": [],
   "source": [
    "base_dict = {   'A': [1,0,0,0],\n",
    "                'C': [0,1,0,0],\n",
    "                'G': [0,0,1,0],\n",
    "                'U': [0,0,0,1] }\n",
    "def test_base(sequence, pos):\n",
    "    test_b = []\n",
    "    for n in range(-205,206):\n",
    "        if 0 <= (n + pos) < len(sequence):\n",
    "            test_b+=base_dict[sequence[pos+n]]\n",
    "        else:\n",
    "            test_b+=[0,0,0,1]\n",
    "    return test_b\n",
    "\n",
    "# entry builder (for the feature dictionary method; inefficient, and will likely be replaced after converting preprocess pipeline)\n",
    "def append_base(b, pos):\n",
    "    if pos < 0:\n",
    "        sign = 'n'\n",
    "    else:\n",
    "        sign = ''\n",
    "    end = sign + str(abs(pos))\n",
    "    if b == 'A':\n",
    "        feat_dict['b_A_' + end].append(1)\n",
    "        feat_dict['b_C_' + end].append(0)\n",
    "        feat_dict['b_G_' + end].append(0)\n",
    "        feat_dict['b_U_' + end].append(0)\n",
    "    elif b == 'C':\n",
    "        feat_dict['b_A_' + end].append(0)\n",
    "        feat_dict['b_C_' + end].append(1)\n",
    "        feat_dict['b_G_' + end].append(0)\n",
    "        feat_dict['b_U_' + end].append(0)\n",
    "    elif b == 'G':\n",
    "        feat_dict['b_A_' + end].append(0)\n",
    "        feat_dict['b_C_' + end].append(0)\n",
    "        feat_dict['b_G_' + end].append(1)\n",
    "        feat_dict['b_U_' + end].append(0)\n",
    "    elif b == 'U':\n",
    "        feat_dict['b_A_' + end].append(0)\n",
    "        feat_dict['b_C_' + end].append(0)\n",
    "        feat_dict['b_G_' + end].append(0)\n",
    "        feat_dict['b_U_' + end].append(1)\n",
    "    else:\n",
    "        feat_dict['b_A_' + end].append(0)\n",
    "        feat_dict['b_C_' + end].append(0)\n",
    "        feat_dict['b_G_' + end].append(0)\n",
    "        feat_dict['b_U_' + end].append(0)"
   ]
  },
  {
   "cell_type": "markdown",
   "source": [
    "# submission builder\n",
    "test_set = pd.read_csv('input/test_sequences.csv')\n",
    "\n",
    "line = \"id,reactivity_DMS_MaP,reactivity_2A3_MaP\"\n",
    "sub_file = open(\"submission.csv\", \"w\")\n",
    "sub_file.write(line)\n",
    "sub_file.close()\n",
    "\n",
    "b_id = -1\n",
    "feat_dict = dict()\n",
    "for index, row in test_set.iterrows():\n",
    "    seq = row['sequence']\n",
    "    sub_file = open(\"submission.csv\", \"a\")\n",
    "    for i in range(len(seq)):\n",
    "        b_id+=1\n",
    "        for x in features:\n",
    "            feat_dict[x] = []\n",
    "        for n in range(-205,206):\n",
    "            if 0 <= (n + i) < len(seq):\n",
    "                append_base(seq[i+n], n)\n",
    "            else:\n",
    "                append_base(0, n)\n",
    "        single_entry_df = pd.DataFrame(feat_dict)\n",
    "        react_DMS = model_DMS.predict(single_entry_df)\n",
    "        react_2A3 = model_2A3.predict(single_entry_df)\n",
    "        line = \"\\n\" + str(b_id) + \",\" + str(react_DMS[0][0]) + \",\" + str(react_2A3[0][0])\n",
    "        sub_file.write(line)\n",
    "    sub_file.close()   \n",
    "    print(f\"Bases finished: {b_id}\")"
   ],
   "metadata": {
    "collapsed": false
   },
   "id": "1fe737ee44429d61"
  },
  {
   "cell_type": "code",
   "execution_count": null,
   "id": "beb4363796ac899a",
   "metadata": {
    "pycharm": {
     "name": "#%%\n"
    }
   },
   "outputs": [],
   "source": [
    "#todo; design a much faster submission builder than this one...\n",
    "# resume submission builder\n",
    "test_set = pd.read_csv('./input/test_sequences.csv')\n",
    "\n",
    "start_id = '' #determine starting id\n",
    "start_id = int(list(open(\"submission.csv\",errors='ignore'))[-1].split(\",\")[0])+1\n",
    "print(f\"Starting at base id: {start_id}\")\n",
    "\n",
    "b_id = -1\n",
    "test_bases = []\n",
    "for index, row in test_set.iterrows():\n",
    "    seq = row['sequence']\n",
    "    for i in range(len(seq)):\n",
    "        b_id+=1\n",
    "        if b_id >= start_id:\n",
    "            test_bases+= [tuple(test_base(seq, i))]\n",
    "            if ((b_id+1)-start_id) % 100000 == 0:   # process every 100000 bases\n",
    "                rDMS, r2A3 = model_DMS.predict(np.array(test_bases)), model_2A3.predict(np.array(test_bases))\n",
    "                sub_file = open(\"submission.csv\", \"a\")\n",
    "                for i in range(len(rDMS)):\n",
    "                    sub_file.write(\"\\n\" + str(start_id) + \",\" + str(rDMS[i][0]) + \",\" + str(r2A3[i][0]))\n",
    "                    start_id+=1\n",
    "                sub_file.close()\n",
    "                test_bases = []\n",
    "                print(f\"Bases finished: {b_id}\")\n",
    "        \n",
    "if test_bases:\n",
    "        rDMS, r2A3 = model_DMS.predict(np.array(test_bases)), model_2A3.predict(np.array(test_bases))\n",
    "        sub_file = open(\"submission.csv\", \"a\")\n",
    "        for i in range(len(rDMS)):\n",
    "            sub_file.write(\"\\n\" + str(start_id) + \",\" + str(rDMS[i][0]) + \",\" + str(r2A3[i][0]))\n",
    "            start_id+=1\n",
    "        sub_file.close()\n",
    "        test_bases = []"
   ]
  },
  {
   "cell_type": "code",
   "execution_count": null,
   "id": "61d01041a2cd5307",
   "metadata": {
    "pycharm": {
     "name": "#%%\n"
    }
   },
   "outputs": [],
   "source": [
    "#submission builder speed test\n",
    "test_set = pd.read_csv('./input/test_sequences.csv')\n",
    "\n",
    "line = \"id,reactivity_DMS_MaP,reactivity_2A3_MaP\"\n",
    "sub_file = open(\"sub_speed_test.csv\", \"w\")\n",
    "sub_file.write(line)\n",
    "sub_file.close()\n",
    "\n",
    "start = time.time()\n",
    "start_id = 0\n",
    "b_id = -1\n",
    "with warnings.catch_warnings():\n",
    "    warnings.simplefilter(\"ignore\")\n",
    "    test_bases = []\n",
    "    for index, row in test_set.iterrows():\n",
    "        seq = row['sequence']\n",
    "        for i in range(len(seq)):\n",
    "            b_id+=1\n",
    "            print(f\"new bid: {b_id}\")\n",
    "            test_bases+= [tuple(test_base(seq, i))]\n",
    "            if b_id >= 100000:\n",
    "                break\n",
    "        if ((b_id+1)-start_id) % 100000 == 0 or b_id >= 100000:\n",
    "            rDMS, r2A3 = model_DMS.predict(np.array(test_bases)), model_2A3.predict(np.array(test_bases))\n",
    "            sub_file = open(\"sub_speed_test.csv\", \"a\")\n",
    "            for i in range(len(rDMS)):\n",
    "                sub_file.write(\"\\n\" + str(start_id) + \",\" + str(rDMS[i][0]) + \",\" + str(r2A3[i][0]))\n",
    "                start_id+=1\n",
    "            sub_file.close()\n",
    "            test_bases = []\n",
    "            if b_id >= 100000:\n",
    "                break\n",
    "\n",
    "end = time.time()\n",
    "elapsed = end - start\n",
    "\n",
    "line = \"\\nTime elapsed for 100000 bases: \" + str(elapsed)  + \" seconds.\"\n",
    "sub_file = open(\"sub_speed_test.csv\", \"a\")\n",
    "sub_file.write(line)\n",
    "sub_file.close()\n",
    "print(line)"
   ]
  },
  {
   "cell_type": "code",
   "execution_count": null,
   "id": "d1530b2f43fc51ec",
   "metadata": {
    "pycharm": {
     "name": "#%%\n"
    }
   },
   "outputs": [],
   "source": [
    "# progress check\n",
    "final_id = 269796670 # the final b_id in test_sequences.csv\n",
    "last_id = '' # determine last id written by model\n",
    "for line in list(open(\"submission.csv\", errors=\"ignore\"))[-1]:\n",
    "    last_id += line\n",
    "last_id = int(last_id.split(\",\")[0])\n",
    "\n",
    "print(f\"Submission Completion:\\n{last_id}/{final_id}\\t{100*last_id/final_id:.2f}%\")"
   ]
  },
  {
   "cell_type": "code",
   "execution_count": null,
   "id": "29a637e8a70814e",
   "metadata": {
    "pycharm": {
     "name": "#%%\n"
    }
   },
   "outputs": [],
   "source": [
    "test = pd.read_csv('submission.csv', errors='ignore')\n",
    "test.head()"
   ]
  }
 ],
 "metadata": {
  "kernelspec": {
   "display_name": "Python 3 (ipykernel)",
   "language": "python",
   "name": "python3"
  },
  "language_info": {
   "codemirror_mode": {
    "name": "ipython",
    "version": 3
   },
   "file_extension": ".py",
   "mimetype": "text/x-python",
   "name": "python",
   "nbconvert_exporter": "python",
   "pygments_lexer": "ipython3",
   "version": "3.10.13"
  }
 },
 "nbformat": 4,
 "nbformat_minor": 5
}
