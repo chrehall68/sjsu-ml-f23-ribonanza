{
 "cells": [
  {
   "cell_type": "markdown",
   "metadata": {},
   "source": [
    "# Ribonanza - Attempt 3"
   ]
  },
  {
   "cell_type": "markdown",
   "metadata": {},
   "source": [
    "A second approach to the [Stanford Ribonanza problem](https://www.kaggle.com/competitions/stanford-ribonanza-rna-folding/) that builds off the first approach.\n",
    "\n",
    "Major differences:\n",
    "- use of attention model architecture\n",
    "- use of only filtered data (data in which SN_filter == 1)"
   ]
  },
  {
   "cell_type": "markdown",
   "metadata": {},
   "source": [
    "Currently, the attention architecture scores 0.20859"
   ]
  },
  {
   "cell_type": "markdown",
   "metadata": {},
   "source": [
    "## Todo"
   ]
  },
  {
   "cell_type": "markdown",
   "metadata": {},
   "source": [
    "- improve model "
   ]
  },
  {
   "cell_type": "markdown",
   "metadata": {},
   "source": [
    "## Setup"
   ]
  },
  {
   "cell_type": "markdown",
   "metadata": {},
   "source": [
    "### Filesystem Setup"
   ]
  },
  {
   "cell_type": "markdown",
   "metadata": {},
   "source": [
    "Your project directory should look like this:\n",
    "\n",
    "- `(project directory)`\n",
    "    - `ribonanza2.ipynb`\n",
    "    - `train_data.csv`\n",
    "    - `test_data.csv` (optional)\n",
    "\n",
    "`train_data.csv` is the only file necessary for training, and it can be downloaded from the kaggle competition linked in the description.\n",
    "\n",
    "`test_data.csv` is only necessary if you intend to make and submit predictions."
   ]
  },
  {
   "cell_type": "markdown",
   "metadata": {},
   "source": [
    "### Code Setup"
   ]
  },
  {
   "cell_type": "code",
   "execution_count": 1,
   "metadata": {},
   "outputs": [],
   "source": [
    "# imports\n",
    "import torch\n",
    "import pandas\n",
    "import numpy as np\n",
    "from tqdm import tqdm\n",
    "import seaborn\n",
    "import os"
   ]
  },
  {
   "cell_type": "code",
   "execution_count": 2,
   "metadata": {},
   "outputs": [],
   "source": [
    "# constants\n",
    "\n",
    "# according to kaggle, this is the maximum # of reactivites to be used\n",
    "NUM_REACTIVITIES = 457\n",
    "\n",
    "# there are 4 different bases (AUCG)\n",
    "NUM_BASES = 4"
   ]
  },
  {
   "cell_type": "markdown",
   "metadata": {},
   "source": [
    "## Data Preprocessing"
   ]
  },
  {
   "cell_type": "markdown",
   "metadata": {},
   "source": [
    "### Filter Data"
   ]
  },
  {
   "cell_type": "code",
   "execution_count": 3,
   "metadata": {},
   "outputs": [],
   "source": [
    "def filter_data(out: str, key: str, value: str, file_name: str, force: bool):\n",
    "    \"\"\"\n",
    "    Filters a file to only take datapoints\n",
    "    whose values of `key` are `value`.\n",
    "\n",
    "    Parameters:\n",
    "        - out: str - the name of the file that will store the filtered datapoints\n",
    "        - key: str - the name of the key to look at\n",
    "        - value: str - the value that the key should have\n",
    "        - file_name: str - the name of the file that contains all the datapoints.\n",
    "        - force: bool - whether or not to force re-processing of the data (if False and `out` already exists, no work will be done)\n",
    "    \"\"\"\n",
    "    if os.path.exists(out) and not force:\n",
    "        print(\"File already exists, not doing any work\")\n",
    "        return\n",
    "\n",
    "    count = 0\n",
    "\n",
    "    # count how many lines we have in total\n",
    "    with open(file_name) as file:\n",
    "        line = file.readline()  # ignore the header\n",
    "        line = (\n",
    "            file.readline()\n",
    "        )  # take the first line since we increment count in the loop\n",
    "        while line != \"\":\n",
    "            count += 1\n",
    "            line = file.readline()\n",
    "\n",
    "    # use that knowledge for a progress bar\n",
    "    with open(file_name, \"r\") as file, open(out, \"w\") as outfile:\n",
    "        # write the header\n",
    "        header = file.readline()\n",
    "        outfile.write(header)\n",
    "\n",
    "        # get what index the SN_filter is\n",
    "        SN_idx = header.split(\",\").index(key)\n",
    "\n",
    "        # only take the approved filtered lines\n",
    "        for _ in tqdm(range(count)):\n",
    "            line = file.readline()\n",
    "            temp = line.split(\",\")\n",
    "            if temp[SN_idx] == value:\n",
    "                outfile.write(line)\n",
    "\n",
    "\n",
    "def filter_train_data(force: bool = False):\n",
    "    \"\"\"\n",
    "    Filters the immense train_data.csv to only take datapoints\n",
    "    whose SN_filter (Signal to Noise filter) is 1. In other words,\n",
    "    we only take good reads. These filtered datapoints are then\n",
    "    written to the file provided\n",
    "\n",
    "    Parameters:\n",
    "        - force: bool - whether or not to force re-processing of the data (if False and `out` already exists, no work will be done)\n",
    "    \"\"\"\n",
    "    filter_data(\"train_data_filtered.csv\", \"SN_filter\", \"1\", \"train_data.csv\", force)\n",
    "\n",
    "\n",
    "def filter_2A3(force: bool = False):\n",
    "    \"\"\"\n",
    "    Only take the 2A3 points\n",
    "\n",
    "    Parameters:\n",
    "        - force: bool - whether or not to force re-processing of the data (if False and `out` already exists, no work will be done)\n",
    "    \"\"\"\n",
    "    filter_data(\n",
    "        \"train_data_2a3.csv\",\n",
    "        \"experiment_type\",\n",
    "        \"2A3_MaP\",\n",
    "        \"train_data_filtered.csv\",\n",
    "        force,\n",
    "    )\n",
    "\n",
    "\n",
    "def filter_DMS(force: bool = False):\n",
    "    \"\"\"\n",
    "    Only take the DMS points\n",
    "\n",
    "    Parameters:\n",
    "        - force: bool - whether or not to force re-processing of the data (if False and `out` already exists, no work will be done)\n",
    "    \"\"\"\n",
    "    filter_data(\n",
    "        \"train_data_dms.csv\",\n",
    "        \"experiment_type\",\n",
    "        \"DMS_MaP\",\n",
    "        \"train_data_filtered.csv\",\n",
    "        force,\n",
    "    )"
   ]
  },
  {
   "cell_type": "code",
   "execution_count": 4,
   "metadata": {},
   "outputs": [
    {
     "name": "stdout",
     "output_type": "stream",
     "text": [
      "File already exists, not doing any work\n"
     ]
    }
   ],
   "source": [
    "# filter our data\n",
    "filter_train_data()"
   ]
  },
  {
   "cell_type": "code",
   "execution_count": 5,
   "metadata": {},
   "outputs": [
    {
     "name": "stdout",
     "output_type": "stream",
     "text": [
      "File already exists, not doing any work\n"
     ]
    }
   ],
   "source": [
    "# take the 2a3 points\n",
    "filter_2A3()"
   ]
  },
  {
   "cell_type": "code",
   "execution_count": 6,
   "metadata": {},
   "outputs": [
    {
     "name": "stdout",
     "output_type": "stream",
     "text": [
      "File already exists, not doing any work\n"
     ]
    }
   ],
   "source": [
    "# take the dms points\n",
    "filter_DMS()"
   ]
  },
  {
   "cell_type": "markdown",
   "metadata": {},
   "source": [
    "### Convert Data to Inputs and Outputs"
   ]
  },
  {
   "cell_type": "code",
   "execution_count": 7,
   "metadata": {},
   "outputs": [],
   "source": [
    "# encode inputs as\n",
    "# A : 1\n",
    "# U : 2\n",
    "# C : 3\n",
    "# G : 4\n",
    "base_map = {\n",
    "    \"A\": 1,\n",
    "    \"U\": 2,\n",
    "    \"C\": 3,\n",
    "    \"G\": 4,\n",
    "}"
   ]
  },
  {
   "cell_type": "code",
   "execution_count": 8,
   "metadata": {},
   "outputs": [],
   "source": [
    "def preprocess_csv(out: str, file_name: str, force: bool = False):\n",
    "    \"\"\"\n",
    "    Preprocess the csv and save the preprocessed data as a .npz file\n",
    "\n",
    "    Parameters:\n",
    "        - out: str - the name of the file to save the arrays to\n",
    "        - file_name: str - the name of the input csv file\n",
    "        - force: bool - whether or not to force re-processing of the data (if False and `out` already exists, no work will be done).\n",
    "                Defaults to `False`\n",
    "    \"\"\"\n",
    "    if os.path.exists(out) and not force:\n",
    "        print(\"File already exists, not doing any work\")\n",
    "        return\n",
    "\n",
    "    df = pandas.read_csv(file_name)\n",
    "\n",
    "    inputs = np.zeros((len(df), NUM_REACTIVITIES))\n",
    "    outputs = np.zeros((len(df), NUM_REACTIVITIES))\n",
    "    output_masks = np.ones((len(df), NUM_REACTIVITIES), dtype=np.bool_)\n",
    "    errors = np.zeros((len(df), NUM_REACTIVITIES))\n",
    "\n",
    "    for index in tqdm(range(len(df))):\n",
    "        row = df.iloc[index]\n",
    "\n",
    "        # get the sequence\n",
    "        seq_len = len(row[\"sequence\"])\n",
    "\n",
    "        # map the base to its one-hot encoding\n",
    "        inputs[index, :seq_len] = np.array(\n",
    "            list(map(lambda letter: base_map[letter], row[\"sequence\"]))\n",
    "        )\n",
    "\n",
    "        # get all the reactivities and reactivity errors\n",
    "        reactivities = np.array(\n",
    "            list(\n",
    "                map(\n",
    "                    lambda seq_idx: row[\"reactivity_\" + str(seq_idx + 1).rjust(4, \"0\")],\n",
    "                    range(seq_len),\n",
    "                )\n",
    "            )\n",
    "        )\n",
    "        reactivity_errors = np.array(\n",
    "            list(\n",
    "                map(\n",
    "                    lambda seq_idx: row[\n",
    "                        \"reactivity_error_\" + str(seq_idx + 1).rjust(4, \"0\")\n",
    "                    ],\n",
    "                    range(seq_len),\n",
    "                )\n",
    "            )\n",
    "        )\n",
    "\n",
    "        # replace reactivity error nans with 0s (assume no error)\n",
    "        reactivity_errors = np.where(\n",
    "            np.isnan(reactivity_errors), 0.0, reactivity_errors\n",
    "        )\n",
    "\n",
    "        # get where all the reactivities are nan\n",
    "        nan_locats = np.isnan(reactivities)\n",
    "\n",
    "        # where it is nan, store True, else false\n",
    "        output_masks[index, :seq_len] = nan_locats\n",
    "\n",
    "        # where it is not nan, store the reactivity and error, else 0\n",
    "        outputs[index, :seq_len] = np.where(nan_locats == False, reactivities, 0.0)\n",
    "        errors[index, :seq_len] = np.where(nan_locats == False, reactivity_errors, 0.0)\n",
    "\n",
    "    # save the outputs\n",
    "    np.savez_compressed(\n",
    "        out, inputs=inputs, outputs=outputs, output_masks=output_masks, errors=errors\n",
    "    )"
   ]
  },
  {
   "cell_type": "code",
   "execution_count": 9,
   "metadata": {},
   "outputs": [
    {
     "name": "stdout",
     "output_type": "stream",
     "text": [
      "File already exists, not doing any work\n"
     ]
    }
   ],
   "source": [
    "preprocess_csv(\"train_data_2a3_preprocessed.npz\", \"train_data_2a3.csv\")"
   ]
  },
  {
   "cell_type": "code",
   "execution_count": 10,
   "metadata": {},
   "outputs": [
    {
     "name": "stdout",
     "output_type": "stream",
     "text": [
      "File already exists, not doing any work\n"
     ]
    }
   ],
   "source": [
    "preprocess_csv(\"train_data_dms_preprocessed.npz\", \"train_data_dms.csv\")"
   ]
  },
  {
   "cell_type": "markdown",
   "metadata": {},
   "source": [
    "### Load the desired dataset"
   ]
  },
  {
   "cell_type": "code",
   "execution_count": 11,
   "metadata": {
    "ExecuteTime": {
     "end_time": "2023-10-05T17:09:33.551791Z",
     "start_time": "2023-10-05T17:09:33.535197Z"
    }
   },
   "outputs": [],
   "source": [
    "desired_dataset = \"2a3\"  # either \"2a3\" or \"dms\""
   ]
  },
  {
   "cell_type": "code",
   "execution_count": 12,
   "metadata": {
    "ExecuteTime": {
     "end_time": "2023-10-05T17:09:42.265620Z",
     "start_time": "2023-10-05T17:09:33.728394Z"
    }
   },
   "outputs": [],
   "source": [
    "import torch.utils.data as data\n",
    "\n",
    "# load the npz file\n",
    "npz_file = np.load(f\"train_data_{desired_dataset}_preprocessed.npz\")\n",
    "\n",
    "# stored inputs, outputs, and output_masks\n",
    "full_dataset = data.TensorDataset(\n",
    "    torch.tensor(npz_file[\"inputs\"], dtype=torch.float32),\n",
    "    torch.tensor(np.clip(npz_file[\"outputs\"], 0, 1), dtype=torch.float32),\n",
    "    torch.tensor(\n",
    "        np.clip(\n",
    "            np.where(npz_file[\"output_masks\"], 0.0, 1.0) - np.abs(npz_file[\"errors\"]),\n",
    "            0,\n",
    "            1,\n",
    "        ),\n",
    "        dtype=torch.float32,\n",
    "    ),\n",
    ")\n",
    "\n",
    "# split into train, val\n",
    "train_dataset, val_dataset = data.random_split(full_dataset, lengths=[0.9, 0.1])\n",
    "\n",
    "# close the npz file\n",
    "npz_file.close()"
   ]
  },
  {
   "cell_type": "code",
   "execution_count": 13,
   "metadata": {},
   "outputs": [
    {
     "name": "stdout",
     "output_type": "stream",
     "text": [
      "train set is len 189893 and val dataset is len 21099\n"
     ]
    }
   ],
   "source": [
    "print(\n",
    "    \"train set is len\", len(train_dataset), \"and val dataset is len\", len(val_dataset)\n",
    ")"
   ]
  },
  {
   "cell_type": "markdown",
   "metadata": {},
   "source": [
    "### Visualize"
   ]
  },
  {
   "cell_type": "markdown",
   "metadata": {},
   "source": [
    "This section of the notebook allows for visualizing the reactivities of the\n",
    "current dataset."
   ]
  },
  {
   "cell_type": "code",
   "execution_count": 14,
   "metadata": {
    "ExecuteTime": {
     "end_time": "2023-10-05T17:09:42.844615Z",
     "start_time": "2023-10-05T17:09:42.843236Z"
    }
   },
   "outputs": [],
   "source": [
    "visualize = False"
   ]
  },
  {
   "cell_type": "code",
   "execution_count": 15,
   "metadata": {
    "ExecuteTime": {
     "end_time": "2023-10-05T17:09:42.851158Z",
     "start_time": "2023-10-05T17:09:42.846563Z"
    }
   },
   "outputs": [
    {
     "name": "stdout",
     "output_type": "stream",
     "text": [
      "Not visualizing. Set `visualize` to `True` to visualize data\n"
     ]
    }
   ],
   "source": [
    "if visualize:\n",
    "    npz_file = np.load(f\"train_data_{desired_dataset}_preprocessed.npz\")\n",
    "    outputs, bool_output_masks = npz_file[\"outputs\"], npz_file[\"output_masks\"]\n",
    "    npz_file.close()\n",
    "    visualized_items = []\n",
    "    for i in tqdm(range(len(outputs))):\n",
    "        for x in range(NUM_REACTIVITIES):\n",
    "            if not bool_output_masks[i, x]:\n",
    "                visualized_items.append(outputs[i, x])\n",
    "    visualized_items = np.array(visualized_items)\n",
    "    print(f\"took {len(visualized_items)}/{len(outputs)*NUM_REACTIVITIES} reactivities\")\n",
    "else:\n",
    "    print(\"Not visualizing. Set `visualize` to `True` to visualize data\")"
   ]
  },
  {
   "cell_type": "code",
   "execution_count": 16,
   "metadata": {
    "ExecuteTime": {
     "end_time": "2023-10-05T17:09:42.851272Z",
     "start_time": "2023-10-05T17:09:42.849526Z"
    }
   },
   "outputs": [
    {
     "name": "stdout",
     "output_type": "stream",
     "text": [
      "Not visualizing. Set `visualize` to `True` to visualize data\n"
     ]
    }
   ],
   "source": [
    "if visualize:\n",
    "    seaborn.histplot(visualized_items, binwidth=0.1)\n",
    "else:\n",
    "    print(\"Not visualizing. Set `visualize` to `True` to visualize data\")"
   ]
  },
  {
   "cell_type": "markdown",
   "metadata": {},
   "source": [
    "## Model"
   ]
  },
  {
   "cell_type": "code",
   "execution_count": 17,
   "metadata": {},
   "outputs": [],
   "source": [
    "import xformers.components.positional_embedding as embeddings\n",
    "import xformers.ops as xops\n",
    "import xformers.components.attention as attentions\n",
    "import xformers.components.attention.utils as att_utils\n",
    "import xformers.components as components"
   ]
  },
  {
   "cell_type": "code",
   "execution_count": 18,
   "metadata": {},
   "outputs": [],
   "source": [
    "class MemoryEfficientSelfAttention(torch.nn.Module):\n",
    "    def __init__(\n",
    "        self, latent_dim: int, n_heads: int, dropout: float, *args, **kwargs\n",
    "    ) -> None:\n",
    "        super(MemoryEfficientSelfAttention, self).__init__()\n",
    "        self.n_heads = n_heads\n",
    "        self.latent_dim = latent_dim\n",
    "        self.dropout = dropout\n",
    "\n",
    "        assert latent_dim % n_heads == 0\n",
    "\n",
    "    def forward(self, x: torch.Tensor, **kwargs):\n",
    "        # B, Seq Len, embedding -> B, Seq Len, Heads, Embedding per head\n",
    "        x = x.reshape(x.shape[0], x.shape[1], self.n_heads, x.shape[2] // self.n_heads)\n",
    "        x = xops.memory_efficient_attention(x, x, x, p=self.dropout)\n",
    "        x = x.reshape(x.shape[0], x.shape[1], -1)\n",
    "\n",
    "        return x\n",
    "\n",
    "\n",
    "class SDPAttention(torch.nn.Module):\n",
    "    def __init__(\n",
    "        self,\n",
    "        latent_dim: int,\n",
    "        n_heads: int,\n",
    "        dropout: float,\n",
    "        device: str,\n",
    "        *args,\n",
    "        **kwargs\n",
    "    ) -> None:\n",
    "        super(SDPAttention, self).__init__()\n",
    "        self.mha = components.MultiHeadDispatch(\n",
    "            latent_dim,\n",
    "            num_heads=n_heads,\n",
    "            attention=attentions.ScaledDotProduct(dropout=dropout),\n",
    "        ).to(device)\n",
    "\n",
    "    def forward(self, x: torch.Tensor, attention_mask: torch.Tensor):\n",
    "        return self.mha(x, att_mask=attention_mask)\n",
    "\n",
    "\n",
    "class SlidingWindowAttention(torch.nn.Module):\n",
    "    def __init__(\n",
    "        self,\n",
    "        latent_dim: int,\n",
    "        n_heads: int,\n",
    "        dropout: float,\n",
    "        device: str,\n",
    "        *args,\n",
    "        **kwargs\n",
    "    ) -> None:\n",
    "        super(SlidingWindowAttention, self).__init__()\n",
    "        self.mha = components.MultiHeadDispatch(\n",
    "            latent_dim,\n",
    "            n_heads,\n",
    "            attentions.LocalAttention(\n",
    "                dropout=dropout, window_size=kwargs[\"context_window\"]\n",
    "            ),\n",
    "        ).to(device)\n",
    "\n",
    "    def forward(self, x: torch.Tensor, **kwargs):\n",
    "        return self.mha(x)"
   ]
  },
  {
   "cell_type": "code",
   "execution_count": 19,
   "metadata": {},
   "outputs": [],
   "source": [
    "class CustomTransformerEncoderLayer(torch.nn.Module):\n",
    "    def __init__(\n",
    "        self,\n",
    "        attention_type: torch.nn.Module,\n",
    "        latent_dim: int,\n",
    "        ff_dim: int,\n",
    "        n_heads: int,\n",
    "        dropout: float = 0.1,\n",
    "        device: str = \"cuda\",\n",
    "        *args,\n",
    "        **kwargs\n",
    "    ) -> None:\n",
    "        super(CustomTransformerEncoderLayer, self).__init__()\n",
    "        self.attention = attention_type(\n",
    "            latent_dim=latent_dim,\n",
    "            n_heads=n_heads,\n",
    "            dropout=dropout,\n",
    "            device=device,\n",
    "            **kwargs\n",
    "        )\n",
    "        self.layer_norm = torch.nn.LayerNorm(latent_dim).to(device)\n",
    "\n",
    "        self.ff1 = torch.nn.Linear(latent_dim, ff_dim).to(device)\n",
    "        self.ff2 = torch.nn.Linear(ff_dim, latent_dim).to(device)\n",
    "        self.gelu = torch.nn.GELU()\n",
    "\n",
    "    def forward(self, x: torch.Tensor, attention_mask: torch.Tensor):\n",
    "        # MHA, add, norm\n",
    "        x = self.layer_norm(self.attention(x, attention_mask=attention_mask) + x)\n",
    "\n",
    "        # ff, add, norm\n",
    "        x = self.layer_norm(self.gelu(self.ff2(self.gelu(self.ff1(x)))) + x)\n",
    "\n",
    "        return x\n",
    "\n",
    "\n",
    "class CustomTransformerEncoder(torch.nn.Module):\n",
    "    def __init__(\n",
    "        self,\n",
    "        attention_type: torch.nn.Module,\n",
    "        n_layers: int,\n",
    "        latent_dim: int,\n",
    "        ff_dim: int,\n",
    "        n_heads: int,\n",
    "        dropout: float = 0.1,\n",
    "        device: str = \"cuda\",\n",
    "        **kwargs\n",
    "    ) -> None:\n",
    "        super(CustomTransformerEncoder, self).__init__()\n",
    "        for i in range(n_layers):\n",
    "            self.add_module(\n",
    "                str(i),\n",
    "                CustomTransformerEncoderLayer(\n",
    "                    attention_type=attention_type,\n",
    "                    latent_dim=latent_dim,\n",
    "                    ff_dim=ff_dim,\n",
    "                    n_heads=n_heads,\n",
    "                    dropout=dropout,\n",
    "                    device=device,\n",
    "                    **kwargs\n",
    "                ),\n",
    "            )\n",
    "\n",
    "    def forward(self, x: torch.Tensor, attention_mask: torch.Tensor):\n",
    "        for module in self._modules.values():\n",
    "            x = module(x, attention_mask=attention_mask)\n",
    "        return x\n",
    "\n",
    "\n",
    "class AttentionModel(torch.nn.Module):\n",
    "    def __init__(\n",
    "        self,\n",
    "        attention_type: torch.nn.Module,\n",
    "        context_window: int = 31,\n",
    "        latent_dim: int = 128,\n",
    "        ff_dim: int = 1024,\n",
    "        n_heads: int = 2,\n",
    "        enc_layers: int = 1,\n",
    "        device: str = \"cuda\",\n",
    "    ) -> None:\n",
    "        super(AttentionModel, self).__init__()\n",
    "\n",
    "        # data\n",
    "        self.n_heads = n_heads\n",
    "        self.latent_dim = latent_dim\n",
    "\n",
    "        # prepatory conv layers\n",
    "        self.conv_layer = torch.nn.Conv1d(\n",
    "            1, out_channels=latent_dim, kernel_size=context_window, padding=\"same\"\n",
    "        ).to(device)\n",
    "        self.conv_layer_b = torch.nn.Conv1d(\n",
    "            1, out_channels=latent_dim, kernel_size=context_window, padding=\"same\"\n",
    "        ).to(device)\n",
    "\n",
    "        # positional embedding and encoder layers\n",
    "        self.pos_embedding = embeddings.SinePositionalEmbedding(latent_dim).to(device)\n",
    "        self.encoder_layers = CustomTransformerEncoder(\n",
    "            latent_dim=latent_dim,\n",
    "            ff_dim=ff_dim,\n",
    "            n_heads=n_heads,\n",
    "            device=device,\n",
    "            attention_type=attention_type,\n",
    "            n_layers=enc_layers,\n",
    "            context_window=context_window,\n",
    "        )\n",
    "\n",
    "        # output head\n",
    "        self.head = torch.nn.Linear(latent_dim, 1).to(device)\n",
    "        self.final_result = torch.nn.Linear(NUM_REACTIVITIES, NUM_REACTIVITIES).to(\n",
    "            device\n",
    "        )\n",
    "\n",
    "        # activations\n",
    "        self.relu = torch.nn.ReLU()\n",
    "        self.gelu = torch.nn.GELU()\n",
    "\n",
    "    def _forward(self, x: torch.Tensor):\n",
    "        mask = att_utils.maybe_merge_masks(\n",
    "            att_mask=None,\n",
    "            key_padding_mask=x != 0,\n",
    "            batch_size=x.shape[0],\n",
    "            num_heads=self.n_heads,\n",
    "            src_len=x.shape[1],\n",
    "        )\n",
    "        x = x.reshape(x.shape[0], 1, x.shape[1])\n",
    "        # print(x.shape)\n",
    "\n",
    "        x = self.gelu(\n",
    "            self.conv_layer(x)\n",
    "            + torch.flip(self.conv_layer_b(torch.flip(x, dims=[2])), dims=[2])\n",
    "        )\n",
    "        # print(x.shape)\n",
    "\n",
    "        x = x.permute((0, 2, 1)).contiguous()\n",
    "\n",
    "        x = self.pos_embedding(x)\n",
    "        x = self.encoder_layers(x, attention_mask=mask)\n",
    "\n",
    "        x = self.relu(self.final_result(self.gelu(self.head(x).flatten(start_dim=1))))\n",
    "        # print(x.shape)\n",
    "        return x\n",
    "\n",
    "    # used for calculating lr to use\n",
    "    def weightedForward(self, x: torch.Tensor, weights: torch.Tensor):\n",
    "        self.weights = weights\n",
    "        return self._forward(x)\n",
    "\n",
    "    def weightedLoss(self, y_pred: torch.Tensor, y_true: torch.Tensor):\n",
    "        return (\n",
    "            (torch.nn.L1Loss()(y_pred.cuda(), y_true.cuda()) * self.weights.cuda())\n",
    "            .sum(dim=-1)\n",
    "            .mean()\n",
    "        )\n",
    "\n",
    "    def configure_for_lr_testing(self):\n",
    "        self.forward = self.weightedForward\n",
    "\n",
    "    def configure_for_training(self):\n",
    "        self.forward = self._forward"
   ]
  },
  {
   "cell_type": "code",
   "execution_count": 20,
   "metadata": {},
   "outputs": [],
   "source": [
    "class BaselineModel(torch.nn.Module):\n",
    "    def __init__(self, context_window: int = 31, device: str = \"cuda\"):\n",
    "        super(BaselineModel, self).__init__()\n",
    "        self.conv_layer = torch.nn.Conv1d(1, 1, context_window, padding=\"same\").to(\n",
    "            device\n",
    "        )\n",
    "        self.conv_layer_b = torch.nn.Conv1d(1, 1, context_window, padding=\"same\").to(\n",
    "            device\n",
    "        )\n",
    "        self.ff = torch.nn.Linear(NUM_REACTIVITIES, NUM_REACTIVITIES).to(device)\n",
    "        self.gelu = torch.nn.GELU()\n",
    "        self.relu = torch.nn.ReLU()\n",
    "\n",
    "    def _forward(self, x: torch.Tensor):\n",
    "        x = x.reshape(x.shape[0], 1, x.shape[1])\n",
    "\n",
    "        x = self.gelu(\n",
    "            self.conv_layer(x)\n",
    "            + torch.flip(self.conv_layer_b(torch.flip(x, dims=[2])), dims=[2])\n",
    "        )\n",
    "\n",
    "        return self.relu(self.ff(x.flatten(start_dim=1)))\n",
    "\n",
    "    def weightedForward(self, x: torch.Tensor, weights: torch.Tensor):\n",
    "        self.weights = weights\n",
    "        return self._forward(x)\n",
    "\n",
    "    def weightedLoss(self, y_pred: torch.Tensor, y_true: torch.Tensor):\n",
    "        return (\n",
    "            (torch.nn.L1Loss()(y_pred.cuda(), y_true.cuda()) * self.weights.cuda())\n",
    "            .sum(dim=-1)\n",
    "            .mean()\n",
    "        )\n",
    "\n",
    "    def configure_for_lr_testing(self):\n",
    "        self.forward = self.weightedForward\n",
    "\n",
    "    def configure_for_training(self):\n",
    "        self.forward = self._forward"
   ]
  },
  {
   "cell_type": "code",
   "execution_count": 21,
   "metadata": {},
   "outputs": [],
   "source": [
    "model_dms_kwargs = dict(\n",
    "    latent_dim=32, n_heads=4, enc_layers=2, ff_dim=256, attention_type=SDPAttention\n",
    ")\n",
    "model_2a3_kwargs = dict(\n",
    "    latent_dim=32, n_heads=4, enc_layers=2, ff_dim=256, attention_type=SDPAttention\n",
    ")"
   ]
  },
  {
   "cell_type": "code",
   "execution_count": 22,
   "metadata": {},
   "outputs": [],
   "source": [
    "if desired_dataset == \"dms\":\n",
    "    model = AttentionModel(**model_dms_kwargs)\n",
    "elif desired_dataset == \"2a3\":\n",
    "    model = AttentionModel(**model_2a3_kwargs)\n",
    "# model= BaselineModel()"
   ]
  },
  {
   "cell_type": "code",
   "execution_count": 23,
   "metadata": {},
   "outputs": [],
   "source": [
    "inp = torch.zeros((2, NUM_REACTIVITIES))\n",
    "inp[:, 0] = 1"
   ]
  },
  {
   "cell_type": "code",
   "execution_count": 24,
   "metadata": {},
   "outputs": [
    {
     "data": {
      "text/plain": [
       "tensor([[0.0000e+00, 5.3057e-02, 4.4558e-01, 6.5869e-03, 0.0000e+00, 1.1272e-01,\n",
       "         2.6484e-01, 0.0000e+00, 0.0000e+00, 0.0000e+00, 0.0000e+00, 0.0000e+00,\n",
       "         1.1126e-02, 8.8696e-04, 1.7578e-01, 0.0000e+00, 0.0000e+00, 0.0000e+00,\n",
       "         0.0000e+00, 5.3540e-02, 7.5706e-03, 1.1682e-02, 3.5635e-01, 0.0000e+00,\n",
       "         1.4374e-01, 5.5607e-01, 4.3531e-01, 0.0000e+00, 2.0895e-02, 0.0000e+00,\n",
       "         0.0000e+00, 0.0000e+00, 3.3457e-01, 4.7717e-01, 0.0000e+00, 3.2619e-01,\n",
       "         4.5629e-01, 0.0000e+00, 2.0239e-01, 3.1963e-01, 0.0000e+00, 1.5677e-01,\n",
       "         7.6257e-02, 3.8343e-01, 2.6197e-01, 0.0000e+00, 0.0000e+00, 0.0000e+00,\n",
       "         0.0000e+00, 0.0000e+00, 0.0000e+00, 0.0000e+00, 5.8042e-01, 0.0000e+00,\n",
       "         2.4630e-01, 4.7028e-02, 0.0000e+00, 0.0000e+00, 0.0000e+00, 1.4386e-01,\n",
       "         5.1121e-01, 1.7544e-01, 0.0000e+00, 3.0134e-01, 0.0000e+00, 0.0000e+00,\n",
       "         1.3123e-01, 7.9583e-02, 1.3463e-01, 2.9989e-02, 4.7034e-01, 0.0000e+00,\n",
       "         0.0000e+00, 0.0000e+00, 5.5664e-01, 0.0000e+00, 0.0000e+00, 2.8434e-01,\n",
       "         0.0000e+00, 1.3795e-01, 0.0000e+00, 0.0000e+00, 0.0000e+00, 0.0000e+00,\n",
       "         1.2645e-01, 0.0000e+00, 0.0000e+00, 2.9080e-01, 0.0000e+00, 2.7522e-01,\n",
       "         0.0000e+00, 0.0000e+00, 2.2825e-01, 0.0000e+00, 0.0000e+00, 3.8688e-01,\n",
       "         2.2704e-01, 2.1826e-01, 2.7007e-03, 0.0000e+00, 8.5590e-02, 0.0000e+00,\n",
       "         2.7963e-01, 1.5206e-01, 9.8572e-02, 7.5016e-02, 0.0000e+00, 0.0000e+00,\n",
       "         0.0000e+00, 1.2122e-01, 0.0000e+00, 0.0000e+00, 3.7221e-01, 1.7125e-01,\n",
       "         0.0000e+00, 0.0000e+00, 1.1743e-02, 2.1568e-01, 0.0000e+00, 0.0000e+00,\n",
       "         7.0555e-03, 2.4954e-01, 0.0000e+00, 7.0299e-02, 0.0000e+00, 0.0000e+00,\n",
       "         1.4959e-01, 7.8308e-02, 2.3251e-01, 0.0000e+00, 2.2136e-01, 0.0000e+00,\n",
       "         1.5892e-01, 4.0417e-01, 0.0000e+00, 0.0000e+00, 2.6761e-01, 0.0000e+00,\n",
       "         0.0000e+00, 4.6774e-02, 3.9982e-02, 0.0000e+00, 0.0000e+00, 1.9301e-01,\n",
       "         8.8925e-02, 0.0000e+00, 1.2940e-01, 0.0000e+00, 3.3135e-01, 0.0000e+00,\n",
       "         0.0000e+00, 9.1904e-02, 0.0000e+00, 0.0000e+00, 5.7206e-01, 7.7395e-02,\n",
       "         0.0000e+00, 1.4854e-01, 4.7281e-01, 7.7356e-02, 4.8468e-01, 1.0971e-01,\n",
       "         2.7081e-01, 5.4042e-02, 1.8791e-01, 0.0000e+00, 2.0859e-01, 0.0000e+00,\n",
       "         0.0000e+00, 2.0057e-01, 2.8679e-01, 1.7355e-01, 0.0000e+00, 0.0000e+00,\n",
       "         1.7793e-01, 1.7288e-01, 3.0482e-01, 0.0000e+00, 0.0000e+00, 3.0920e-02,\n",
       "         3.5036e-01, 0.0000e+00, 5.3291e-02, 3.4337e-01, 1.5071e-01, 4.4726e-01,\n",
       "         0.0000e+00, 5.1697e-01, 0.0000e+00, 2.1807e-01, 0.0000e+00, 4.6908e-02,\n",
       "         1.8120e-02, 0.0000e+00, 6.2312e-03, 2.5588e-01, 0.0000e+00, 0.0000e+00,\n",
       "         4.8645e-01, 0.0000e+00, 0.0000e+00, 2.4988e-01, 7.6131e-02, 1.2466e-01,\n",
       "         0.0000e+00, 3.0778e-01, 2.6733e-01, 0.0000e+00, 0.0000e+00, 0.0000e+00,\n",
       "         0.0000e+00, 0.0000e+00, 1.1271e-01, 0.0000e+00, 2.7319e-01, 3.4608e-02,\n",
       "         2.1483e-03, 0.0000e+00, 1.0397e-01, 0.0000e+00, 1.4555e-01, 0.0000e+00,\n",
       "         0.0000e+00, 1.7211e-01, 2.3301e-01, 3.6724e-01, 1.0970e-01, 7.4551e-02,\n",
       "         0.0000e+00, 0.0000e+00, 0.0000e+00, 1.1084e-03, 1.4090e-01, 0.0000e+00,\n",
       "         0.0000e+00, 0.0000e+00, 2.1612e-01, 0.0000e+00, 1.7427e-01, 2.7435e-01,\n",
       "         3.4466e-02, 1.4388e-02, 3.8223e-02, 0.0000e+00, 0.0000e+00, 3.9785e-01,\n",
       "         0.0000e+00, 0.0000e+00, 0.0000e+00, 0.0000e+00, 1.2094e-01, 1.4852e-01,\n",
       "         1.3808e-01, 2.0033e-02, 2.8609e-01, 4.0164e-01, 0.0000e+00, 1.1213e-02,\n",
       "         0.0000e+00, 0.0000e+00, 4.2548e-01, 2.4690e-01, 2.7587e-01, 0.0000e+00,\n",
       "         0.0000e+00, 0.0000e+00, 0.0000e+00, 0.0000e+00, 0.0000e+00, 2.4614e-01,\n",
       "         2.8421e-01, 0.0000e+00, 1.1528e-01, 4.5513e-01, 0.0000e+00, 0.0000e+00,\n",
       "         0.0000e+00, 2.5724e-01, 3.2122e-01, 0.0000e+00, 1.6460e-01, 0.0000e+00,\n",
       "         3.1444e-01, 4.0463e-01, 5.7339e-02, 1.2035e-01, 1.1289e-01, 1.0212e+00,\n",
       "         5.0424e-01, 1.1228e-01, 4.3681e-01, 1.4188e-02, 0.0000e+00, 1.4691e-01,\n",
       "         0.0000e+00, 0.0000e+00, 0.0000e+00, 0.0000e+00, 1.3199e-01, 1.2897e-02,\n",
       "         0.0000e+00, 0.0000e+00, 0.0000e+00, 0.0000e+00, 7.2076e-02, 0.0000e+00,\n",
       "         0.0000e+00, 0.0000e+00, 1.5100e-01, 0.0000e+00, 1.2077e-01, 0.0000e+00,\n",
       "         0.0000e+00, 1.9205e-01, 3.4385e-01, 0.0000e+00, 4.6406e-01, 1.3598e-01,\n",
       "         0.0000e+00, 2.5788e-01, 0.0000e+00, 0.0000e+00, 3.5145e-01, 0.0000e+00,\n",
       "         0.0000e+00, 0.0000e+00, 0.0000e+00, 0.0000e+00, 3.8699e-01, 9.1700e-02,\n",
       "         0.0000e+00, 0.0000e+00, 0.0000e+00, 0.0000e+00, 0.0000e+00, 0.0000e+00,\n",
       "         0.0000e+00, 0.0000e+00, 0.0000e+00, 8.1959e-02, 1.0459e-01, 0.0000e+00,\n",
       "         3.6264e-02, 0.0000e+00, 2.1713e-01, 0.0000e+00, 0.0000e+00, 0.0000e+00,\n",
       "         0.0000e+00, 1.3626e-01, 2.2731e-02, 0.0000e+00, 4.7606e-02, 2.6802e-01,\n",
       "         6.9841e-02, 2.5705e-01, 1.0005e-02, 2.4628e-01, 0.0000e+00, 3.7143e-01,\n",
       "         3.1822e-01, 2.8086e-03, 0.0000e+00, 0.0000e+00, 0.0000e+00, 1.3553e-02,\n",
       "         2.1570e-01, 0.0000e+00, 1.7795e-01, 2.5883e-01, 3.8704e-02, 4.2246e-01,\n",
       "         1.0664e-01, 0.0000e+00, 2.2757e-03, 0.0000e+00, 3.8180e-01, 7.2796e-02,\n",
       "         0.0000e+00, 4.1492e-01, 1.8452e-01, 0.0000e+00, 0.0000e+00, 7.7852e-02,\n",
       "         0.0000e+00, 0.0000e+00, 0.0000e+00, 1.4962e-01, 1.6494e-01, 5.0762e-02,\n",
       "         0.0000e+00, 4.2238e-01, 7.3310e-02, 1.0615e-01, 0.0000e+00, 0.0000e+00,\n",
       "         0.0000e+00, 0.0000e+00, 0.0000e+00, 1.2319e-01, 0.0000e+00, 0.0000e+00,\n",
       "         0.0000e+00, 2.0739e-01, 0.0000e+00, 0.0000e+00, 6.1242e-01, 4.4199e-02,\n",
       "         0.0000e+00, 0.0000e+00, 2.7528e-01, 0.0000e+00, 1.0211e-01, 0.0000e+00,\n",
       "         4.8985e-02, 0.0000e+00, 0.0000e+00, 0.0000e+00, 0.0000e+00, 1.3821e-01,\n",
       "         0.0000e+00, 1.2997e-01, 4.8383e-02, 1.8537e-03, 1.3075e-01, 0.0000e+00,\n",
       "         0.0000e+00, 1.6430e-01, 0.0000e+00, 0.0000e+00, 5.4406e-01, 0.0000e+00,\n",
       "         2.0570e-02, 6.3786e-02, 2.7401e-01, 0.0000e+00, 0.0000e+00, 0.0000e+00,\n",
       "         0.0000e+00, 0.0000e+00, 0.0000e+00, 0.0000e+00, 7.3007e-02, 0.0000e+00,\n",
       "         8.8457e-02, 0.0000e+00, 2.9225e-01, 0.0000e+00, 2.3348e-01, 9.5859e-02,\n",
       "         0.0000e+00, 5.6770e-02, 0.0000e+00, 2.0612e-01, 0.0000e+00, 2.7697e-01,\n",
       "         1.3623e-01],\n",
       "        [0.0000e+00, 3.6683e-02, 4.1633e-01, 0.0000e+00, 0.0000e+00, 7.7265e-02,\n",
       "         2.5058e-01, 0.0000e+00, 0.0000e+00, 0.0000e+00, 0.0000e+00, 0.0000e+00,\n",
       "         4.2348e-02, 2.7766e-02, 2.0363e-01, 0.0000e+00, 0.0000e+00, 0.0000e+00,\n",
       "         0.0000e+00, 1.5194e-02, 0.0000e+00, 4.5127e-02, 3.1059e-01, 0.0000e+00,\n",
       "         2.0233e-01, 6.5449e-01, 3.4233e-01, 0.0000e+00, 2.7416e-02, 0.0000e+00,\n",
       "         0.0000e+00, 0.0000e+00, 3.5023e-01, 4.0099e-01, 0.0000e+00, 3.6021e-01,\n",
       "         4.5550e-01, 0.0000e+00, 2.6745e-01, 3.3150e-01, 0.0000e+00, 1.7528e-01,\n",
       "         5.5970e-02, 4.0338e-01, 2.6436e-01, 0.0000e+00, 0.0000e+00, 0.0000e+00,\n",
       "         5.6807e-02, 0.0000e+00, 0.0000e+00, 0.0000e+00, 6.0711e-01, 0.0000e+00,\n",
       "         1.9117e-01, 0.0000e+00, 0.0000e+00, 0.0000e+00, 0.0000e+00, 7.5890e-02,\n",
       "         5.4933e-01, 2.3122e-01, 0.0000e+00, 3.2000e-01, 0.0000e+00, 0.0000e+00,\n",
       "         1.5832e-01, 4.5195e-02, 1.5799e-01, 0.0000e+00, 3.7203e-01, 0.0000e+00,\n",
       "         0.0000e+00, 0.0000e+00, 5.8359e-01, 0.0000e+00, 0.0000e+00, 3.3616e-01,\n",
       "         0.0000e+00, 8.8045e-02, 0.0000e+00, 0.0000e+00, 0.0000e+00, 0.0000e+00,\n",
       "         1.9977e-01, 0.0000e+00, 0.0000e+00, 3.2630e-01, 0.0000e+00, 2.8269e-01,\n",
       "         0.0000e+00, 0.0000e+00, 1.7638e-01, 0.0000e+00, 0.0000e+00, 3.8236e-01,\n",
       "         1.5769e-01, 2.0465e-01, 0.0000e+00, 0.0000e+00, 8.0567e-02, 0.0000e+00,\n",
       "         2.1247e-01, 1.8458e-01, 7.6624e-02, 1.0803e-01, 0.0000e+00, 0.0000e+00,\n",
       "         0.0000e+00, 8.8730e-02, 0.0000e+00, 0.0000e+00, 3.5003e-01, 1.5392e-01,\n",
       "         0.0000e+00, 0.0000e+00, 0.0000e+00, 2.0436e-01, 0.0000e+00, 0.0000e+00,\n",
       "         0.0000e+00, 2.3536e-01, 0.0000e+00, 1.6037e-01, 0.0000e+00, 0.0000e+00,\n",
       "         9.6469e-02, 2.4492e-02, 2.8737e-01, 0.0000e+00, 1.9350e-01, 0.0000e+00,\n",
       "         2.0883e-01, 4.2373e-01, 0.0000e+00, 0.0000e+00, 2.8029e-01, 0.0000e+00,\n",
       "         0.0000e+00, 6.2041e-02, 9.7313e-02, 2.8347e-02, 0.0000e+00, 2.6132e-01,\n",
       "         2.8591e-02, 0.0000e+00, 1.2623e-01, 0.0000e+00, 2.6008e-01, 0.0000e+00,\n",
       "         0.0000e+00, 1.5059e-01, 0.0000e+00, 0.0000e+00, 5.8285e-01, 5.0383e-02,\n",
       "         0.0000e+00, 1.4768e-01, 4.8284e-01, 1.4281e-01, 3.9042e-01, 1.7204e-01,\n",
       "         2.7531e-01, 0.0000e+00, 1.0834e-01, 0.0000e+00, 1.9224e-01, 1.7901e-02,\n",
       "         0.0000e+00, 2.2625e-01, 2.9518e-01, 1.8806e-01, 0.0000e+00, 0.0000e+00,\n",
       "         1.1544e-01, 1.8055e-01, 3.9180e-01, 0.0000e+00, 0.0000e+00, 3.5076e-02,\n",
       "         3.5795e-01, 0.0000e+00, 1.1652e-01, 3.1631e-01, 1.3372e-01, 4.5088e-01,\n",
       "         0.0000e+00, 5.2554e-01, 0.0000e+00, 2.1110e-01, 0.0000e+00, 7.1607e-02,\n",
       "         2.4020e-02, 0.0000e+00, 0.0000e+00, 2.3428e-01, 3.1570e-03, 0.0000e+00,\n",
       "         4.9820e-01, 0.0000e+00, 0.0000e+00, 3.5649e-01, 2.1052e-02, 1.2419e-01,\n",
       "         0.0000e+00, 3.3115e-01, 2.9502e-01, 0.0000e+00, 0.0000e+00, 0.0000e+00,\n",
       "         0.0000e+00, 0.0000e+00, 3.7936e-02, 2.2915e-02, 3.1390e-01, 5.5777e-03,\n",
       "         0.0000e+00, 0.0000e+00, 9.8711e-02, 0.0000e+00, 1.1871e-01, 0.0000e+00,\n",
       "         6.6075e-02, 2.3795e-01, 2.1298e-01, 2.8800e-01, 5.7797e-02, 2.2228e-01,\n",
       "         0.0000e+00, 0.0000e+00, 0.0000e+00, 0.0000e+00, 1.5920e-02, 0.0000e+00,\n",
       "         0.0000e+00, 0.0000e+00, 1.9655e-01, 0.0000e+00, 2.5545e-01, 2.4197e-01,\n",
       "         0.0000e+00, 3.9677e-02, 4.4878e-02, 0.0000e+00, 0.0000e+00, 4.1979e-01,\n",
       "         0.0000e+00, 0.0000e+00, 0.0000e+00, 0.0000e+00, 1.3023e-01, 1.0288e-01,\n",
       "         6.9568e-02, 1.7151e-02, 2.9033e-01, 3.7840e-01, 0.0000e+00, 4.0653e-02,\n",
       "         0.0000e+00, 0.0000e+00, 4.9375e-01, 1.6041e-01, 2.6258e-01, 0.0000e+00,\n",
       "         2.7708e-02, 0.0000e+00, 0.0000e+00, 0.0000e+00, 0.0000e+00, 2.5585e-01,\n",
       "         3.5824e-01, 1.6648e-02, 1.7685e-01, 4.4555e-01, 0.0000e+00, 0.0000e+00,\n",
       "         0.0000e+00, 1.6771e-01, 2.9361e-01, 0.0000e+00, 2.0001e-01, 0.0000e+00,\n",
       "         3.4117e-01, 4.1704e-01, 3.7013e-02, 1.3553e-01, 1.8402e-01, 1.0744e+00,\n",
       "         4.5609e-01, 2.3170e-01, 4.1228e-01, 0.0000e+00, 0.0000e+00, 1.3231e-01,\n",
       "         0.0000e+00, 0.0000e+00, 0.0000e+00, 0.0000e+00, 1.5777e-01, 5.5372e-02,\n",
       "         0.0000e+00, 0.0000e+00, 0.0000e+00, 0.0000e+00, 1.0925e-02, 0.0000e+00,\n",
       "         0.0000e+00, 0.0000e+00, 2.2145e-01, 0.0000e+00, 1.4767e-01, 0.0000e+00,\n",
       "         0.0000e+00, 1.3326e-01, 3.4575e-01, 0.0000e+00, 4.7622e-01, 1.8282e-01,\n",
       "         0.0000e+00, 2.9610e-01, 0.0000e+00, 0.0000e+00, 2.7459e-01, 0.0000e+00,\n",
       "         0.0000e+00, 0.0000e+00, 0.0000e+00, 2.3131e-02, 4.3881e-01, 8.3227e-02,\n",
       "         0.0000e+00, 0.0000e+00, 0.0000e+00, 0.0000e+00, 0.0000e+00, 0.0000e+00,\n",
       "         0.0000e+00, 0.0000e+00, 0.0000e+00, 1.2933e-01, 1.3517e-01, 0.0000e+00,\n",
       "         3.1447e-02, 0.0000e+00, 2.1157e-01, 0.0000e+00, 0.0000e+00, 0.0000e+00,\n",
       "         0.0000e+00, 2.0062e-01, 0.0000e+00, 0.0000e+00, 6.5783e-02, 2.0237e-01,\n",
       "         1.2149e-01, 2.2486e-01, 0.0000e+00, 1.3542e-01, 0.0000e+00, 4.3681e-01,\n",
       "         2.5582e-01, 2.6478e-02, 0.0000e+00, 0.0000e+00, 0.0000e+00, 0.0000e+00,\n",
       "         1.9956e-01, 0.0000e+00, 1.9874e-01, 3.0949e-01, 4.8608e-02, 4.9201e-01,\n",
       "         4.8848e-02, 0.0000e+00, 0.0000e+00, 0.0000e+00, 4.1170e-01, 1.2610e-01,\n",
       "         0.0000e+00, 4.1273e-01, 2.3622e-01, 0.0000e+00, 0.0000e+00, 5.0792e-02,\n",
       "         0.0000e+00, 0.0000e+00, 0.0000e+00, 1.8066e-01, 2.0565e-01, 6.2146e-02,\n",
       "         0.0000e+00, 4.0109e-01, 6.6194e-02, 4.1908e-02, 0.0000e+00, 0.0000e+00,\n",
       "         0.0000e+00, 0.0000e+00, 0.0000e+00, 1.0848e-01, 0.0000e+00, 0.0000e+00,\n",
       "         0.0000e+00, 2.4732e-01, 0.0000e+00, 0.0000e+00, 6.4009e-01, 7.7796e-02,\n",
       "         0.0000e+00, 4.5782e-02, 2.2962e-01, 2.2975e-02, 1.4890e-01, 0.0000e+00,\n",
       "         2.7247e-02, 0.0000e+00, 0.0000e+00, 1.4814e-02, 0.0000e+00, 1.4226e-01,\n",
       "         0.0000e+00, 1.9342e-01, 7.1430e-02, 4.6938e-02, 1.1565e-01, 0.0000e+00,\n",
       "         0.0000e+00, 1.5611e-01, 0.0000e+00, 0.0000e+00, 5.0026e-01, 0.0000e+00,\n",
       "         0.0000e+00, 7.7878e-02, 3.5137e-01, 0.0000e+00, 0.0000e+00, 0.0000e+00,\n",
       "         0.0000e+00, 0.0000e+00, 0.0000e+00, 0.0000e+00, 4.2173e-02, 0.0000e+00,\n",
       "         5.3788e-02, 0.0000e+00, 3.0403e-01, 0.0000e+00, 2.1721e-01, 1.1882e-01,\n",
       "         0.0000e+00, 0.0000e+00, 0.0000e+00, 2.1111e-01, 0.0000e+00, 2.3996e-01,\n",
       "         1.8854e-01]])"
      ]
     },
     "execution_count": 24,
     "metadata": {},
     "output_type": "execute_result"
    }
   ],
   "source": [
    "model.configure_for_training()\n",
    "model(inp.cuda()).cpu().detach()"
   ]
  },
  {
   "cell_type": "code",
   "execution_count": 25,
   "metadata": {},
   "outputs": [
    {
     "name": "stdout",
     "output_type": "stream",
     "text": [
      "AttentionModel(\n",
      "  (conv_layer): Conv1d(1, 32, kernel_size=(31,), stride=(1,), padding=same)\n",
      "  (conv_layer_b): Conv1d(1, 32, kernel_size=(31,), stride=(1,), padding=same)\n",
      "  (pos_embedding): SinePositionalEmbedding()\n",
      "  (encoder_layers): CustomTransformerEncoder(\n",
      "    (0): CustomTransformerEncoderLayer(\n",
      "      (attention): SDPAttention(\n",
      "        (mha): MultiHeadDispatch(\n",
      "          (attention): ScaledDotProduct(\n",
      "            (attn_drop): Dropout(p=0.1, inplace=False)\n",
      "          )\n",
      "          (in_proj_container): InputProjection(\n",
      "            (q_proj): Linear(in_features=32, out_features=32, bias=True)\n",
      "            (k_proj): Linear(in_features=32, out_features=32, bias=True)\n",
      "            (v_proj): Linear(in_features=32, out_features=32, bias=True)\n",
      "          )\n",
      "          (resid_drop): Dropout(p=0.0, inplace=False)\n",
      "          (proj): Linear(in_features=32, out_features=32, bias=True)\n",
      "        )\n",
      "      )\n",
      "      (layer_norm): LayerNorm((32,), eps=1e-05, elementwise_affine=True)\n",
      "      (ff1): Linear(in_features=32, out_features=256, bias=True)\n",
      "      (ff2): Linear(in_features=256, out_features=32, bias=True)\n",
      "      (gelu): GELU(approximate='none')\n",
      "    )\n",
      "    (1): CustomTransformerEncoderLayer(\n",
      "      (attention): SDPAttention(\n",
      "        (mha): MultiHeadDispatch(\n",
      "          (attention): ScaledDotProduct(\n",
      "            (attn_drop): Dropout(p=0.1, inplace=False)\n",
      "          )\n",
      "          (in_proj_container): InputProjection(\n",
      "            (q_proj): Linear(in_features=32, out_features=32, bias=True)\n",
      "            (k_proj): Linear(in_features=32, out_features=32, bias=True)\n",
      "            (v_proj): Linear(in_features=32, out_features=32, bias=True)\n",
      "          )\n",
      "          (resid_drop): Dropout(p=0.0, inplace=False)\n",
      "          (proj): Linear(in_features=32, out_features=32, bias=True)\n",
      "        )\n",
      "      )\n",
      "      (layer_norm): LayerNorm((32,), eps=1e-05, elementwise_affine=True)\n",
      "      (ff1): Linear(in_features=32, out_features=256, bias=True)\n",
      "      (ff2): Linear(in_features=256, out_features=32, bias=True)\n",
      "      (gelu): GELU(approximate='none')\n",
      "    )\n",
      "  )\n",
      "  (head): Linear(in_features=32, out_features=1, bias=True)\n",
      "  (final_result): Linear(in_features=457, out_features=457, bias=True)\n",
      "  (relu): ReLU()\n",
      "  (gelu): GELU(approximate='none')\n",
      ")\n"
     ]
    }
   ],
   "source": [
    "print(model)"
   ]
  },
  {
   "cell_type": "code",
   "execution_count": 26,
   "metadata": {},
   "outputs": [
    {
     "name": "stdout",
     "output_type": "stream",
     "text": [
      "Total params: 253307\n"
     ]
    }
   ],
   "source": [
    "model_parameters = filter(lambda p: p.requires_grad, model.parameters())\n",
    "params = sum([np.prod(p.size()) for p in model_parameters])\n",
    "print(\"Total params:\", params)"
   ]
  },
  {
   "cell_type": "code",
   "execution_count": 27,
   "metadata": {},
   "outputs": [
    {
     "data": {
      "text/html": [
       "\n",
       "<style>\n",
       "    /* Turns off some styling */\n",
       "    progress {\n",
       "        /* gets rid of default border in Firefox and Opera. */\n",
       "        border: none;\n",
       "        /* Needs to be in here for Safari polyfill so background images work as expected. */\n",
       "        background-size: auto;\n",
       "    }\n",
       "    progress:not([value]), progress:not([value])::-webkit-progress-bar {\n",
       "        background: repeating-linear-gradient(45deg, #7e7e7e, #7e7e7e 10px, #5c5c5c 10px, #5c5c5c 20px);\n",
       "    }\n",
       "    .progress-bar-interrupted, .progress-bar-interrupted::-webkit-progress-bar {\n",
       "        background: #F44336;\n",
       "    }\n",
       "</style>\n"
      ],
      "text/plain": [
       "<IPython.core.display.HTML object>"
      ]
     },
     "metadata": {},
     "output_type": "display_data"
    },
    {
     "data": {
      "text/html": [],
      "text/plain": [
       "<IPython.core.display.HTML object>"
      ]
     },
     "metadata": {},
     "output_type": "display_data"
    },
    {
     "data": {
      "text/plain": [
       "SuggestedLRs(valley=0.010964781977236271)"
      ]
     },
     "execution_count": 27,
     "metadata": {},
     "output_type": "execute_result"
    },
    {
     "data": {
      "image/png": "[encoded data removed]",
      "text/plain": [
       "<Figure size 640x480 with 1 Axes>"
      ]
     },
     "metadata": {},
     "output_type": "display_data"
    }
   ],
   "source": [
    "import fastai.learner as learner\n",
    "import fastai.callback.schedule\n",
    "import fastai.data.core as fdata\n",
    "\n",
    "model.configure_for_lr_testing()\n",
    "learner.Learner(\n",
    "    fdata.DataLoaders(\n",
    "        data.DataLoader(train_dataset, batch_size=32, shuffle=True),\n",
    "        data.DataLoader(val_dataset, batch_size=32, shuffle=True),\n",
    "    ),\n",
    "    model,\n",
    "    loss_func=model.weightedLoss,\n",
    ").lr_find(stop_div=False, num_it=200)"
   ]
  },
  {
   "cell_type": "code",
   "execution_count": 28,
   "metadata": {},
   "outputs": [],
   "source": [
    "model.configure_for_training()"
   ]
  },
  {
   "cell_type": "code",
   "execution_count": 29,
   "metadata": {},
   "outputs": [],
   "source": [
    "optimizer = torch.optim.Adam(model.parameters(), 2e-3)"
   ]
  },
  {
   "cell_type": "markdown",
   "metadata": {},
   "source": [
    "## Train"
   ]
  },
  {
   "cell_type": "code",
   "execution_count": 30,
   "metadata": {},
   "outputs": [],
   "source": [
    "BATCH_SIZE = 128\n",
    "SHUFFLE = True\n",
    "\n",
    "train_dataloader = data.DataLoader(\n",
    "    train_dataset, batch_size=BATCH_SIZE, shuffle=SHUFFLE\n",
    ")\n",
    "val_dataloader = data.DataLoader(\n",
    "    val_dataset, batch_size=BATCH_SIZE, shuffle=False\n",
    ")  # no point in shuffling val"
   ]
  },
  {
   "cell_type": "code",
   "execution_count": 31,
   "metadata": {},
   "outputs": [],
   "source": [
    "def weightedL1(\n",
    "    y_pred: torch.Tensor,\n",
    "    y_true: torch.Tensor,\n",
    "    weights: torch.Tensor,\n",
    "    l1=torch.nn.L1Loss(),\n",
    "):\n",
    "    return (l1(y_pred, y_true) * weights).sum(dim=-1).mean()"
   ]
  },
  {
   "cell_type": "code",
   "execution_count": 32,
   "metadata": {
    "ExecuteTime": {
     "end_time": "2023-10-05T17:09:43.992618Z",
     "start_time": "2023-10-05T17:09:43.053099Z"
    }
   },
   "outputs": [],
   "source": [
    "def train_batch(\n",
    "    m: torch.nn.Module, inps: torch.Tensor, outs: torch.Tensor, masks: torch.Tensor\n",
    "):\n",
    "    \"\"\"\n",
    "    Get the loss on a batch and perform the corresponding weight updates.\n",
    "    Used for training purposes\n",
    "    \"\"\"\n",
    "    optimizer.zero_grad()\n",
    "    loss = weightedL1(m(inps), outs, masks)\n",
    "\n",
    "    loss.backward()\n",
    "\n",
    "    # calculate gradients\n",
    "    optimizer.step()\n",
    "\n",
    "    # return mae loss\n",
    "    return loss\n",
    "\n",
    "\n",
    "def noupdate_batch(\n",
    "    m: torch.nn.Module, inps: torch.Tensor, outs: torch.Tensor, masks: torch.Tensor\n",
    "):\n",
    "    \"\"\"\n",
    "    Get the loss on a batch without performing any updates.\n",
    "    Used for validation purposes\n",
    "    \"\"\"\n",
    "    with torch.no_grad():\n",
    "        loss = weightedL1(m(inps), outs, masks)\n",
    "\n",
    "    # return mae loss\n",
    "    return loss\n",
    "\n",
    "\n",
    "def masked_train(\n",
    "    m: torch.nn.Module,\n",
    "    train_dataloader: data.DataLoader,\n",
    "    val_dataloader: data.DataLoader,\n",
    "    epochs: int = 1,\n",
    "    device: str = \"cuda\",\n",
    "):\n",
    "    \"\"\"\n",
    "    Train the given model.\n",
    "\n",
    "    Arguments:\n",
    "        - m: keras.Model - the model to train.\n",
    "        - x: np.ndarray - the numpy array of inputs.\n",
    "        - y: np.ndarray - the numpy array of outputs.\n",
    "        - masks: np.ndarray - the sample weights (1s and 0s).\n",
    "        - batch_size: int - how large the batches should be. Defaults to `32`.\n",
    "        - epochs: int - how many epochs to train for. Defaults to `1`.\n",
    "        - validation_split: float - how large the validation subset should be, in the range (0, 1]. Defaults to `0.1`.\n",
    "\n",
    "    Note - The choice of np.ndarray is purely arbitrary, and this function can be modified to use tf.Tensors\n",
    "\n",
    "    Note - shuffle code is provided in numpy, but commented out because of memory limitations that less powerful computers\n",
    "    may encounter.\n",
    "    \"\"\"\n",
    "    # shuffle\n",
    "    # shuffled_idxs = np.arange(x.shape[0])\n",
    "    # np.random.shuffle(shuffled_idxs)\n",
    "    # x = x[shuffled_idxs]\n",
    "    # y = y[shuffled_idxs]\n",
    "    # masks = masks[shuffled_idxs]\n",
    "    m = m.to(device)\n",
    "\n",
    "    for epoch in range(1, epochs + 1):\n",
    "        print(f\"Epoch {epoch}\")\n",
    "        epoch_mae = 0.0\n",
    "\n",
    "        m = m.train()\n",
    "        for batch, tdata in enumerate(train_dataloader):\n",
    "            inps, outs, masks = tdata\n",
    "\n",
    "            inps = inps.to(device)\n",
    "            outs = outs.to(device)\n",
    "            masks = masks.to(device)\n",
    "\n",
    "            mae_loss = train_batch(m, inps, outs, masks).detach().cpu()\n",
    "\n",
    "            epoch_mae += mae_loss\n",
    "\n",
    "            # log\n",
    "            print(\n",
    "                f\"Batch {batch+1}/{len(train_dataloader)}\\t- mae loss: {mae_loss:.5f}\",\n",
    "                end=\"\\r\",\n",
    "            )\n",
    "\n",
    "            # break  # used for sanity check\n",
    "        epoch_mae /= len(train_dataloader)\n",
    "\n",
    "        # do validation\n",
    "        val_mae = 0.0\n",
    "        m = m.eval()\n",
    "        for batch, vdata in enumerate(val_dataloader):\n",
    "            inps, outs, masks = vdata\n",
    "            inps = inps.to(device)\n",
    "            outs = outs.to(device)\n",
    "            masks = masks.to(device)\n",
    "            mae_loss = noupdate_batch(m, inps, outs, masks)\n",
    "\n",
    "            val_mae += mae_loss\n",
    "        val_mae /= len(val_dataloader)\n",
    "\n",
    "        # shuffle\n",
    "        # shuffled_idxs = np.arange(x.shape[0])\n",
    "        # np.random.shuffle(shuffled_idxs)\n",
    "        # x = x[shuffled_idxs]\n",
    "        # y = y[shuffled_idxs]\n",
    "        # masks = masks[shuffled_idxs]\n",
    "\n",
    "        print()\n",
    "        print(f\"Epoch MAE: {epoch_mae:.5f}\\tVal MAE: {val_mae:.5f}\")"
   ]
  },
  {
   "cell_type": "code",
   "execution_count": 33,
   "metadata": {
    "ExecuteTime": {
     "end_time": "2023-10-05T17:14:00.128074Z",
     "start_time": "2023-10-05T17:09:43.998369Z"
    }
   },
   "outputs": [
    {
     "name": "stdout",
     "output_type": "stream",
     "text": [
      "Epoch 1\n",
      "Batch 1484/1484\t- mae loss: 4.56457\n",
      "Epoch MAE: 4.73672\tVal MAE: 4.59158\n",
      "Epoch 2\n",
      "Batch 1484/1484\t- mae loss: 4.22912\n",
      "Epoch MAE: 4.47730\tVal MAE: 4.35422\n",
      "Epoch 3\n",
      "Batch 1484/1484\t- mae loss: 3.93581\n",
      "Epoch MAE: 4.25839\tVal MAE: 4.18861\n",
      "Epoch 4\n",
      "Batch 1484/1484\t- mae loss: 3.91748\n",
      "Epoch MAE: 4.12989\tVal MAE: 4.08329\n",
      "Epoch 5\n",
      "Batch 1484/1484\t- mae loss: 4.16344\n",
      "Epoch MAE: 4.04672\tVal MAE: 4.01285\n"
     ]
    }
   ],
   "source": [
    "# baseline gets ~ 3.64968 on dms w/ 10 epochs, ~ 4.64478 on 2a3 w/ 10 epochs\n",
    "masked_train(\n",
    "    model, train_dataloader=train_dataloader, val_dataloader=val_dataloader, epochs=5\n",
    ")"
   ]
  },
  {
   "cell_type": "markdown",
   "metadata": {},
   "source": [
    "## Save"
   ]
  },
  {
   "cell_type": "markdown",
   "metadata": {},
   "source": [
    "This section saves the current model"
   ]
  },
  {
   "cell_type": "code",
   "execution_count": 34,
   "metadata": {
    "ExecuteTime": {
     "end_time": "2023-10-05T17:14:00.616528Z",
     "start_time": "2023-10-05T17:14:00.119617Z"
    }
   },
   "outputs": [],
   "source": [
    "torch.save(model.state_dict(), f\"{desired_dataset}_model\")"
   ]
  },
  {
   "cell_type": "markdown",
   "metadata": {},
   "source": [
    "## Process Outputs"
   ]
  },
  {
   "cell_type": "markdown",
   "metadata": {},
   "source": [
    "This section of the noteboook creates a zipped csv submission file that can\n",
    "be submitted on Kaggle."
   ]
  },
  {
   "cell_type": "code",
   "execution_count": 35,
   "metadata": {
    "ExecuteTime": {
     "end_time": "2023-10-05T17:14:00.624146Z",
     "start_time": "2023-10-05T17:14:00.601389Z"
    }
   },
   "outputs": [],
   "source": [
    "make_submissions = True"
   ]
  },
  {
   "cell_type": "code",
   "execution_count": 39,
   "metadata": {
    "ExecuteTime": {
     "end_time": "2023-10-05T17:14:01.233216Z",
     "start_time": "2023-10-05T17:14:00.608006Z"
    }
   },
   "outputs": [],
   "source": [
    "valid = False\n",
    "\n",
    "if (\n",
    "    os.path.exists(\"2a3_model\")\n",
    "    and os.path.exists(\"dms_model\")\n",
    "    and os.path.exists(\"test_sequences.csv\")\n",
    "    and make_submissions\n",
    "):\n",
    "    valid = True\n",
    "    model_2a3 = AttentionModel(**model_2a3_kwargs)\n",
    "    model_2a3.load_state_dict(torch.load(\"2a3_model\"))\n",
    "    model_dms = AttentionModel(**model_dms_kwargs)\n",
    "    model_dms.load_state_dict(torch.load(\"dms_model\"))\n",
    "\n",
    "    model_2a3.eval().cuda().configure_for_training()\n",
    "    model_dms.eval().cuda().configure_for_training()\n",
    "else:\n",
    "    print(\"Not going to create submissions.\")"
   ]
  },
  {
   "cell_type": "code",
   "execution_count": 40,
   "metadata": {
    "ExecuteTime": {
     "end_time": "2023-10-05T17:14:01.247263Z",
     "start_time": "2023-10-05T17:14:01.233464Z"
    }
   },
   "outputs": [],
   "source": [
    "def pipeline(\n",
    "    model_2a3: torch.nn.Module,\n",
    "    model_dms: torch.nn.Module,\n",
    "    input_csv: str,\n",
    "    out: str,\n",
    "    batch_size: int,\n",
    "):\n",
    "    \"\"\"\n",
    "    Process test data and write submissions to a csv file\n",
    "\n",
    "    Arguments:\n",
    "        - model_2a3: keras.Model - the model trained on the 2a3 distribution\n",
    "        - model_dms: keras.Model - the model trained on the dms distribution\n",
    "        - input_csv: str - the name of the file that contains the test data\n",
    "        - out: str - the name of the file to write predictions to\n",
    "        - batch_size: int - how many predictions to make at a time\n",
    "    \"\"\"\n",
    "    count = 0\n",
    "\n",
    "    # count how many lines we have in total\n",
    "    with open(input_csv) as file:\n",
    "        line = file.readline()  # ignore the header\n",
    "        # take the first line since we increment count in the loop\n",
    "        line = file.readline()\n",
    "        while line != \"\":\n",
    "            count += 1\n",
    "            line = file.readline()\n",
    "\n",
    "    # use that knowledge for a progress bar\n",
    "    with open(input_csv, \"r\") as file, open(out, \"w\") as outfile:\n",
    "        # write the header\n",
    "        outfile.write(\"id,reactivity_DMS_MaP,reactivity_2A3_MaP\\n\")\n",
    "\n",
    "        # get what index the things we need are\n",
    "        header = file.readline()\n",
    "        split_header = header.split(\",\")\n",
    "        min_idx = split_header.index(\"id_min\")\n",
    "        max_idx = split_header.index(\"id_max\")\n",
    "        sequence_idx = split_header.index(\"sequence\")\n",
    "\n",
    "        # only take the approved filtered lines\n",
    "        num_batches = count // batch_size\n",
    "        if count % batch_size != 0:\n",
    "            num_batches += 1\n",
    "        for batch in tqdm(range(num_batches)):\n",
    "            num_items = min(batch_size, count - batch * batch_size)\n",
    "\n",
    "            # initialize variables\n",
    "            inputs = np.zeros((num_items, NUM_REACTIVITIES))\n",
    "            min_seq_idxs = []\n",
    "            sequence_lengths = []\n",
    "\n",
    "            # collect the inputs\n",
    "            for i in range(num_items):\n",
    "                line = file.readline()\n",
    "                temp = line.split(\",\")\n",
    "                sequence = temp[sequence_idx]\n",
    "                max_seq_idx = int(temp[max_idx])\n",
    "                min_seq_idx = int(temp[min_idx])\n",
    "\n",
    "                # verify that everything is correct\n",
    "                assert len(sequence) + min_seq_idx - 1 == max_seq_idx\n",
    "\n",
    "                # store the data\n",
    "                inputs[i, : len(sequence)] = np.array(\n",
    "                    list(map(lambda letter: base_map[letter], sequence))\n",
    "                )\n",
    "                min_seq_idxs.append(min_seq_idx)\n",
    "                sequence_lengths.append(len(sequence))\n",
    "\n",
    "            # run inputs through the associated model\n",
    "            inputs = torch.tensor(inputs, dtype=torch.float32).cuda()\n",
    "            with torch.no_grad():\n",
    "                probs_2a3, probs_dms = model_2a3(inputs), model_dms(inputs)\n",
    "            probs_dms = probs_dms.cpu()\n",
    "            probs_2a3 = probs_2a3.cpu()\n",
    "\n",
    "            # write predictions\n",
    "            for i in range(num_items):\n",
    "                for seq_idx in range(\n",
    "                    min_seq_idxs[i], min_seq_idxs[i] + sequence_lengths[i]\n",
    "                ):\n",
    "                    outfile.write(\n",
    "                        f\"{seq_idx},{probs_dms[i, seq_idx - min_seq_idxs[i]]:.3f},{probs_2a3[i, seq_idx - min_seq_idxs[i]]:.3f}\\n\"\n",
    "                    )"
   ]
  },
  {
   "cell_type": "code",
   "execution_count": 42,
   "metadata": {
    "ExecuteTime": {
     "start_time": "2023-10-05T17:14:01.248308Z"
    },
    "is_executing": true
   },
   "outputs": [
    {
     "name": "stderr",
     "output_type": "stream",
     "text": [
      "100%|██████████| 5250/5250 [1:06:03<00:00,  1.32it/s]\n"
     ]
    }
   ],
   "source": [
    "if valid:\n",
    "    pipeline(\n",
    "        model_2a3, model_dms, \"test_sequences.csv\", \"submission.csv\", batch_size=256\n",
    "    )\n",
    "else:\n",
    "    print(\"Not going to create submissions.\")"
   ]
  },
  {
   "cell_type": "code",
   "execution_count": 43,
   "metadata": {
    "is_executing": true
   },
   "outputs": [
    {
     "name": "stdout",
     "output_type": "stream",
     "text": [
      "zipping submissions. This may take a while...\n",
      "updating: submission.csv (deflated 81%)\n",
      "Done zipping submissions!\n"
     ]
    }
   ],
   "source": [
    "if valid:\n",
    "    # zip our submission into an easily-uploadable zip file\n",
    "    print(\"zipping submissions. This may take a while...\")\n",
    "    os.system(\"zip submission.csv.zip submission.csv\")\n",
    "    print(\"Done zipping submissions!\")\n",
    "else:\n",
    "    print(\"Not going to zip submissions.\")"
   ]
  },
  {
   "cell_type": "code",
   "execution_count": null,
   "metadata": {
    "collapsed": false
   },
   "outputs": [],
   "source": []
  }
 ],
 "metadata": {
  "kernelspec": {
   "display_name": "tf",
   "language": "python",
   "name": "python3"
  },
  "language_info": {
   "codemirror_mode": {
    "name": "ipython",
    "version": 3
   },
   "file_extension": ".py",
   "mimetype": "text/x-python",
   "name": "python",
   "nbconvert_exporter": "python",
   "pygments_lexer": "ipython3",
   "version": "3.11.5"
  },
  "orig_nbformat": 4
 },
 "nbformat": 4,
 "nbformat_minor": 2
}
