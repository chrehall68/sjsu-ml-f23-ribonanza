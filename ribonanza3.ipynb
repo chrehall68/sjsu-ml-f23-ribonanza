{
 "cells": [
  {
   "cell_type": "markdown",
   "metadata": {},
   "source": [
    "# Ribonanza - Attempt 3"
   ]
  },
  {
   "cell_type": "markdown",
   "metadata": {},
   "source": [
    "A second approach to the [Stanford Ribonanza problem](https://www.kaggle.com/competitions/stanford-ribonanza-rna-folding/) that builds off the first and second approaches.\n",
    "\n",
    "Major differences:\n",
    "- use of pytorch instead of tensorflow\n",
    "- use of attention model architecture"
   ]
  },
  {
   "cell_type": "markdown",
   "metadata": {},
   "source": [
    "Currently, the attention architecture scores 0.2049"
   ]
  },
  {
   "cell_type": "markdown",
   "metadata": {},
   "source": [
    "## Todo"
   ]
  },
  {
   "cell_type": "markdown",
   "metadata": {},
   "source": [
    "- improve model\n",
    "- experiment with other types of attention\n",
    "- use full transformer model (with decoder) (not just encoder)"
   ]
  },
  {
   "cell_type": "markdown",
   "metadata": {},
   "source": [
    "## Setup"
   ]
  },
  {
   "cell_type": "markdown",
   "metadata": {},
   "source": [
    "### Filesystem Setup"
   ]
  },
  {
   "cell_type": "markdown",
   "metadata": {},
   "source": [
    "Your project directory should look like this:\n",
    "\n",
    "- `(project directory)`\n",
    "    - `ribonanza2.ipynb`\n",
    "    - `train_data.csv`\n",
    "    - `test_data.csv` (optional)\n",
    "\n",
    "`train_data.csv` is the only file necessary for training, and it can be downloaded from the kaggle competition linked in the description.\n",
    "\n",
    "`test_data.csv` is only necessary if you intend to make and submit predictions."
   ]
  },
  {
   "cell_type": "markdown",
   "metadata": {},
   "source": [
    "### Code Setup"
   ]
  },
  {
   "cell_type": "code",
   "execution_count": 1,
   "metadata": {},
   "outputs": [],
   "source": [
    "# imports\n",
    "import torch\n",
    "import torch.utils.data as data\n",
    "import pandas\n",
    "import numpy as np\n",
    "from tqdm import tqdm\n",
    "import seaborn\n",
    "import os\n",
    "\n",
    "# used for better attention mechanisms\n",
    "import xformers.components.positional_embedding as embeddings\n",
    "import xformers.ops as xops\n",
    "import xformers.components.attention as attentions\n",
    "import xformers.components.attention.utils as att_utils\n",
    "import xformers.components as components\n",
    "\n",
    "# used for learning rate examining\n",
    "import fastai.learner as learner\n",
    "import fastai.callback.schedule  # used for lr_find\n",
    "import fastai.data.core as fdata"
   ]
  },
  {
   "cell_type": "code",
   "execution_count": 2,
   "metadata": {},
   "outputs": [],
   "source": [
    "# constants\n",
    "\n",
    "# according to kaggle, this is the maximum # of reactivites to be used\n",
    "NUM_REACTIVITIES = 457\n",
    "\n",
    "# there are 4 different bases (AUCG)\n",
    "NUM_BASES = 4"
   ]
  },
  {
   "cell_type": "markdown",
   "metadata": {},
   "source": [
    "## Data Preprocessing"
   ]
  },
  {
   "cell_type": "markdown",
   "metadata": {},
   "source": [
    "### Filter Data"
   ]
  },
  {
   "cell_type": "code",
   "execution_count": 3,
   "metadata": {},
   "outputs": [],
   "source": [
    "def filter_data(out: str, key: str, value: str, file_name: str, force: bool):\n",
    "    \"\"\"\n",
    "    Filters a file to only take datapoints\n",
    "    whose values of `key` are `value`.\n",
    "\n",
    "    Parameters:\n",
    "        - out: str - the name of the file that will store the filtered datapoints\n",
    "        - key: str - the name of the key to look at\n",
    "        - value: str - the value that the key should have\n",
    "        - file_name: str - the name of the file that contains all the datapoints.\n",
    "        - force: bool - whether or not to force re-processing of the data (if False and `out` already exists, no work will be done)\n",
    "    \"\"\"\n",
    "    if os.path.exists(out) and not force:\n",
    "        print(\"File already exists, not doing any work\")\n",
    "        return\n",
    "\n",
    "    count = 0\n",
    "\n",
    "    # count how many lines we have in total\n",
    "    with open(file_name) as file:\n",
    "        line = file.readline()  # ignore the header\n",
    "        line = (\n",
    "            file.readline()\n",
    "        )  # take the first line since we increment count in the loop\n",
    "        while line != \"\":\n",
    "            count += 1\n",
    "            line = file.readline()\n",
    "\n",
    "    # use that knowledge for a progress bar\n",
    "    with open(file_name, \"r\") as file, open(out, \"w\") as outfile:\n",
    "        # write the header\n",
    "        header = file.readline()\n",
    "        outfile.write(header)\n",
    "\n",
    "        # get what index the SN_filter is\n",
    "        SN_idx = header.split(\",\").index(key)\n",
    "\n",
    "        # only take the approved filtered lines\n",
    "        for _ in tqdm(range(count)):\n",
    "            line = file.readline()\n",
    "            temp = line.split(\",\")\n",
    "            if temp[SN_idx] == value:\n",
    "                outfile.write(line)\n",
    "\n",
    "\n",
    "def filter_train_data(force: bool = False):\n",
    "    \"\"\"\n",
    "    Filters the immense train_data.csv to only take datapoints\n",
    "    whose SN_filter (Signal to Noise filter) is 1. In other words,\n",
    "    we only take good reads. These filtered datapoints are then\n",
    "    written to the file provided\n",
    "\n",
    "    Parameters:\n",
    "        - force: bool - whether or not to force re-processing of the data (if False and `out` already exists, no work will be done)\n",
    "    \"\"\"\n",
    "    filter_data(\"train_data_filtered.csv\", \"SN_filter\", \"1\", \"train_data.csv\", force)\n",
    "\n",
    "\n",
    "def filter_2A3(force: bool = False):\n",
    "    \"\"\"\n",
    "    Only take the 2A3 points\n",
    "\n",
    "    Parameters:\n",
    "        - force: bool - whether or not to force re-processing of the data (if False and `out` already exists, no work will be done)\n",
    "    \"\"\"\n",
    "    filter_data(\n",
    "        \"train_data_2a3.csv\",\n",
    "        \"experiment_type\",\n",
    "        \"2A3_MaP\",\n",
    "        \"train_data_filtered.csv\",\n",
    "        force,\n",
    "    )\n",
    "\n",
    "\n",
    "def filter_DMS(force: bool = False):\n",
    "    \"\"\"\n",
    "    Only take the DMS points\n",
    "\n",
    "    Parameters:\n",
    "        - force: bool - whether or not to force re-processing of the data (if False and `out` already exists, no work will be done)\n",
    "    \"\"\"\n",
    "    filter_data(\n",
    "        \"train_data_dms.csv\",\n",
    "        \"experiment_type\",\n",
    "        \"DMS_MaP\",\n",
    "        \"train_data_filtered.csv\",\n",
    "        force,\n",
    "    )"
   ]
  },
  {
   "cell_type": "code",
   "execution_count": 4,
   "metadata": {},
   "outputs": [
    {
     "name": "stdout",
     "output_type": "stream",
     "text": [
      "File already exists, not doing any work\n"
     ]
    }
   ],
   "source": [
    "# filter our data\n",
    "filter_train_data()"
   ]
  },
  {
   "cell_type": "code",
   "execution_count": 5,
   "metadata": {},
   "outputs": [
    {
     "name": "stdout",
     "output_type": "stream",
     "text": [
      "File already exists, not doing any work\n"
     ]
    }
   ],
   "source": [
    "# take the 2a3 points\n",
    "filter_2A3()"
   ]
  },
  {
   "cell_type": "code",
   "execution_count": 6,
   "metadata": {},
   "outputs": [
    {
     "name": "stdout",
     "output_type": "stream",
     "text": [
      "File already exists, not doing any work\n"
     ]
    }
   ],
   "source": [
    "# take the dms points\n",
    "filter_DMS()"
   ]
  },
  {
   "cell_type": "markdown",
   "metadata": {},
   "source": [
    "### Convert Data to Inputs and Outputs"
   ]
  },
  {
   "cell_type": "code",
   "execution_count": 7,
   "metadata": {},
   "outputs": [],
   "source": [
    "# encode inputs as\n",
    "# A : 1\n",
    "# U : 2\n",
    "# C : 3\n",
    "# G : 4\n",
    "base_map = {\n",
    "    \"A\": 1,\n",
    "    \"U\": 2,\n",
    "    \"C\": 3,\n",
    "    \"G\": 4,\n",
    "}"
   ]
  },
  {
   "cell_type": "code",
   "execution_count": 8,
   "metadata": {},
   "outputs": [],
   "source": [
    "def preprocess_csv(out: str, file_name: str, force: bool = False):\n",
    "    \"\"\"\n",
    "    Preprocess the csv and save the preprocessed data as a .npz file\n",
    "\n",
    "    Parameters:\n",
    "        - out: str - the name of the file to save the arrays to\n",
    "        - file_name: str - the name of the input csv file\n",
    "        - force: bool - whether or not to force re-processing of the data (if False and `out` already exists, no work will be done).\n",
    "                Defaults to `False`\n",
    "    \"\"\"\n",
    "    if os.path.exists(out) and not force:\n",
    "        print(\"File already exists, not doing any work\")\n",
    "        return\n",
    "\n",
    "    df = pandas.read_csv(file_name)\n",
    "\n",
    "    inputs = np.zeros((len(df), NUM_REACTIVITIES))\n",
    "    outputs = np.zeros((len(df), NUM_REACTIVITIES))\n",
    "    output_masks = np.ones((len(df), NUM_REACTIVITIES), dtype=np.bool_)\n",
    "    errors = np.zeros((len(df), NUM_REACTIVITIES))\n",
    "\n",
    "    for index in tqdm(range(len(df))):\n",
    "        row = df.iloc[index]\n",
    "\n",
    "        # get the sequence\n",
    "        seq_len = len(row[\"sequence\"])\n",
    "\n",
    "        # map the base to its one-hot encoding\n",
    "        inputs[index, :seq_len] = np.array(\n",
    "            list(map(lambda letter: base_map[letter], row[\"sequence\"]))\n",
    "        )\n",
    "\n",
    "        # get all the reactivities and reactivity errors\n",
    "        reactivities = np.array(\n",
    "            list(\n",
    "                map(\n",
    "                    lambda seq_idx: row[\"reactivity_\" + str(seq_idx + 1).rjust(4, \"0\")],\n",
    "                    range(seq_len),\n",
    "                )\n",
    "            )\n",
    "        )\n",
    "        reactivity_errors = np.array(\n",
    "            list(\n",
    "                map(\n",
    "                    lambda seq_idx: row[\n",
    "                        \"reactivity_error_\" + str(seq_idx + 1).rjust(4, \"0\")\n",
    "                    ],\n",
    "                    range(seq_len),\n",
    "                )\n",
    "            )\n",
    "        )\n",
    "\n",
    "        # replace reactivity error nans with 0s (assume no error)\n",
    "        reactivity_errors = np.where(\n",
    "            np.isnan(reactivity_errors), 0.0, reactivity_errors\n",
    "        )\n",
    "\n",
    "        # get where all the reactivities are nan\n",
    "        nan_locats = np.isnan(reactivities)\n",
    "\n",
    "        # where it is nan, store True, else false\n",
    "        output_masks[index, :seq_len] = nan_locats\n",
    "\n",
    "        # where it is not nan, store the reactivity and error, else 0\n",
    "        outputs[index, :seq_len] = np.where(nan_locats == False, reactivities, 0.0)\n",
    "        errors[index, :seq_len] = np.where(nan_locats == False, reactivity_errors, 0.0)\n",
    "\n",
    "    # save the outputs\n",
    "    np.savez_compressed(\n",
    "        out, inputs=inputs, outputs=outputs, output_masks=output_masks, errors=errors\n",
    "    )"
   ]
  },
  {
   "cell_type": "code",
   "execution_count": 9,
   "metadata": {},
   "outputs": [
    {
     "name": "stdout",
     "output_type": "stream",
     "text": [
      "File already exists, not doing any work\n"
     ]
    }
   ],
   "source": [
    "preprocess_csv(\"train_data_2a3_preprocessed.npz\", \"train_data_2a3.csv\")"
   ]
  },
  {
   "cell_type": "code",
   "execution_count": 10,
   "metadata": {},
   "outputs": [
    {
     "name": "stdout",
     "output_type": "stream",
     "text": [
      "File already exists, not doing any work\n"
     ]
    }
   ],
   "source": [
    "preprocess_csv(\"train_data_dms_preprocessed.npz\", \"train_data_dms.csv\")"
   ]
  },
  {
   "cell_type": "markdown",
   "metadata": {},
   "source": [
    "### Load the desired dataset"
   ]
  },
  {
   "cell_type": "code",
   "execution_count": 11,
   "metadata": {
    "ExecuteTime": {
     "end_time": "2023-10-05T17:09:33.551791Z",
     "start_time": "2023-10-05T17:09:33.535197Z"
    }
   },
   "outputs": [],
   "source": [
    "desired_dataset = \"dms\"  # either \"2a3\" or \"dms\""
   ]
  },
  {
   "cell_type": "code",
   "execution_count": 12,
   "metadata": {
    "ExecuteTime": {
     "end_time": "2023-10-05T17:09:42.265620Z",
     "start_time": "2023-10-05T17:09:33.728394Z"
    }
   },
   "outputs": [],
   "source": [
    "# load the npz file\n",
    "npz_file = np.load(f\"train_data_{desired_dataset}_preprocessed.npz\")\n",
    "\n",
    "# stored inputs, outputs, and output_masks\n",
    "full_dataset = data.TensorDataset(\n",
    "    torch.tensor(npz_file[\"inputs\"], dtype=torch.float32),\n",
    "    torch.tensor(np.clip(npz_file[\"outputs\"], 0, 1), dtype=torch.float32),\n",
    "    torch.tensor(\n",
    "        np.clip(\n",
    "            np.where(npz_file[\"output_masks\"], 0.0, 1.0) - np.abs(npz_file[\"errors\"]),\n",
    "            0,\n",
    "            1,\n",
    "        ),\n",
    "        dtype=torch.float32,\n",
    "    ),\n",
    ")\n",
    "\n",
    "# split into train, val\n",
    "train_dataset, val_dataset = data.random_split(full_dataset, lengths=[0.9, 0.1])\n",
    "\n",
    "# close the npz file\n",
    "npz_file.close()"
   ]
  },
  {
   "cell_type": "code",
   "execution_count": 13,
   "metadata": {},
   "outputs": [
    {
     "name": "stdout",
     "output_type": "stream",
     "text": [
      "train set is len 204233 and val dataset is len 22692\n"
     ]
    }
   ],
   "source": [
    "print(\n",
    "    \"train set is len\", len(train_dataset), \"and val dataset is len\", len(val_dataset)\n",
    ")"
   ]
  },
  {
   "cell_type": "markdown",
   "metadata": {},
   "source": [
    "### Visualize"
   ]
  },
  {
   "cell_type": "markdown",
   "metadata": {},
   "source": [
    "This section of the notebook allows for visualizing the reactivities of the\n",
    "current dataset."
   ]
  },
  {
   "cell_type": "code",
   "execution_count": 14,
   "metadata": {
    "ExecuteTime": {
     "end_time": "2023-10-05T17:09:42.844615Z",
     "start_time": "2023-10-05T17:09:42.843236Z"
    }
   },
   "outputs": [],
   "source": [
    "visualize = False"
   ]
  },
  {
   "cell_type": "code",
   "execution_count": 15,
   "metadata": {
    "ExecuteTime": {
     "end_time": "2023-10-05T17:09:42.851158Z",
     "start_time": "2023-10-05T17:09:42.846563Z"
    }
   },
   "outputs": [
    {
     "name": "stdout",
     "output_type": "stream",
     "text": [
      "Not visualizing. Set `visualize` to `True` to visualize data\n"
     ]
    }
   ],
   "source": [
    "if visualize:\n",
    "    npz_file = np.load(f\"train_data_{desired_dataset}_preprocessed.npz\")\n",
    "    outputs, bool_output_masks = npz_file[\"outputs\"], npz_file[\"output_masks\"]\n",
    "    npz_file.close()\n",
    "    visualized_items = []\n",
    "    for i in tqdm(range(len(outputs))):\n",
    "        for x in range(NUM_REACTIVITIES):\n",
    "            if not bool_output_masks[i, x]:\n",
    "                visualized_items.append(outputs[i, x])\n",
    "    visualized_items = np.array(visualized_items)\n",
    "    print(f\"took {len(visualized_items)}/{len(outputs)*NUM_REACTIVITIES} reactivities\")\n",
    "else:\n",
    "    print(\"Not visualizing. Set `visualize` to `True` to visualize data\")"
   ]
  },
  {
   "cell_type": "code",
   "execution_count": 16,
   "metadata": {
    "ExecuteTime": {
     "end_time": "2023-10-05T17:09:42.851272Z",
     "start_time": "2023-10-05T17:09:42.849526Z"
    }
   },
   "outputs": [
    {
     "name": "stdout",
     "output_type": "stream",
     "text": [
      "Not visualizing. Set `visualize` to `True` to visualize data\n"
     ]
    }
   ],
   "source": [
    "if visualize:\n",
    "    seaborn.histplot(visualized_items, binwidth=0.1)\n",
    "else:\n",
    "    print(\"Not visualizing. Set `visualize` to `True` to visualize data\")"
   ]
  },
  {
   "cell_type": "markdown",
   "metadata": {},
   "source": [
    "## Model"
   ]
  },
  {
   "cell_type": "code",
   "execution_count": 17,
   "metadata": {},
   "outputs": [],
   "source": [
    "class MemoryEfficientSelfAttention(torch.nn.Module):\n",
    "    def __init__(\n",
    "        self, latent_dim: int, n_heads: int, dropout: float, *args, **kwargs\n",
    "    ) -> None:\n",
    "        super(MemoryEfficientSelfAttention, self).__init__()\n",
    "        self.n_heads = n_heads\n",
    "        self.latent_dim = latent_dim\n",
    "        self.dropout = dropout\n",
    "\n",
    "        assert latent_dim % n_heads == 0\n",
    "\n",
    "    def forward(self, x: torch.Tensor, **kwargs):\n",
    "        # B, Seq Len, embedding -> B, Seq Len, Heads, Embedding per head\n",
    "        x = x.reshape(x.shape[0], x.shape[1], self.n_heads, x.shape[2] // self.n_heads)\n",
    "        x = xops.memory_efficient_attention(x, x, x, p=self.dropout)\n",
    "        x = x.reshape(x.shape[0], x.shape[1], -1)\n",
    "\n",
    "        return x\n",
    "\n",
    "\n",
    "class SDPAttention(torch.nn.Module):\n",
    "    def __init__(\n",
    "        self,\n",
    "        latent_dim: int,\n",
    "        n_heads: int,\n",
    "        dropout: float,\n",
    "        device: str,\n",
    "        *args,\n",
    "        **kwargs\n",
    "    ) -> None:\n",
    "        super(SDPAttention, self).__init__()\n",
    "        self.mha = components.MultiHeadDispatch(\n",
    "            latent_dim,\n",
    "            num_heads=n_heads,\n",
    "            attention=attentions.ScaledDotProduct(dropout=dropout),\n",
    "        ).to(device)\n",
    "\n",
    "    def forward(self, x: torch.Tensor, attention_mask: torch.Tensor):\n",
    "        return self.mha(x, att_mask=attention_mask)\n",
    "\n",
    "\n",
    "class SlidingWindowAttention(torch.nn.Module):\n",
    "    def __init__(\n",
    "        self,\n",
    "        latent_dim: int,\n",
    "        n_heads: int,\n",
    "        dropout: float,\n",
    "        device: str,\n",
    "        *args,\n",
    "        **kwargs\n",
    "    ) -> None:\n",
    "        super(SlidingWindowAttention, self).__init__()\n",
    "        self.mha = components.MultiHeadDispatch(\n",
    "            latent_dim,\n",
    "            n_heads,\n",
    "            attentions.LocalAttention(\n",
    "                dropout=dropout, window_size=kwargs[\"context_window\"]\n",
    "            ),\n",
    "        ).to(device)\n",
    "\n",
    "    def forward(self, x: torch.Tensor, **kwargs):\n",
    "        return self.mha(x)"
   ]
  },
  {
   "cell_type": "code",
   "execution_count": 18,
   "metadata": {},
   "outputs": [],
   "source": [
    "class CustomTransformerEncoderLayer(torch.nn.Module):\n",
    "    def __init__(\n",
    "        self,\n",
    "        attention_type: torch.nn.Module,\n",
    "        latent_dim: int,\n",
    "        ff_dim: int,\n",
    "        n_heads: int,\n",
    "        dropout: float = 0.1,\n",
    "        device: str = \"cuda\",\n",
    "        *args,\n",
    "        **kwargs\n",
    "    ) -> None:\n",
    "        super(CustomTransformerEncoderLayer, self).__init__()\n",
    "        self.attention = attention_type(\n",
    "            latent_dim=latent_dim,\n",
    "            n_heads=n_heads,\n",
    "            dropout=dropout,\n",
    "            device=device,\n",
    "            **kwargs\n",
    "        )\n",
    "        self.layer_norm = torch.nn.LayerNorm(latent_dim).to(device)\n",
    "\n",
    "        self.ff1 = torch.nn.Linear(latent_dim, ff_dim).to(device)\n",
    "        self.ff2 = torch.nn.Linear(ff_dim, latent_dim).to(device)\n",
    "        self.gelu = torch.nn.GELU()\n",
    "\n",
    "    def forward(self, x: torch.Tensor, attention_mask: torch.Tensor):\n",
    "        # MHA, add, norm\n",
    "        x = self.layer_norm(self.attention(x, attention_mask=attention_mask) + x)\n",
    "\n",
    "        # ff, add, norm\n",
    "        x = self.layer_norm(self.gelu(self.ff2(self.gelu(self.ff1(x)))) + x)\n",
    "\n",
    "        return x\n",
    "\n",
    "\n",
    "class CustomTransformerEncoder(torch.nn.Module):\n",
    "    def __init__(\n",
    "        self,\n",
    "        attention_type: torch.nn.Module,\n",
    "        n_layers: int,\n",
    "        latent_dim: int,\n",
    "        ff_dim: int,\n",
    "        n_heads: int,\n",
    "        dropout: float = 0.1,\n",
    "        device: str = \"cuda\",\n",
    "        **kwargs\n",
    "    ) -> None:\n",
    "        super(CustomTransformerEncoder, self).__init__()\n",
    "        for i in range(n_layers):\n",
    "            self.add_module(\n",
    "                str(i),\n",
    "                CustomTransformerEncoderLayer(\n",
    "                    attention_type=attention_type,\n",
    "                    latent_dim=latent_dim,\n",
    "                    ff_dim=ff_dim,\n",
    "                    n_heads=n_heads,\n",
    "                    dropout=dropout,\n",
    "                    device=device,\n",
    "                    **kwargs\n",
    "                ),\n",
    "            )\n",
    "\n",
    "    def forward(self, x: torch.Tensor, attention_mask: torch.Tensor):\n",
    "        for module in self._modules.values():\n",
    "            x = module(x, attention_mask=attention_mask)\n",
    "        return x\n",
    "\n",
    "\n",
    "class AttentionModel(torch.nn.Module):\n",
    "    def __init__(\n",
    "        self,\n",
    "        attention_type: torch.nn.Module,\n",
    "        context_window: int = 31,\n",
    "        latent_dim: int = 128,\n",
    "        ff_dim: int = 1024,\n",
    "        n_heads: int = 2,\n",
    "        enc_layers: int = 1,\n",
    "        device: str = \"cuda\",\n",
    "    ) -> None:\n",
    "        super(AttentionModel, self).__init__()\n",
    "\n",
    "        # data\n",
    "        self.n_heads = n_heads\n",
    "        self.latent_dim = latent_dim\n",
    "\n",
    "        # prepatory conv layers\n",
    "        self.conv_layer = torch.nn.Conv1d(\n",
    "            1, out_channels=latent_dim, kernel_size=context_window, padding=\"same\"\n",
    "        ).to(device)\n",
    "        self.conv_layer_b = torch.nn.Conv1d(\n",
    "            1, out_channels=latent_dim, kernel_size=context_window, padding=\"same\"\n",
    "        ).to(device)\n",
    "\n",
    "        # positional embedding and encoder layers\n",
    "        self.pos_embedding = embeddings.SinePositionalEmbedding(latent_dim).to(device)\n",
    "        self.encoder_layers = CustomTransformerEncoder(\n",
    "            latent_dim=latent_dim,\n",
    "            ff_dim=ff_dim,\n",
    "            n_heads=n_heads,\n",
    "            device=device,\n",
    "            attention_type=attention_type,\n",
    "            n_layers=enc_layers,\n",
    "            context_window=context_window,\n",
    "        )\n",
    "\n",
    "        # output head\n",
    "        self.head = torch.nn.Linear(latent_dim, 1).to(device)\n",
    "        self.final_result = torch.nn.Linear(NUM_REACTIVITIES, NUM_REACTIVITIES).to(\n",
    "            device\n",
    "        )\n",
    "\n",
    "        # activations\n",
    "        self.relu = torch.nn.ReLU()\n",
    "        self.gelu = torch.nn.GELU()\n",
    "\n",
    "    def _forward(self, x: torch.Tensor):\n",
    "        mask = att_utils.maybe_merge_masks(\n",
    "            att_mask=None,\n",
    "            key_padding_mask=x != 0,\n",
    "            batch_size=x.shape[0],\n",
    "            num_heads=self.n_heads,\n",
    "            src_len=x.shape[1],\n",
    "        )\n",
    "        x = x.reshape(x.shape[0], 1, x.shape[1])\n",
    "        # print(x.shape)\n",
    "\n",
    "        x = self.gelu(\n",
    "            self.conv_layer(x)\n",
    "            + torch.flip(self.conv_layer_b(torch.flip(x, dims=[2])), dims=[2])\n",
    "        )\n",
    "        # print(x.shape)\n",
    "\n",
    "        x = x.permute((0, 2, 1)).contiguous()\n",
    "\n",
    "        x = self.pos_embedding(x)\n",
    "        x = self.encoder_layers(x, attention_mask=mask)\n",
    "\n",
    "        x = self.relu(self.final_result(self.gelu(self.head(x).flatten(start_dim=1))))\n",
    "        # print(x.shape)\n",
    "        return x\n",
    "\n",
    "    # used for calculating lr to use\n",
    "    def weightedForward(self, x: torch.Tensor, weights: torch.Tensor):\n",
    "        self.weights = weights\n",
    "        return self._forward(x)\n",
    "\n",
    "    def weightedLoss(self, y_pred: torch.Tensor, y_true: torch.Tensor):\n",
    "        return (\n",
    "            (torch.nn.L1Loss()(y_pred.cuda(), y_true.cuda()) * self.weights.cuda())\n",
    "            .sum(dim=-1)\n",
    "            .mean()\n",
    "        )\n",
    "\n",
    "    def configure_for_lr_testing(self):\n",
    "        self.forward = self.weightedForward\n",
    "\n",
    "    def configure_for_training(self):\n",
    "        self.forward = self._forward"
   ]
  },
  {
   "cell_type": "code",
   "execution_count": 19,
   "metadata": {},
   "outputs": [],
   "source": [
    "class BaselineModel(torch.nn.Module):\n",
    "    def __init__(self, context_window: int = 31, device: str = \"cuda\"):\n",
    "        super(BaselineModel, self).__init__()\n",
    "        self.conv_layer = torch.nn.Conv1d(1, 1, context_window, padding=\"same\").to(\n",
    "            device\n",
    "        )\n",
    "        self.conv_layer_b = torch.nn.Conv1d(1, 1, context_window, padding=\"same\").to(\n",
    "            device\n",
    "        )\n",
    "        self.ff = torch.nn.Linear(NUM_REACTIVITIES, NUM_REACTIVITIES).to(device)\n",
    "        self.gelu = torch.nn.GELU()\n",
    "        self.relu = torch.nn.ReLU()\n",
    "\n",
    "    def _forward(self, x: torch.Tensor):\n",
    "        x = x.reshape(x.shape[0], 1, x.shape[1])\n",
    "\n",
    "        x = self.gelu(\n",
    "            self.conv_layer(x)\n",
    "            + torch.flip(self.conv_layer_b(torch.flip(x, dims=[2])), dims=[2])\n",
    "        )\n",
    "\n",
    "        return self.relu(self.ff(x.flatten(start_dim=1)))\n",
    "\n",
    "    def weightedForward(self, x: torch.Tensor, weights: torch.Tensor):\n",
    "        self.weights = weights\n",
    "        return self._forward(x)\n",
    "\n",
    "    def weightedLoss(self, y_pred: torch.Tensor, y_true: torch.Tensor):\n",
    "        return (\n",
    "            (torch.nn.L1Loss()(y_pred.cuda(), y_true.cuda()) * self.weights.cuda())\n",
    "            .sum(dim=-1)\n",
    "            .mean()\n",
    "        )\n",
    "\n",
    "    def configure_for_lr_testing(self):\n",
    "        self.forward = self.weightedForward\n",
    "\n",
    "    def configure_for_training(self):\n",
    "        self.forward = self._forward"
   ]
  },
  {
   "cell_type": "code",
   "execution_count": 20,
   "metadata": {},
   "outputs": [],
   "source": [
    "model_dms_kwargs = dict(\n",
    "    latent_dim=32, n_heads=4, enc_layers=2, ff_dim=1024, attention_type=SDPAttention\n",
    ")\n",
    "model_2a3_kwargs = dict(\n",
    "    latent_dim=32, n_heads=4, enc_layers=2, ff_dim=1024, attention_type=SDPAttention\n",
    ")"
   ]
  },
  {
   "cell_type": "code",
   "execution_count": 21,
   "metadata": {},
   "outputs": [],
   "source": [
    "if desired_dataset == \"dms\":\n",
    "    model = AttentionModel(**model_dms_kwargs)\n",
    "elif desired_dataset == \"2a3\":\n",
    "    model = AttentionModel(**model_2a3_kwargs)\n",
    "# model= BaselineModel()"
   ]
  },
  {
   "cell_type": "code",
   "execution_count": 22,
   "metadata": {},
   "outputs": [],
   "source": [
    "inp = torch.zeros((2, NUM_REACTIVITIES))\n",
    "inp[:, 0] = 1"
   ]
  },
  {
   "cell_type": "code",
   "execution_count": 23,
   "metadata": {},
   "outputs": [
    {
     "data": {
      "text/plain": [
       "tensor([[3.6019e-01, 3.2697e-01, 0.0000e+00, 0.0000e+00, 0.0000e+00, 0.0000e+00,\n",
       "         0.0000e+00, 4.3156e-02, 1.8531e-01, 6.4674e-01, 4.5424e-01, 5.3366e-01,\n",
       "         0.0000e+00, 0.0000e+00, 1.8670e-01, 0.0000e+00, 0.0000e+00, 0.0000e+00,\n",
       "         3.0115e-01, 0.0000e+00, 4.4301e-01, 1.0523e-01, 0.0000e+00, 8.9247e-01,\n",
       "         2.1195e-01, 0.0000e+00, 8.4839e-01, 0.0000e+00, 4.3378e-01, 0.0000e+00,\n",
       "         4.4093e-01, 7.3127e-01, 0.0000e+00, 0.0000e+00, 7.0907e-01, 0.0000e+00,\n",
       "         0.0000e+00, 0.0000e+00, 4.0982e-01, 4.6729e-01, 0.0000e+00, 6.5064e-03,\n",
       "         4.0520e-01, 0.0000e+00, 4.6152e-01, 0.0000e+00, 0.0000e+00, 1.6781e-01,\n",
       "         0.0000e+00, 7.8822e-01, 2.9824e-01, 0.0000e+00, 0.0000e+00, 1.3537e-01,\n",
       "         0.0000e+00, 1.7659e-01, 6.8097e-01, 1.4389e-01, 0.0000e+00, 6.7114e-01,\n",
       "         0.0000e+00, 0.0000e+00, 3.2506e-02, 0.0000e+00, 0.0000e+00, 0.0000e+00,\n",
       "         0.0000e+00, 0.0000e+00, 0.0000e+00, 0.0000e+00, 2.9437e-01, 0.0000e+00,\n",
       "         8.9026e-01, 0.0000e+00, 0.0000e+00, 0.0000e+00, 4.5264e-01, 0.0000e+00,\n",
       "         0.0000e+00, 0.0000e+00, 3.0489e-01, 2.5627e-01, 0.0000e+00, 4.0543e-01,\n",
       "         4.6490e-01, 4.0863e-01, 1.3285e+00, 0.0000e+00, 9.9064e-01, 0.0000e+00,\n",
       "         1.0920e-02, 0.0000e+00, 0.0000e+00, 0.0000e+00, 8.9937e-02, 1.1128e-01,\n",
       "         4.4648e-01, 5.6556e-01, 1.0688e-01, 0.0000e+00, 2.1049e-01, 5.3008e-01,\n",
       "         0.0000e+00, 0.0000e+00, 0.0000e+00, 0.0000e+00, 0.0000e+00, 7.5270e-01,\n",
       "         0.0000e+00, 3.1148e-01, 2.7259e-01, 0.0000e+00, 4.6417e-01, 7.0000e-01,\n",
       "         5.8173e-01, 8.5561e-02, 3.9847e-03, 2.6978e-01, 0.0000e+00, 2.2604e-01,\n",
       "         0.0000e+00, 0.0000e+00, 2.9850e-01, 0.0000e+00, 9.3642e-02, 0.0000e+00,\n",
       "         0.0000e+00, 0.0000e+00, 8.6510e-02, 0.0000e+00, 1.6931e-01, 0.0000e+00,\n",
       "         0.0000e+00, 0.0000e+00, 6.0154e-01, 0.0000e+00, 0.0000e+00, 0.0000e+00,\n",
       "         0.0000e+00, 1.0169e-01, 0.0000e+00, 1.2018e-01, 0.0000e+00, 0.0000e+00,\n",
       "         6.0986e-01, 0.0000e+00, 5.3045e-01, 1.3044e-01, 6.6675e-02, 0.0000e+00,\n",
       "         4.6107e-01, 0.0000e+00, 0.0000e+00, 7.5902e-01, 5.7062e-01, 3.2281e-01,\n",
       "         0.0000e+00, 6.6332e-01, 0.0000e+00, 0.0000e+00, 0.0000e+00, 2.4330e-01,\n",
       "         3.5201e-01, 2.4194e-01, 2.6039e-01, 0.0000e+00, 0.0000e+00, 0.0000e+00,\n",
       "         0.0000e+00, 6.7017e-02, 0.0000e+00, 3.5137e-01, 0.0000e+00, 1.1910e-01,\n",
       "         1.4686e-01, 0.0000e+00, 3.7106e-01, 0.0000e+00, 3.7608e-01, 4.0930e-01,\n",
       "         5.3322e-01, 0.0000e+00, 0.0000e+00, 3.7451e-01, 1.2257e+00, 1.4013e-01,\n",
       "         0.0000e+00, 0.0000e+00, 0.0000e+00, 1.7501e-01, 5.2251e-01, 0.0000e+00,\n",
       "         4.0755e-02, 5.6983e-02, 8.4705e-01, 5.5593e-01, 6.3815e-01, 4.0354e-01,\n",
       "         1.2268e-01, 4.1439e-01, 0.0000e+00, 2.9572e-01, 2.8911e-01, 7.3550e-02,\n",
       "         0.0000e+00, 0.0000e+00, 0.0000e+00, 3.6620e-01, 1.0197e-01, 0.0000e+00,\n",
       "         0.0000e+00, 4.4228e-01, 0.0000e+00, 0.0000e+00, 4.0056e-01, 4.0158e-01,\n",
       "         3.3827e-01, 9.1217e-02, 0.0000e+00, 0.0000e+00, 4.7083e-02, 0.0000e+00,\n",
       "         0.0000e+00, 0.0000e+00, 2.2973e-01, 0.0000e+00, 5.2026e-01, 1.1654e-01,\n",
       "         0.0000e+00, 0.0000e+00, 0.0000e+00, 1.4843e-02, 5.2990e-01, 1.4522e-01,\n",
       "         2.0502e-01, 9.2933e-02, 0.0000e+00, 0.0000e+00, 0.0000e+00, 1.5027e-01,\n",
       "         0.0000e+00, 3.6212e-01, 0.0000e+00, 5.6036e-02, 0.0000e+00, 0.0000e+00,\n",
       "         8.4113e-01, 0.0000e+00, 0.0000e+00, 1.0065e-01, 0.0000e+00, 3.6943e-01,\n",
       "         2.8846e-02, 3.6929e-01, 0.0000e+00, 6.4447e-01, 5.6601e-01, 0.0000e+00,\n",
       "         0.0000e+00, 7.7553e-01, 0.0000e+00, 0.0000e+00, 0.0000e+00, 0.0000e+00,\n",
       "         6.0413e-01, 1.4174e-01, 1.5897e-01, 0.0000e+00, 2.7769e-01, 0.0000e+00,\n",
       "         1.4667e-01, 0.0000e+00, 1.6588e-01, 1.2817e+00, 3.3430e-02, 1.5081e-01,\n",
       "         1.3168e-01, 0.0000e+00, 0.0000e+00, 0.0000e+00, 1.6156e-01, 4.3917e-01,\n",
       "         0.0000e+00, 0.0000e+00, 2.8991e-01, 0.0000e+00, 0.0000e+00, 1.4040e-01,\n",
       "         0.0000e+00, 3.1774e-02, 0.0000e+00, 0.0000e+00, 6.8802e-01, 0.0000e+00,\n",
       "         0.0000e+00, 4.5328e-01, 1.1378e-01, 1.5488e-01, 0.0000e+00, 0.0000e+00,\n",
       "         6.7587e-02, 0.0000e+00, 5.1818e-01, 1.1562e-01, 0.0000e+00, 0.0000e+00,\n",
       "         0.0000e+00, 1.9543e-01, 1.0371e+00, 7.3315e-01, 0.0000e+00, 7.1164e-01,\n",
       "         8.9529e-03, 0.0000e+00, 0.0000e+00, 2.9594e-02, 2.2084e-01, 0.0000e+00,\n",
       "         0.0000e+00, 0.0000e+00, 5.9833e-01, 5.9640e-01, 0.0000e+00, 0.0000e+00,\n",
       "         0.0000e+00, 7.4578e-01, 0.0000e+00, 8.6283e-02, 3.4125e-01, 1.8124e-01,\n",
       "         7.9963e-01, 3.3012e-01, 1.1887e+00, 2.9181e-01, 0.0000e+00, 0.0000e+00,\n",
       "         2.1103e-01, 0.0000e+00, 1.9374e-01, 0.0000e+00, 2.8930e-01, 2.5803e-01,\n",
       "         3.8120e-01, 0.0000e+00, 3.0180e-01, 0.0000e+00, 0.0000e+00, 0.0000e+00,\n",
       "         4.3924e-01, 0.0000e+00, 3.4063e-02, 2.8644e-01, 0.0000e+00, 0.0000e+00,\n",
       "         3.0949e-01, 1.0581e-01, 4.3463e-01, 4.1140e-01, 0.0000e+00, 0.0000e+00,\n",
       "         1.6027e-01, 6.2240e-02, 0.0000e+00, 1.1371e+00, 4.5349e-02, 3.5083e-01,\n",
       "         4.0828e-01, 0.0000e+00, 5.1305e-01, 0.0000e+00, 0.0000e+00, 0.0000e+00,\n",
       "         1.3620e-01, 1.2215e-02, 4.4332e-02, 0.0000e+00, 6.5695e-01, 3.6705e-02,\n",
       "         8.0497e-02, 1.7787e-01, 2.5316e-01, 0.0000e+00, 0.0000e+00, 4.2729e-01,\n",
       "         0.0000e+00, 0.0000e+00, 3.6828e-01, 0.0000e+00, 1.3803e-01, 1.4229e-01,\n",
       "         4.2937e-01, 0.0000e+00, 0.0000e+00, 0.0000e+00, 0.0000e+00, 0.0000e+00,\n",
       "         3.9317e-01, 5.8603e-02, 0.0000e+00, 0.0000e+00, 5.7447e-03, 3.1725e-01,\n",
       "         3.6518e-01, 2.7342e-01, 0.0000e+00, 0.0000e+00, 6.7794e-01, 0.0000e+00,\n",
       "         2.2714e-01, 1.0357e-01, 0.0000e+00, 0.0000e+00, 0.0000e+00, 1.0531e-01,\n",
       "         0.0000e+00, 0.0000e+00, 0.0000e+00, 0.0000e+00, 0.0000e+00, 1.0090e+00,\n",
       "         0.0000e+00, 0.0000e+00, 1.7515e-01, 0.0000e+00, 8.1148e-01, 0.0000e+00,\n",
       "         1.2581e-01, 0.0000e+00, 1.8386e-01, 3.8508e-01, 0.0000e+00, 2.4880e-01,\n",
       "         0.0000e+00, 0.0000e+00, 2.9519e-01, 5.6069e-03, 8.9626e-01, 3.7883e-01,\n",
       "         9.7949e-02, 0.0000e+00, 0.0000e+00, 1.2661e-01, 0.0000e+00, 0.0000e+00,\n",
       "         7.1680e-01, 0.0000e+00, 1.9898e-01, 0.0000e+00, 0.0000e+00, 0.0000e+00,\n",
       "         0.0000e+00, 0.0000e+00, 8.0650e-01, 3.5753e-01, 0.0000e+00, 0.0000e+00,\n",
       "         0.0000e+00],\n",
       "        [4.0127e-01, 3.4548e-01, 0.0000e+00, 0.0000e+00, 1.7570e-02, 0.0000e+00,\n",
       "         0.0000e+00, 1.9346e-02, 2.1602e-01, 7.2869e-01, 3.9621e-01, 4.2705e-01,\n",
       "         0.0000e+00, 0.0000e+00, 2.2741e-01, 0.0000e+00, 0.0000e+00, 0.0000e+00,\n",
       "         4.2172e-01, 0.0000e+00, 4.5105e-01, 1.9715e-01, 0.0000e+00, 9.7570e-01,\n",
       "         1.5849e-01, 0.0000e+00, 9.4259e-01, 1.4623e-02, 4.1290e-01, 0.0000e+00,\n",
       "         3.0264e-01, 6.8939e-01, 0.0000e+00, 0.0000e+00, 7.1594e-01, 0.0000e+00,\n",
       "         0.0000e+00, 0.0000e+00, 3.9842e-01, 4.3803e-01, 0.0000e+00, 8.9231e-04,\n",
       "         4.6501e-01, 0.0000e+00, 4.4751e-01, 0.0000e+00, 0.0000e+00, 1.5255e-01,\n",
       "         0.0000e+00, 7.7134e-01, 2.9914e-01, 0.0000e+00, 0.0000e+00, 1.5458e-01,\n",
       "         0.0000e+00, 8.6861e-02, 6.6485e-01, 1.8596e-03, 0.0000e+00, 8.2664e-01,\n",
       "         0.0000e+00, 0.0000e+00, 0.0000e+00, 0.0000e+00, 0.0000e+00, 0.0000e+00,\n",
       "         0.0000e+00, 0.0000e+00, 0.0000e+00, 0.0000e+00, 2.1575e-01, 0.0000e+00,\n",
       "         9.2355e-01, 0.0000e+00, 0.0000e+00, 0.0000e+00, 4.4364e-01, 0.0000e+00,\n",
       "         0.0000e+00, 0.0000e+00, 2.2206e-01, 2.2319e-01, 0.0000e+00, 3.8841e-01,\n",
       "         5.3625e-01, 3.5000e-01, 1.3073e+00, 0.0000e+00, 9.6742e-01, 0.0000e+00,\n",
       "         1.1945e-01, 0.0000e+00, 0.0000e+00, 0.0000e+00, 1.7516e-01, 9.5183e-02,\n",
       "         3.0493e-01, 5.9377e-01, 7.7151e-02, 0.0000e+00, 1.5360e-01, 4.1487e-01,\n",
       "         0.0000e+00, 0.0000e+00, 0.0000e+00, 0.0000e+00, 0.0000e+00, 8.1656e-01,\n",
       "         1.0922e-01, 3.4507e-01, 3.8545e-01, 0.0000e+00, 4.6636e-01, 6.2320e-01,\n",
       "         4.2910e-01, 0.0000e+00, 2.2176e-02, 2.2422e-01, 0.0000e+00, 1.6716e-01,\n",
       "         0.0000e+00, 0.0000e+00, 3.0034e-01, 0.0000e+00, 3.0174e-02, 2.0246e-02,\n",
       "         0.0000e+00, 0.0000e+00, 7.1321e-02, 0.0000e+00, 1.4125e-01, 0.0000e+00,\n",
       "         0.0000e+00, 0.0000e+00, 6.7449e-01, 0.0000e+00, 0.0000e+00, 0.0000e+00,\n",
       "         0.0000e+00, 0.0000e+00, 5.3707e-02, 5.7780e-02, 0.0000e+00, 0.0000e+00,\n",
       "         7.1033e-01, 0.0000e+00, 5.0083e-01, 8.0971e-02, 1.1737e-01, 0.0000e+00,\n",
       "         4.0884e-01, 0.0000e+00, 0.0000e+00, 6.5645e-01, 5.5742e-01, 3.6757e-01,\n",
       "         0.0000e+00, 7.4230e-01, 0.0000e+00, 0.0000e+00, 0.0000e+00, 3.5499e-01,\n",
       "         3.3662e-01, 1.9396e-01, 1.8463e-01, 0.0000e+00, 0.0000e+00, 0.0000e+00,\n",
       "         0.0000e+00, 1.2384e-01, 0.0000e+00, 1.9559e-01, 0.0000e+00, 9.5268e-02,\n",
       "         6.1100e-02, 0.0000e+00, 3.0939e-01, 0.0000e+00, 4.8661e-01, 4.1344e-01,\n",
       "         5.0023e-01, 1.5929e-02, 0.0000e+00, 3.8651e-01, 1.3111e+00, 1.3895e-02,\n",
       "         0.0000e+00, 0.0000e+00, 0.0000e+00, 7.6762e-02, 4.6966e-01, 0.0000e+00,\n",
       "         4.4433e-02, 1.5162e-01, 9.1955e-01, 6.0486e-01, 6.5004e-01, 3.4078e-01,\n",
       "         8.8185e-02, 5.8432e-01, 0.0000e+00, 3.9732e-01, 2.7450e-01, 5.2500e-02,\n",
       "         0.0000e+00, 3.0428e-02, 0.0000e+00, 4.5267e-01, 4.9907e-02, 0.0000e+00,\n",
       "         0.0000e+00, 4.5724e-01, 0.0000e+00, 0.0000e+00, 3.4046e-01, 4.4420e-01,\n",
       "         3.5508e-01, 1.0876e-01, 0.0000e+00, 0.0000e+00, 0.0000e+00, 0.0000e+00,\n",
       "         0.0000e+00, 0.0000e+00, 3.1324e-01, 0.0000e+00, 6.1106e-01, 3.3013e-02,\n",
       "         0.0000e+00, 0.0000e+00, 0.0000e+00, 8.9191e-02, 5.4140e-01, 1.9377e-01,\n",
       "         1.7218e-01, 2.0655e-01, 0.0000e+00, 0.0000e+00, 0.0000e+00, 0.0000e+00,\n",
       "         0.0000e+00, 3.3097e-01, 0.0000e+00, 8.0004e-02, 0.0000e+00, 0.0000e+00,\n",
       "         8.5149e-01, 0.0000e+00, 0.0000e+00, 0.0000e+00, 0.0000e+00, 3.1479e-01,\n",
       "         6.6210e-02, 3.6693e-01, 0.0000e+00, 6.3409e-01, 6.4481e-01, 0.0000e+00,\n",
       "         0.0000e+00, 8.0965e-01, 0.0000e+00, 0.0000e+00, 0.0000e+00, 0.0000e+00,\n",
       "         5.7593e-01, 1.8519e-01, 8.8791e-02, 0.0000e+00, 3.1131e-01, 0.0000e+00,\n",
       "         2.1537e-01, 0.0000e+00, 1.9302e-01, 1.3685e+00, 6.4045e-02, 1.8351e-01,\n",
       "         1.6086e-02, 0.0000e+00, 0.0000e+00, 0.0000e+00, 2.3824e-01, 5.2279e-01,\n",
       "         0.0000e+00, 0.0000e+00, 1.9981e-01, 0.0000e+00, 0.0000e+00, 1.6744e-01,\n",
       "         0.0000e+00, 3.0685e-02, 0.0000e+00, 0.0000e+00, 8.2132e-01, 0.0000e+00,\n",
       "         0.0000e+00, 4.6342e-01, 6.2452e-02, 1.9174e-01, 0.0000e+00, 0.0000e+00,\n",
       "         1.0290e-01, 0.0000e+00, 5.8280e-01, 7.8963e-02, 0.0000e+00, 0.0000e+00,\n",
       "         0.0000e+00, 1.9401e-01, 9.9754e-01, 7.7184e-01, 0.0000e+00, 7.7668e-01,\n",
       "         0.0000e+00, 0.0000e+00, 0.0000e+00, 3.7586e-02, 2.3807e-01, 6.8414e-02,\n",
       "         0.0000e+00, 0.0000e+00, 6.2921e-01, 5.0535e-01, 0.0000e+00, 0.0000e+00,\n",
       "         0.0000e+00, 7.3766e-01, 0.0000e+00, 3.7772e-02, 2.8409e-01, 2.2523e-01,\n",
       "         7.8569e-01, 3.6954e-01, 1.1422e+00, 1.9661e-01, 0.0000e+00, 0.0000e+00,\n",
       "         2.5577e-01, 0.0000e+00, 2.8720e-01, 0.0000e+00, 2.8480e-01, 3.1850e-01,\n",
       "         3.7708e-01, 0.0000e+00, 3.4809e-01, 0.0000e+00, 0.0000e+00, 0.0000e+00,\n",
       "         4.9663e-01, 2.3177e-02, 7.7662e-02, 1.9866e-01, 0.0000e+00, 0.0000e+00,\n",
       "         1.8892e-01, 7.5408e-02, 4.3440e-01, 3.6527e-01, 0.0000e+00, 0.0000e+00,\n",
       "         1.8865e-01, 0.0000e+00, 0.0000e+00, 1.1111e+00, 1.7600e-02, 3.2417e-01,\n",
       "         4.2709e-01, 0.0000e+00, 4.3587e-01, 1.2193e-01, 0.0000e+00, 0.0000e+00,\n",
       "         1.8445e-02, 0.0000e+00, 0.0000e+00, 0.0000e+00, 7.3396e-01, 0.0000e+00,\n",
       "         1.1149e-01, 2.3403e-01, 3.1011e-01, 0.0000e+00, 0.0000e+00, 5.2257e-01,\n",
       "         0.0000e+00, 0.0000e+00, 2.9650e-01, 0.0000e+00, 1.2196e-01, 1.2191e-01,\n",
       "         3.7850e-01, 0.0000e+00, 0.0000e+00, 0.0000e+00, 0.0000e+00, 0.0000e+00,\n",
       "         4.2043e-01, 2.0309e-01, 0.0000e+00, 0.0000e+00, 4.7227e-02, 2.5720e-01,\n",
       "         2.6582e-01, 3.0258e-01, 0.0000e+00, 0.0000e+00, 6.3541e-01, 0.0000e+00,\n",
       "         2.0344e-01, 1.3688e-02, 0.0000e+00, 0.0000e+00, 0.0000e+00, 7.6507e-03,\n",
       "         0.0000e+00, 0.0000e+00, 0.0000e+00, 0.0000e+00, 0.0000e+00, 9.8371e-01,\n",
       "         0.0000e+00, 0.0000e+00, 2.5240e-01, 1.0112e-01, 8.9840e-01, 0.0000e+00,\n",
       "         2.0825e-01, 0.0000e+00, 8.9416e-02, 3.1632e-01, 0.0000e+00, 1.9428e-01,\n",
       "         0.0000e+00, 0.0000e+00, 3.0010e-01, 2.7285e-02, 9.3217e-01, 4.3913e-01,\n",
       "         1.4193e-01, 0.0000e+00, 0.0000e+00, 1.8986e-01, 0.0000e+00, 0.0000e+00,\n",
       "         6.2776e-01, 0.0000e+00, 1.5587e-01, 0.0000e+00, 0.0000e+00, 0.0000e+00,\n",
       "         0.0000e+00, 0.0000e+00, 8.1783e-01, 3.6036e-01, 0.0000e+00, 0.0000e+00,\n",
       "         0.0000e+00]])"
      ]
     },
     "execution_count": 23,
     "metadata": {},
     "output_type": "execute_result"
    }
   ],
   "source": [
    "model.configure_for_training()\n",
    "model(inp.cuda()).cpu().detach()"
   ]
  },
  {
   "cell_type": "code",
   "execution_count": 24,
   "metadata": {},
   "outputs": [
    {
     "name": "stdout",
     "output_type": "stream",
     "text": [
      "AttentionModel(\n",
      "  (conv_layer): Conv1d(1, 32, kernel_size=(31,), stride=(1,), padding=same)\n",
      "  (conv_layer_b): Conv1d(1, 32, kernel_size=(31,), stride=(1,), padding=same)\n",
      "  (pos_embedding): SinePositionalEmbedding()\n",
      "  (encoder_layers): CustomTransformerEncoder(\n",
      "    (0): CustomTransformerEncoderLayer(\n",
      "      (attention): SDPAttention(\n",
      "        (mha): MultiHeadDispatch(\n",
      "          (attention): ScaledDotProduct(\n",
      "            (attn_drop): Dropout(p=0.1, inplace=False)\n",
      "          )\n",
      "          (in_proj_container): InputProjection(\n",
      "            (q_proj): Linear(in_features=32, out_features=32, bias=True)\n",
      "            (k_proj): Linear(in_features=32, out_features=32, bias=True)\n",
      "            (v_proj): Linear(in_features=32, out_features=32, bias=True)\n",
      "          )\n",
      "          (resid_drop): Dropout(p=0.0, inplace=False)\n",
      "          (proj): Linear(in_features=32, out_features=32, bias=True)\n",
      "        )\n",
      "      )\n",
      "      (layer_norm): LayerNorm((32,), eps=1e-05, elementwise_affine=True)\n",
      "      (ff1): Linear(in_features=32, out_features=1024, bias=True)\n",
      "      (ff2): Linear(in_features=1024, out_features=32, bias=True)\n",
      "      (gelu): GELU(approximate='none')\n",
      "    )\n",
      "    (1): CustomTransformerEncoderLayer(\n",
      "      (attention): SDPAttention(\n",
      "        (mha): MultiHeadDispatch(\n",
      "          (attention): ScaledDotProduct(\n",
      "            (attn_drop): Dropout(p=0.1, inplace=False)\n",
      "          )\n",
      "          (in_proj_container): InputProjection(\n",
      "            (q_proj): Linear(in_features=32, out_features=32, bias=True)\n",
      "            (k_proj): Linear(in_features=32, out_features=32, bias=True)\n",
      "            (v_proj): Linear(in_features=32, out_features=32, bias=True)\n",
      "          )\n",
      "          (resid_drop): Dropout(p=0.0, inplace=False)\n",
      "          (proj): Linear(in_features=32, out_features=32, bias=True)\n",
      "        )\n",
      "      )\n",
      "      (layer_norm): LayerNorm((32,), eps=1e-05, elementwise_affine=True)\n",
      "      (ff1): Linear(in_features=32, out_features=1024, bias=True)\n",
      "      (ff2): Linear(in_features=1024, out_features=32, bias=True)\n",
      "      (gelu): GELU(approximate='none')\n",
      "    )\n",
      "  )\n",
      "  (head): Linear(in_features=32, out_features=1, bias=True)\n",
      "  (final_result): Linear(in_features=457, out_features=457, bias=True)\n",
      "  (relu): ReLU()\n",
      "  (gelu): GELU(approximate='none')\n",
      ")\n"
     ]
    }
   ],
   "source": [
    "print(model)"
   ]
  },
  {
   "cell_type": "code",
   "execution_count": 25,
   "metadata": {},
   "outputs": [
    {
     "name": "stdout",
     "output_type": "stream",
     "text": [
      "Total params: 353147\n"
     ]
    }
   ],
   "source": [
    "model_parameters = filter(lambda p: p.requires_grad, model.parameters())\n",
    "params = sum([np.prod(p.size()) for p in model_parameters])\n",
    "print(\"Total params:\", params)"
   ]
  },
  {
   "cell_type": "code",
   "execution_count": 26,
   "metadata": {},
   "outputs": [
    {
     "data": {
      "text/html": [
       "\n",
       "<style>\n",
       "    /* Turns off some styling */\n",
       "    progress {\n",
       "        /* gets rid of default border in Firefox and Opera. */\n",
       "        border: none;\n",
       "        /* Needs to be in here for Safari polyfill so background images work as expected. */\n",
       "        background-size: auto;\n",
       "    }\n",
       "    progress:not([value]), progress:not([value])::-webkit-progress-bar {\n",
       "        background: repeating-linear-gradient(45deg, #7e7e7e, #7e7e7e 10px, #5c5c5c 10px, #5c5c5c 20px);\n",
       "    }\n",
       "    .progress-bar-interrupted, .progress-bar-interrupted::-webkit-progress-bar {\n",
       "        background: #F44336;\n",
       "    }\n",
       "</style>\n"
      ],
      "text/plain": [
       "<IPython.core.display.HTML object>"
      ]
     },
     "metadata": {},
     "output_type": "display_data"
    },
    {
     "data": {
      "text/html": [],
      "text/plain": [
       "<IPython.core.display.HTML object>"
      ]
     },
     "metadata": {},
     "output_type": "display_data"
    },
    {
     "data": {
      "text/plain": [
       "SuggestedLRs(valley=0.02754228748381138)"
      ]
     },
     "execution_count": 26,
     "metadata": {},
     "output_type": "execute_result"
    },
    {
     "data": {
      "image/png": "[encoded data removed]",
      "text/plain": [
       "<Figure size 640x480 with 1 Axes>"
      ]
     },
     "metadata": {},
     "output_type": "display_data"
    }
   ],
   "source": [
    "model.configure_for_lr_testing()\n",
    "learner.Learner(\n",
    "    fdata.DataLoaders(\n",
    "        data.DataLoader(train_dataset, batch_size=32, shuffle=True),\n",
    "        data.DataLoader(val_dataset, batch_size=32, shuffle=True),\n",
    "    ),\n",
    "    model,\n",
    "    loss_func=model.weightedLoss,\n",
    ").lr_find(stop_div=False, num_it=200)"
   ]
  },
  {
   "cell_type": "code",
   "execution_count": 27,
   "metadata": {},
   "outputs": [],
   "source": [
    "model.configure_for_training()"
   ]
  },
  {
   "cell_type": "code",
   "execution_count": 28,
   "metadata": {},
   "outputs": [],
   "source": [
    "optimizer = torch.optim.AdamW(model.parameters(), 2e-3)"
   ]
  },
  {
   "cell_type": "markdown",
   "metadata": {},
   "source": [
    "## Train"
   ]
  },
  {
   "cell_type": "code",
   "execution_count": 29,
   "metadata": {},
   "outputs": [],
   "source": [
    "BATCH_SIZE = 128\n",
    "SHUFFLE = True\n",
    "\n",
    "train_dataloader = data.DataLoader(\n",
    "    train_dataset, batch_size=BATCH_SIZE, shuffle=SHUFFLE\n",
    ")\n",
    "val_dataloader = data.DataLoader(\n",
    "    val_dataset, batch_size=BATCH_SIZE, shuffle=False\n",
    ")  # no point in shuffling val"
   ]
  },
  {
   "cell_type": "code",
   "execution_count": 37,
   "metadata": {},
   "outputs": [],
   "source": [
    "def weightedL1(\n",
    "    y_pred: torch.Tensor,\n",
    "    y_true: torch.Tensor,\n",
    "    weights: torch.Tensor,\n",
    "    l1=torch.nn.L1Loss(),\n",
    "):\n",
    "    return (l1(y_pred, y_true) * weights).sum(dim=-1).mean()"
   ]
  },
  {
   "cell_type": "code",
   "execution_count": 38,
   "metadata": {
    "ExecuteTime": {
     "end_time": "2023-10-05T17:09:43.992618Z",
     "start_time": "2023-10-05T17:09:43.053099Z"
    }
   },
   "outputs": [],
   "source": [
    "def train_batch(\n",
    "    m: torch.nn.Module, inps: torch.Tensor, outs: torch.Tensor, masks: torch.Tensor\n",
    "):\n",
    "    \"\"\"\n",
    "    Get the loss on a batch and perform the corresponding weight updates.\n",
    "    Used for training purposes\n",
    "    \"\"\"\n",
    "    optimizer.zero_grad()\n",
    "    loss = weightedL1(m(inps), outs, masks)\n",
    "\n",
    "    loss.backward()\n",
    "\n",
    "    # calculate gradients\n",
    "    optimizer.step()\n",
    "\n",
    "    # return mae loss\n",
    "    return loss\n",
    "\n",
    "\n",
    "def noupdate_batch(\n",
    "    m: torch.nn.Module, inps: torch.Tensor, outs: torch.Tensor, masks: torch.Tensor\n",
    "):\n",
    "    \"\"\"\n",
    "    Get the loss on a batch without performing any updates.\n",
    "    Used for validation purposes\n",
    "    \"\"\"\n",
    "    with torch.no_grad():\n",
    "        loss = weightedL1(m(inps), outs, masks)\n",
    "\n",
    "    # return mae loss\n",
    "    return loss\n",
    "\n",
    "\n",
    "def masked_train(\n",
    "    m: torch.nn.Module,\n",
    "    train_dataloader: data.DataLoader,\n",
    "    val_dataloader: data.DataLoader,\n",
    "    epochs: int = 1,\n",
    "    device: str = \"cuda\",\n",
    "):\n",
    "    \"\"\"\n",
    "    Train the given model.\n",
    "\n",
    "    Arguments:\n",
    "        - m: keras.Model - the model to train.\n",
    "        - x: np.ndarray - the numpy array of inputs.\n",
    "        - y: np.ndarray - the numpy array of outputs.\n",
    "        - masks: np.ndarray - the sample weights (1s and 0s).\n",
    "        - batch_size: int - how large the batches should be. Defaults to `32`.\n",
    "        - epochs: int - how many epochs to train for. Defaults to `1`.\n",
    "        - validation_split: float - how large the validation subset should be, in the range (0, 1]. Defaults to `0.1`.\n",
    "\n",
    "    Note - The choice of np.ndarray is purely arbitrary, and this function can be modified to use tf.Tensors\n",
    "\n",
    "    Note - shuffle code is provided in numpy, but commented out because of memory limitations that less powerful computers\n",
    "    may encounter.\n",
    "    \"\"\"\n",
    "    # shuffle\n",
    "    # shuffled_idxs = np.arange(x.shape[0])\n",
    "    # np.random.shuffle(shuffled_idxs)\n",
    "    # x = x[shuffled_idxs]\n",
    "    # y = y[shuffled_idxs]\n",
    "    # masks = masks[shuffled_idxs]\n",
    "    m = m.to(device)\n",
    "\n",
    "    for epoch in range(1, epochs + 1):\n",
    "        print(f\"Epoch {epoch}\")\n",
    "        epoch_mae = 0.0\n",
    "\n",
    "        m = m.train()\n",
    "        for batch, tdata in enumerate(train_dataloader):\n",
    "            inps, outs, masks = tdata\n",
    "\n",
    "            inps = inps.to(device)\n",
    "            outs = outs.to(device)\n",
    "            masks = masks.to(device)\n",
    "\n",
    "            mae_loss = train_batch(m, inps, outs, masks).detach().cpu()\n",
    "\n",
    "            epoch_mae += mae_loss\n",
    "\n",
    "            # log\n",
    "            print(\n",
    "                f\"Batch {batch+1}/{len(train_dataloader)}\\t- mae loss: {mae_loss:.5f}\",\n",
    "                end=\"\\r\",\n",
    "            )\n",
    "\n",
    "            # break  # used for sanity check\n",
    "        epoch_mae /= len(train_dataloader)\n",
    "\n",
    "        # do validation\n",
    "        val_mae = 0.0\n",
    "        m = m.eval()\n",
    "        for batch, vdata in enumerate(val_dataloader):\n",
    "            inps, outs, masks = vdata\n",
    "            inps = inps.to(device)\n",
    "            outs = outs.to(device)\n",
    "            masks = masks.to(device)\n",
    "            mae_loss = noupdate_batch(m, inps, outs, masks)\n",
    "\n",
    "            val_mae += mae_loss\n",
    "        val_mae /= len(val_dataloader)\n",
    "\n",
    "        # shuffle\n",
    "        # shuffled_idxs = np.arange(x.shape[0])\n",
    "        # np.random.shuffle(shuffled_idxs)\n",
    "        # x = x[shuffled_idxs]\n",
    "        # y = y[shuffled_idxs]\n",
    "        # masks = masks[shuffled_idxs]\n",
    "\n",
    "        print()\n",
    "        print(f\"Epoch MAE: {epoch_mae:.5f}\\tVal MAE: {val_mae:.5f}\")"
   ]
  },
  {
   "cell_type": "code",
   "execution_count": 39,
   "metadata": {
    "ExecuteTime": {
     "end_time": "2023-10-05T17:14:00.128074Z",
     "start_time": "2023-10-05T17:09:43.998369Z"
    }
   },
   "outputs": [
    {
     "name": "stdout",
     "output_type": "stream",
     "text": [
      "Epoch 1\n",
      "Batch 1596/1596\t- mae loss: 3.28079\n",
      "Epoch MAE: 2.99263\tVal MAE: 2.99168\n"
     ]
    }
   ],
   "source": [
    "# baseline gets ~ 3.64968 on dms w/ 10 epochs, ~ 4.64478 on 2a3 w/ 10 epochs\n",
    "masked_train(\n",
    "    model, train_dataloader=train_dataloader, val_dataloader=val_dataloader, epochs=1\n",
    ")"
   ]
  },
  {
   "cell_type": "markdown",
   "metadata": {},
   "source": [
    "## Save"
   ]
  },
  {
   "cell_type": "markdown",
   "metadata": {},
   "source": [
    "This section saves the current model"
   ]
  },
  {
   "cell_type": "code",
   "execution_count": 40,
   "metadata": {
    "ExecuteTime": {
     "end_time": "2023-10-05T17:14:00.616528Z",
     "start_time": "2023-10-05T17:14:00.119617Z"
    }
   },
   "outputs": [],
   "source": [
    "torch.save(model.state_dict(), f\"{desired_dataset}_model\")"
   ]
  },
  {
   "cell_type": "markdown",
   "metadata": {},
   "source": [
    "## Process Outputs"
   ]
  },
  {
   "cell_type": "markdown",
   "metadata": {},
   "source": [
    "This section of the noteboook creates a zipped csv submission file that can\n",
    "be submitted on Kaggle."
   ]
  },
  {
   "cell_type": "code",
   "execution_count": 41,
   "metadata": {
    "ExecuteTime": {
     "end_time": "2023-10-05T17:14:00.624146Z",
     "start_time": "2023-10-05T17:14:00.601389Z"
    }
   },
   "outputs": [],
   "source": [
    "make_submissions = True"
   ]
  },
  {
   "cell_type": "code",
   "execution_count": 42,
   "metadata": {
    "ExecuteTime": {
     "end_time": "2023-10-05T17:14:01.233216Z",
     "start_time": "2023-10-05T17:14:00.608006Z"
    }
   },
   "outputs": [],
   "source": [
    "valid = False\n",
    "\n",
    "if (\n",
    "    os.path.exists(\"2a3_model\")\n",
    "    and os.path.exists(\"dms_model\")\n",
    "    and os.path.exists(\"test_sequences.csv\")\n",
    "    and make_submissions\n",
    "):\n",
    "    model_2a3 = AttentionModel(**model_2a3_kwargs)\n",
    "    model_2a3.load_state_dict(torch.load(\"2a3_model\"))\n",
    "    model_dms = AttentionModel(**model_dms_kwargs)\n",
    "    model_dms.load_state_dict(torch.load(\"dms_model\"))\n",
    "\n",
    "    model_2a3.eval().cuda().configure_for_training()\n",
    "    model_dms.eval().cuda().configure_for_training()\n",
    "\n",
    "    valid = True\n",
    "else:\n",
    "    print(\"Not going to create submissions.\")"
   ]
  },
  {
   "cell_type": "code",
   "execution_count": 43,
   "metadata": {
    "ExecuteTime": {
     "end_time": "2023-10-05T17:14:01.247263Z",
     "start_time": "2023-10-05T17:14:01.233464Z"
    }
   },
   "outputs": [],
   "source": [
    "def pipeline(\n",
    "    model_2a3: torch.nn.Module,\n",
    "    model_dms: torch.nn.Module,\n",
    "    input_csv: str,\n",
    "    out: str,\n",
    "    batch_size: int,\n",
    "):\n",
    "    \"\"\"\n",
    "    Process test data and write submissions to a csv file\n",
    "\n",
    "    Arguments:\n",
    "        - model_2a3: keras.Model - the model trained on the 2a3 distribution\n",
    "        - model_dms: keras.Model - the model trained on the dms distribution\n",
    "        - input_csv: str - the name of the file that contains the test data\n",
    "        - out: str - the name of the file to write predictions to\n",
    "        - batch_size: int - how many predictions to make at a time\n",
    "    \"\"\"\n",
    "    count = 0\n",
    "\n",
    "    # count how many lines we have in total\n",
    "    with open(input_csv) as file:\n",
    "        line = file.readline()  # ignore the header\n",
    "        # take the first line since we increment count in the loop\n",
    "        line = file.readline()\n",
    "        while line != \"\":\n",
    "            count += 1\n",
    "            line = file.readline()\n",
    "\n",
    "    # use that knowledge for a progress bar\n",
    "    with open(input_csv, \"r\") as file, open(out, \"w\") as outfile:\n",
    "        # write the header\n",
    "        outfile.write(\"id,reactivity_DMS_MaP,reactivity_2A3_MaP\\n\")\n",
    "\n",
    "        # get what index the things we need are\n",
    "        header = file.readline()\n",
    "        split_header = header.split(\",\")\n",
    "        min_idx = split_header.index(\"id_min\")\n",
    "        max_idx = split_header.index(\"id_max\")\n",
    "        sequence_idx = split_header.index(\"sequence\")\n",
    "\n",
    "        # only take the approved filtered lines\n",
    "        num_batches = count // batch_size\n",
    "        if count % batch_size != 0:\n",
    "            num_batches += 1\n",
    "        for batch in tqdm(range(num_batches)):\n",
    "            num_items = min(batch_size, count - batch * batch_size)\n",
    "\n",
    "            # initialize variables\n",
    "            inputs = np.zeros((num_items, NUM_REACTIVITIES))\n",
    "            min_seq_idxs = []\n",
    "            sequence_lengths = []\n",
    "\n",
    "            # collect the inputs\n",
    "            for i in range(num_items):\n",
    "                line = file.readline()\n",
    "                temp = line.split(\",\")\n",
    "                sequence = temp[sequence_idx]\n",
    "                max_seq_idx = int(temp[max_idx])\n",
    "                min_seq_idx = int(temp[min_idx])\n",
    "\n",
    "                # verify that everything is correct\n",
    "                assert len(sequence) + min_seq_idx - 1 == max_seq_idx\n",
    "\n",
    "                # store the data\n",
    "                inputs[i, : len(sequence)] = np.array(\n",
    "                    list(map(lambda letter: base_map[letter], sequence))\n",
    "                )\n",
    "                min_seq_idxs.append(min_seq_idx)\n",
    "                sequence_lengths.append(len(sequence))\n",
    "\n",
    "            # run inputs through the associated model\n",
    "            inputs = torch.tensor(inputs, dtype=torch.float32).cuda()\n",
    "            with torch.no_grad():\n",
    "                probs_2a3, probs_dms = model_2a3(inputs), model_dms(inputs)\n",
    "            probs_dms = probs_dms.cpu()\n",
    "            probs_2a3 = probs_2a3.cpu()\n",
    "\n",
    "            # write predictions\n",
    "            for i in range(num_items):\n",
    "                for seq_idx in range(\n",
    "                    min_seq_idxs[i], min_seq_idxs[i] + sequence_lengths[i]\n",
    "                ):\n",
    "                    outfile.write(\n",
    "                        f\"{seq_idx},{probs_dms[i, seq_idx - min_seq_idxs[i]]:.3f},{probs_2a3[i, seq_idx - min_seq_idxs[i]]:.3f}\\n\"\n",
    "                    )"
   ]
  },
  {
   "cell_type": "code",
   "execution_count": 44,
   "metadata": {
    "ExecuteTime": {
     "start_time": "2023-10-05T17:14:01.248308Z"
    },
    "is_executing": true
   },
   "outputs": [
    {
     "name": "stderr",
     "output_type": "stream",
     "text": [
      "100%|██████████| 5250/5250 [1:06:52<00:00,  1.31it/s]\n"
     ]
    }
   ],
   "source": [
    "if valid:\n",
    "    pipeline(\n",
    "        model_2a3, model_dms, \"test_sequences.csv\", \"submission.csv\", batch_size=256\n",
    "    )\n",
    "else:\n",
    "    print(\"Not going to create submissions.\")"
   ]
  },
  {
   "cell_type": "code",
   "execution_count": 45,
   "metadata": {
    "is_executing": true
   },
   "outputs": [
    {
     "name": "stdout",
     "output_type": "stream",
     "text": [
      "zipping submissions. This may take a while...\n",
      "updating: submission.csv (deflated 80%)\n",
      "Done zipping submissions!\n"
     ]
    }
   ],
   "source": [
    "if valid:\n",
    "    # zip our submission into an easily-uploadable zip file\n",
    "    print(\"zipping submissions. This may take a while...\")\n",
    "    os.system(\"zip submission.csv.zip submission.csv\")\n",
    "    print(\"Done zipping submissions!\")\n",
    "else:\n",
    "    print(\"Not going to zip submissions.\")"
   ]
  },
  {
   "cell_type": "code",
   "execution_count": null,
   "metadata": {
    "collapsed": false
   },
   "outputs": [],
   "source": []
  }
 ],
 "metadata": {
  "kernelspec": {
   "display_name": "tf",
   "language": "python",
   "name": "python3"
  },
  "language_info": {
   "codemirror_mode": {
    "name": "ipython",
    "version": 3
   },
   "file_extension": ".py",
   "mimetype": "text/x-python",
   "name": "python",
   "nbconvert_exporter": "python",
   "pygments_lexer": "ipython3",
   "version": "3.11.5"
  },
  "orig_nbformat": 4
 },
 "nbformat": 4,
 "nbformat_minor": 2
}
